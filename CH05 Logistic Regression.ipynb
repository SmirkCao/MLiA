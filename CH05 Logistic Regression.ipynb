{
 "cells": [
  {
   "cell_type": "markdown",
   "metadata": {},
   "source": [
    "# CH5 Logistic Regression"
   ]
  },
  {
   "cell_type": "markdown",
   "metadata": {},
   "source": [
    "直接使用Pandas的DataFrame还是很简单的"
   ]
  },
  {
   "cell_type": "code",
   "execution_count": 91,
   "metadata": {
    "collapsed": true
   },
   "outputs": [],
   "source": [
    "import numpy as np\n",
    "import pandas as pd\n",
    "\n",
    "import progressbar\n",
    "import logging\n",
    "progressbar.streams.wrap_stdout()\n",
    "logging.basicConfig(level=logging.INFO,\n",
    "                    format='%(asctime)s - [line:%(lineno)d] - %(levelname)s: %(message)s',\n",
    "                    datefmt='%Y-%m-%d %H:%M:%S')\n",
    "\n",
    "import warnings\n",
    "warnings.filterwarnings(\"ignore\")\n"
   ]
  },
  {
   "cell_type": "code",
   "execution_count": 92,
   "metadata": {},
   "outputs": [
    {
     "name": "stderr",
     "output_type": "stream",
     "text": [
      "2018-06-24 08:53:00 - [line:1] - INFO: test\n"
     ]
    }
   ],
   "source": [
    "logging.info(\"test\")"
   ]
  },
  {
   "cell_type": "code",
   "execution_count": 93,
   "metadata": {},
   "outputs": [
    {
     "data": {
      "text/html": [
       "<div>\n",
       "<style>\n",
       "    .dataframe thead tr:only-child th {\n",
       "        text-align: right;\n",
       "    }\n",
       "\n",
       "    .dataframe thead th {\n",
       "        text-align: left;\n",
       "    }\n",
       "\n",
       "    .dataframe tbody tr th {\n",
       "        vertical-align: top;\n",
       "    }\n",
       "</style>\n",
       "<table border=\"1\" class=\"dataframe\">\n",
       "  <thead>\n",
       "    <tr style=\"text-align: right;\">\n",
       "      <th></th>\n",
       "      <th>0</th>\n",
       "      <th>1</th>\n",
       "      <th>2</th>\n",
       "    </tr>\n",
       "  </thead>\n",
       "  <tbody>\n",
       "    <tr>\n",
       "      <th>0</th>\n",
       "      <td>-0.017612</td>\n",
       "      <td>14.053064</td>\n",
       "      <td>0</td>\n",
       "    </tr>\n",
       "    <tr>\n",
       "      <th>1</th>\n",
       "      <td>-1.395634</td>\n",
       "      <td>4.662541</td>\n",
       "      <td>1</td>\n",
       "    </tr>\n",
       "  </tbody>\n",
       "</table>\n",
       "</div>"
      ],
      "text/plain": [
       "          0          1  2\n",
       "0 -0.017612  14.053064  0\n",
       "1 -1.395634   4.662541  1"
      ]
     },
     "execution_count": 93,
     "metadata": {},
     "output_type": "execute_result"
    }
   ],
   "source": [
    "df = pd.read_csv(\"./Data/testSet.txt\",sep=\"\\t\",header=None)\n",
    "df.head(2)"
   ]
  },
  {
   "cell_type": "code",
   "execution_count": 94,
   "metadata": {
    "collapsed": true
   },
   "outputs": [],
   "source": [
    "def loadDataSet():\n",
    "    dataMat = [];labelMat = []\n",
    "    with open(\"./Data/testSet.txt\") as fr:\n",
    "        for line in fr.readlines():\n",
    "            lineArr = line.strip().split()\n",
    "            dataMat.append([1, float(lineArr[0]), float(lineArr[1])])\n",
    "            labelMat.append(int(lineArr[2]))\n",
    "    return dataMat, labelMat    "
   ]
  },
  {
   "cell_type": "markdown",
   "metadata": {},
   "source": [
    "## MLiA"
   ]
  },
  {
   "cell_type": "markdown",
   "metadata": {},
   "source": [
    "西瓜书上这样说：\n",
    "1. 直接对分类的可能进行建模，无需事先假设数据分布，避免了假设分布不准所带来的问题\n",
    "1. 能拿到近似概率的预测结果\n",
    "1. 对率函数任意阶可导凸函数，有很好的数学性质"
   ]
  },
  {
   "cell_type": "markdown",
   "metadata": {},
   "source": [
    "### Sigmoid Function"
   ]
  },
  {
   "cell_type": "markdown",
   "metadata": {},
   "source": [
    "这个函数有个推导，[李航,2012,P78]\n",
    "- 有时候为了方便，将权值向量和输入向量加以扩充\n",
    "$$w=(w^{(1)},w^{(2)},...,w^{(n)},b)^T$$\n",
    "$$x=(x^{(1)},x^{(2)},...,x^{(n)},1)^T$$\n",
    "\n",
    "这时LogisticRegression 模型可以表示为\n",
    "$$P(Y=1\\vert x)=\\frac{exp(w\\cdot x)}{1+exp(w\\cdot x)}$$\n",
    "$$P(Y=0\\vert x)=\\frac{1}{1+exp(w\\cdot x)}$$\n",
    "\n",
    "用这个去理解“为了计算方便，该函数还将X0的值设为1.0”\n",
    "\n",
    "还有，李航和MLiA里面讲这里都是在78页。。。。"
   ]
  },
  {
   "cell_type": "code",
   "execution_count": 95,
   "metadata": {
    "collapsed": true
   },
   "outputs": [],
   "source": [
    "def sigmoid(inX):\n",
    "    return 1/(1 + np.exp(-inX))"
   ]
  },
  {
   "cell_type": "markdown",
   "metadata": {},
   "source": [
    "### Best W"
   ]
  },
  {
   "cell_type": "code",
   "execution_count": null,
   "metadata": {
    "collapsed": true
   },
   "outputs": [],
   "source": []
  },
  {
   "cell_type": "markdown",
   "metadata": {},
   "source": [
    "#### GB"
   ]
  },
  {
   "cell_type": "code",
   "execution_count": 96,
   "metadata": {
    "collapsed": true
   },
   "outputs": [],
   "source": [
    "def gradAscent(dataMatIn, classLabels):\n",
    "    dataMatrix = np.mat(dataMatIn)\n",
    "    labelMatrix = np.mat(classLabels).transpose()\n",
    "    m,n = np.shape(dataMatrix)\n",
    "#     print(m,n)\n",
    "    alpha = 0.001\n",
    "    maxCycles = 500\n",
    "    weights = np.ones((n,1))\n",
    "    for k in list(range(maxCycles)):\n",
    "        h = sigmoid(dataMatrix*weights)\n",
    "#         print(np.shape(h))\n",
    "        error = (labelMatrix - h)\n",
    "        # return array\n",
    "#         weights += alpha*dataMatrix.transpose()*error\n",
    "        # return matrix\n",
    "        weights = weights + alpha*dataMatrix.transpose()*error\n",
    "    return weights"
   ]
  },
  {
   "cell_type": "code",
   "execution_count": 97,
   "metadata": {
    "collapsed": true
   },
   "outputs": [],
   "source": [
    "dataArr,labelMat = loadDataSet()"
   ]
  },
  {
   "cell_type": "code",
   "execution_count": 98,
   "metadata": {
    "collapsed": true
   },
   "outputs": [],
   "source": [
    "wei = gradAscent(dataArr,labelMat)"
   ]
  },
  {
   "cell_type": "code",
   "execution_count": 99,
   "metadata": {},
   "outputs": [
    {
     "data": {
      "text/plain": [
       "matrix([[ 4.12414349],\n",
       "        [ 0.48007329],\n",
       "        [-0.6168482 ]])"
      ]
     },
     "execution_count": 99,
     "metadata": {},
     "output_type": "execute_result"
    }
   ],
   "source": [
    "wei"
   ]
  },
  {
   "cell_type": "code",
   "execution_count": 100,
   "metadata": {},
   "outputs": [
    {
     "data": {
      "text/plain": [
       "6.685832121185382"
      ]
     },
     "execution_count": 100,
     "metadata": {},
     "output_type": "execute_result"
    }
   ],
   "source": [
    "-wei[0,0]/wei[2,0] # 最后可视化的截距"
   ]
  },
  {
   "cell_type": "markdown",
   "metadata": {},
   "source": [
    "绘制决策边界"
   ]
  },
  {
   "cell_type": "code",
   "execution_count": 101,
   "metadata": {
    "collapsed": true
   },
   "outputs": [],
   "source": [
    "def plotBestFit(wei):\n",
    "    import matplotlib.pyplot as plt\n",
    "    weights = wei if type(wei).__name__ == 'ndarray' else wei.getA()\n",
    "    dataMat, labelMat = loadDataSet()\n",
    "    dataArr = np.array(dataMat)\n",
    "#     print(dataArr)\n",
    "    n = np.shape(dataArr)[0]\n",
    "    xcord1 = []; ycord1 = []\n",
    "    xcord2 = []; ycord2 = []\n",
    "    for i in range(n):\n",
    "        if int(labelMat[i]) == 1:\n",
    "            xcord1.append(dataArr[i,1]); ycord1.append(dataArr[i,2])\n",
    "        else:\n",
    "            xcord2.append(dataArr[i,1]);ycord2.append(dataArr[i,2])\n",
    "    fig = plt.figure()\n",
    "    ax = fig.add_subplot(111)\n",
    "    ax.scatter(xcord1,ycord1,s=30,c=\"red\",marker=\"s\")\n",
    "    ax.scatter(xcord2,ycord2,s=30,c=\"green\")\n",
    "    x = np.arange(-3.0, 3.0, 0.1)\n",
    "#   sigmoid = 0,从图像看 0是分类的分界点\n",
    "    y = (-weights[0]-weights[1]*x)/weights[2]\n",
    "    ax.plot(x,y)\n",
    "    plt.xlabel(\"X1\");plt.ylabel(\"X2\")\n",
    "    plt.show()"
   ]
  },
  {
   "cell_type": "code",
   "execution_count": 102,
   "metadata": {
    "scrolled": true
   },
   "outputs": [
    {
     "data": {
      "image/png": "[encoded data removed]",
      "text/plain": [
       "<matplotlib.figure.Figure at 0x28702e2e978>"
      ]
     },
     "metadata": {},
     "output_type": "display_data"
    }
   ],
   "source": [
    "plotBestFit(wei)"
   ]
  },
  {
   "cell_type": "markdown",
   "metadata": {
    "collapsed": true
   },
   "source": [
    "#### SGB"
   ]
  },
  {
   "cell_type": "code",
   "execution_count": 103,
   "metadata": {
    "collapsed": true
   },
   "outputs": [],
   "source": [
    "def stocGradAscent0(dataMatrix, classLabels):\n",
    "    m,n = np.shape(dataMatrix)\n",
    "    alpha = 0.01\n",
    "    weights = np.ones(n)\n",
    "    for i in range(m):\n",
    "        h = sigmoid(sum(dataMatrix[i]*weights))\n",
    "#         print(np.shape(h))\n",
    "        error = classLabels[i] - h\n",
    "        weights = weights + alpha*error*dataMatrix[i]\n",
    "    return weights"
   ]
  },
  {
   "cell_type": "code",
   "execution_count": 104,
   "metadata": {},
   "outputs": [
    {
     "data": {
      "text/plain": [
       "array([ 1.01702007,  0.85914348, -0.36579921])"
      ]
     },
     "execution_count": 104,
     "metadata": {},
     "output_type": "execute_result"
    }
   ],
   "source": [
    "dataArr,labelMat = loadDataSet()\n",
    "wei = stocGradAscent0(np.array(dataArr),labelMat)\n",
    "wei"
   ]
  },
  {
   "cell_type": "code",
   "execution_count": 105,
   "metadata": {},
   "outputs": [
    {
     "data": {
      "image/png": "[encoded data removed]",
      "text/plain": [
       "<matplotlib.figure.Figure at 0x28702ec4828>"
      ]
     },
     "metadata": {},
     "output_type": "display_data"
    }
   ],
   "source": [
    "plotBestFit(wei)"
   ]
  },
  {
   "cell_type": "code",
   "execution_count": 106,
   "metadata": {
    "collapsed": true
   },
   "outputs": [],
   "source": [
    "def stocGradAscent(dataMatrix, classLabels,numIter = 150):\n",
    "    m,n = np.shape(dataMatrix)\n",
    "    alpha = 0.01\n",
    "    weights = np.ones(n)\n",
    "    for x in range(numIter):\n",
    "        for i in range(m):\n",
    "            h = sigmoid(sum(dataMatrix[i]*weights))\n",
    "    #         print(np.shape(h))\n",
    "            error = classLabels[i] - h\n",
    "            weights = weights + alpha*error*dataMatrix[i]\n",
    "            if x == 0 and i == 0:\n",
    "                result = weights\n",
    "            else:\n",
    "                result = np.vstack([result,weights])\n",
    "    return weights,result"
   ]
  },
  {
   "cell_type": "markdown",
   "metadata": {},
   "source": [
    "###### 迭代过程"
   ]
  },
  {
   "cell_type": "code",
   "execution_count": 107,
   "metadata": {},
   "outputs": [
    {
     "data": {
      "image/png": "[encoded data removed]",
      "text/plain": [
       "<matplotlib.figure.Figure at 0x28702f44710>"
      ]
     },
     "metadata": {},
     "output_type": "display_data"
    }
   ],
   "source": [
    "wei,result = stocGradAscent(np.array(dataArr),labelMat,numIter = 200)\n",
    "\n",
    "x0 = result.transpose()[0]\n",
    "x1 = result.transpose()[1]\n",
    "x2 = result.transpose()[2]\n",
    "y = np.arange(0, len(x0), 1)\n",
    "import matplotlib.pyplot as plt\n",
    "plt.figure(figsize=(15,8))\n",
    "\n",
    "plt.subplot(311)\n",
    "plt.plot(y,x0)\n",
    "plt.subplot(312)\n",
    "plt.plot(y,x1)\n",
    "plt.subplot(313)\n",
    "plt.plot(y,x2)\n",
    "plt.show()"
   ]
  },
  {
   "cell_type": "markdown",
   "metadata": {},
   "source": [
    "抖动是来自样本之间的差异，数据集并非线性可分"
   ]
  },
  {
   "cell_type": "markdown",
   "metadata": {},
   "source": [
    "###### 改进"
   ]
  },
  {
   "cell_type": "code",
   "execution_count": 108,
   "metadata": {
    "collapsed": true
   },
   "outputs": [],
   "source": [
    "def stocGradAscent1(dataMatrix, classLabels,numIter = 150):\n",
    "    m,n = np.shape(dataMatrix)\n",
    "    weights = np.ones(n)\n",
    "    for i in progressbar.progressbar(range(numIter)):\n",
    "#         print(\"Iterations %d\" % i)\n",
    "        dataIndex = list(range(m))\n",
    "        for j in range(m):\n",
    "            alpha = 4/(1 + j + i) + 0.01\n",
    "            randIndex = int(np.random.uniform(0,len(dataIndex)))            \n",
    "            h = sigmoid(sum(dataMatrix[randIndex]*weights))\n",
    "            error = classLabels[randIndex] - h\n",
    "            weights = weights + alpha*error*dataMatrix[randIndex]\n",
    "            del(dataIndex[randIndex])\n",
    "            if i == 0 and j == 0:\n",
    "                result = weights\n",
    "            else:\n",
    "                result = np.vstack([result,weights])\n",
    "    return weights,result"
   ]
  },
  {
   "cell_type": "code",
   "execution_count": 109,
   "metadata": {},
   "outputs": [
    {
     "name": "stderr",
     "output_type": "stream",
     "text": [
      "100% (40 of 40) |########################| Elapsed Time: 0:00:00 Time:  0:00:00\n"
     ]
    },
    {
     "data": {
      "image/png": "[encoded data removed]",
      "text/plain": [
       "<matplotlib.figure.Figure at 0x28702feae10>"
      ]
     },
     "metadata": {},
     "output_type": "display_data"
    }
   ],
   "source": [
    "wei,result = stocGradAscent1(np.array(dataArr),labelMat,numIter = 40)\n",
    "\n",
    "x0 = result.transpose()[0]\n",
    "x1 = result.transpose()[1]\n",
    "x2 = result.transpose()[2]\n",
    "y = np.arange(0,len(x0), 1)\n",
    "import matplotlib.pyplot as plt\n",
    "plt.figure(figsize=(15,8))\n",
    "\n",
    "plt.subplot(311)\n",
    "plt.plot(y,x0)\n",
    "plt.subplot(312)\n",
    "plt.plot(y,x1)\n",
    "plt.subplot(313)\n",
    "plt.plot(y,x2)\n",
    "plt.show()"
   ]
  },
  {
   "cell_type": "code",
   "execution_count": 110,
   "metadata": {},
   "outputs": [
    {
     "data": {
      "image/png": "[encoded data removed]",
      "text/plain": [
       "<matplotlib.figure.Figure at 0x28702f82898>"
      ]
     },
     "metadata": {},
     "output_type": "display_data"
    }
   ],
   "source": [
    "plotBestFit(wei)"
   ]
  },
  {
   "cell_type": "markdown",
   "metadata": {},
   "source": [
    "### EX : Horse Colic"
   ]
  },
  {
   "cell_type": "markdown",
   "metadata": {},
   "source": [
    "#### by np"
   ]
  },
  {
   "cell_type": "code",
   "execution_count": 111,
   "metadata": {
    "collapsed": true
   },
   "outputs": [],
   "source": [
    "def classifyVector(inX,weights):\n",
    "    prob = sigmoid(sum(inX*weights))\n",
    "    if prob > 0.5: return 1\n",
    "    else: return 0"
   ]
  },
  {
   "cell_type": "code",
   "execution_count": 112,
   "metadata": {
    "collapsed": true
   },
   "outputs": [],
   "source": [
    "def colicTest():\n",
    "    frTrain = open(\"./Data/CH5/horseColicTraining.txt\")\n",
    "    frTest = open(\"./Data/CH5/horseColicTest.txt\")\n",
    "    trainingSet = []; trainingLabels = []\n",
    "    for line in frTrain.readlines():\n",
    "        currLine = line.strip().split(\"\\t\")\n",
    "        lineArr = []\n",
    "        for i in range(21):\n",
    "            lineArr.append(float(currLine[i]))\n",
    "        trainingSet.append(lineArr)\n",
    "        trainingLabels.append(float(currLine[21]))\n",
    "\n",
    "    trainWeights, results = stocGradAscent1(np.array(trainingSet),trainingLabels,numIter = 50)\n",
    "    errorCount = 0; numTestVec = 0\n",
    "    for line in frTest.readlines():\n",
    "        numTestVec += 1\n",
    "        currLine = line.strip().split(\"\\t\")\n",
    "        lineArr = []\n",
    "        for i in range(21):\n",
    "            lineArr.append(float(currLine[i]))\n",
    "        if int(classifyVector(np.array(lineArr),trainWeights)) != int(currLine[21]):\n",
    "            errorCount += 1\n",
    "    errorRate = errorCount/numTestVec\n",
    "    logging.info(\"the error rate of this test is: %f\" , errorRate)\n",
    "    return errorRate"
   ]
  },
  {
   "cell_type": "code",
   "execution_count": 113,
   "metadata": {
    "collapsed": true
   },
   "outputs": [],
   "source": [
    "def multiTest():\n",
    "    numTests = 5; errorSum=0\n",
    "    for k in range(numTests):\n",
    "        errorSum +=colicTest()\n",
    "    logging.info(\"after %d iterations the average error rate is: %f\", numTests, errorSum/numTests)"
   ]
  },
  {
   "cell_type": "code",
   "execution_count": 114,
   "metadata": {},
   "outputs": [
    {
     "name": "stderr",
     "output_type": "stream",
     "text": [
      "2018-06-24 08:53:03 - [line:1] - INFO: \n"
     ]
    }
   ],
   "source": [
    "logging.info(\"\")"
   ]
  },
  {
   "cell_type": "code",
   "execution_count": 115,
   "metadata": {},
   "outputs": [
    {
     "name": "stderr",
     "output_type": "stream",
     "text": [
      "100% (50 of 50) |########################| Elapsed Time: 0:00:10 Time:  0:00:10\n",
      "2018-06-24 08:53:14 - [line:24] - INFO: the error rate of this test is: 0.447761\n",
      "100% (50 of 50) |########################| Elapsed Time: 0:00:10 Time:  0:00:10\n",
      "2018-06-24 08:53:25 - [line:24] - INFO: the error rate of this test is: 0.537313\n",
      "100% (50 of 50) |########################| Elapsed Time: 0:00:10 Time:  0:00:10\n",
      "2018-06-24 08:53:35 - [line:24] - INFO: the error rate of this test is: 0.343284\n",
      "100% (50 of 50) |########################| Elapsed Time: 0:00:10 Time:  0:00:10\n",
      "2018-06-24 08:53:46 - [line:24] - INFO: the error rate of this test is: 0.417910\n",
      "100% (50 of 50) |########################| Elapsed Time: 0:00:10 Time:  0:00:10\n",
      "2018-06-24 08:53:57 - [line:24] - INFO: the error rate of this test is: 0.343284\n",
      "2018-06-24 08:53:57 - [line:5] - INFO: after 5 iterations the average error rate is: 0.417910\n"
     ]
    }
   ],
   "source": [
    "multiTest()"
   ]
  },
  {
   "cell_type": "markdown",
   "metadata": {},
   "source": [
    "#### by pd"
   ]
  },
  {
   "cell_type": "code",
   "execution_count": 116,
   "metadata": {
    "collapsed": true
   },
   "outputs": [],
   "source": [
    "import pandas as pd"
   ]
  },
  {
   "cell_type": "code",
   "execution_count": 117,
   "metadata": {
    "collapsed": true
   },
   "outputs": [],
   "source": [
    "train_df = pd.read_table(\"./Data/CH5/horseColicTraining.txt\",header=None)\n",
    "test_df = pd.read_table(\"./Data/CH5/horseColicTest.txt\",header=None)"
   ]
  },
  {
   "cell_type": "code",
   "execution_count": 118,
   "metadata": {},
   "outputs": [
    {
     "data": {
      "text/html": [
       "<div>\n",
       "<style>\n",
       "    .dataframe thead tr:only-child th {\n",
       "        text-align: right;\n",
       "    }\n",
       "\n",
       "    .dataframe thead th {\n",
       "        text-align: left;\n",
       "    }\n",
       "\n",
       "    .dataframe tbody tr th {\n",
       "        vertical-align: top;\n",
       "    }\n",
       "</style>\n",
       "<table border=\"1\" class=\"dataframe\">\n",
       "  <thead>\n",
       "    <tr style=\"text-align: right;\">\n",
       "      <th></th>\n",
       "      <th>0</th>\n",
       "      <th>1</th>\n",
       "      <th>2</th>\n",
       "      <th>3</th>\n",
       "      <th>4</th>\n",
       "      <th>5</th>\n",
       "      <th>6</th>\n",
       "      <th>7</th>\n",
       "      <th>8</th>\n",
       "      <th>9</th>\n",
       "      <th>...</th>\n",
       "      <th>12</th>\n",
       "      <th>13</th>\n",
       "      <th>14</th>\n",
       "      <th>15</th>\n",
       "      <th>16</th>\n",
       "      <th>17</th>\n",
       "      <th>18</th>\n",
       "      <th>19</th>\n",
       "      <th>20</th>\n",
       "      <th>21</th>\n",
       "    </tr>\n",
       "  </thead>\n",
       "  <tbody>\n",
       "    <tr>\n",
       "      <th>0</th>\n",
       "      <td>2.0</td>\n",
       "      <td>1.0</td>\n",
       "      <td>38.5</td>\n",
       "      <td>66.0</td>\n",
       "      <td>28.0</td>\n",
       "      <td>3.0</td>\n",
       "      <td>3.0</td>\n",
       "      <td>0.0</td>\n",
       "      <td>2.0</td>\n",
       "      <td>5.0</td>\n",
       "      <td>...</td>\n",
       "      <td>0.0</td>\n",
       "      <td>0.0</td>\n",
       "      <td>0.0</td>\n",
       "      <td>3.0</td>\n",
       "      <td>5.0</td>\n",
       "      <td>45.0</td>\n",
       "      <td>8.4</td>\n",
       "      <td>0.0</td>\n",
       "      <td>0.0</td>\n",
       "      <td>0.0</td>\n",
       "    </tr>\n",
       "    <tr>\n",
       "      <th>1</th>\n",
       "      <td>1.0</td>\n",
       "      <td>1.0</td>\n",
       "      <td>39.2</td>\n",
       "      <td>88.0</td>\n",
       "      <td>20.0</td>\n",
       "      <td>0.0</td>\n",
       "      <td>0.0</td>\n",
       "      <td>4.0</td>\n",
       "      <td>1.0</td>\n",
       "      <td>3.0</td>\n",
       "      <td>...</td>\n",
       "      <td>0.0</td>\n",
       "      <td>0.0</td>\n",
       "      <td>0.0</td>\n",
       "      <td>4.0</td>\n",
       "      <td>2.0</td>\n",
       "      <td>50.0</td>\n",
       "      <td>85.0</td>\n",
       "      <td>2.0</td>\n",
       "      <td>2.0</td>\n",
       "      <td>0.0</td>\n",
       "    </tr>\n",
       "  </tbody>\n",
       "</table>\n",
       "<p>2 rows × 22 columns</p>\n",
       "</div>"
      ],
      "text/plain": [
       "    0    1     2     3     4    5    6    7    8    9  ...    12   13   14  \\\n",
       "0  2.0  1.0  38.5  66.0  28.0  3.0  3.0  0.0  2.0  5.0 ...   0.0  0.0  0.0   \n",
       "1  1.0  1.0  39.2  88.0  20.0  0.0  0.0  4.0  1.0  3.0 ...   0.0  0.0  0.0   \n",
       "\n",
       "    15   16    17    18   19   20   21  \n",
       "0  3.0  5.0  45.0   8.4  0.0  0.0  0.0  \n",
       "1  4.0  2.0  50.0  85.0  2.0  2.0  0.0  \n",
       "\n",
       "[2 rows x 22 columns]"
      ]
     },
     "execution_count": 118,
     "metadata": {},
     "output_type": "execute_result"
    }
   ],
   "source": [
    "train_df.head(2)"
   ]
  },
  {
   "cell_type": "code",
   "execution_count": 119,
   "metadata": {
    "scrolled": true
   },
   "outputs": [
    {
     "data": {
      "text/html": [
       "<div>\n",
       "<style>\n",
       "    .dataframe thead tr:only-child th {\n",
       "        text-align: right;\n",
       "    }\n",
       "\n",
       "    .dataframe thead th {\n",
       "        text-align: left;\n",
       "    }\n",
       "\n",
       "    .dataframe tbody tr th {\n",
       "        vertical-align: top;\n",
       "    }\n",
       "</style>\n",
       "<table border=\"1\" class=\"dataframe\">\n",
       "  <thead>\n",
       "    <tr style=\"text-align: right;\">\n",
       "      <th></th>\n",
       "      <th>0</th>\n",
       "      <th>1</th>\n",
       "      <th>2</th>\n",
       "      <th>3</th>\n",
       "      <th>4</th>\n",
       "      <th>5</th>\n",
       "      <th>6</th>\n",
       "      <th>7</th>\n",
       "      <th>8</th>\n",
       "      <th>9</th>\n",
       "      <th>...</th>\n",
       "      <th>12</th>\n",
       "      <th>13</th>\n",
       "      <th>14</th>\n",
       "      <th>15</th>\n",
       "      <th>16</th>\n",
       "      <th>17</th>\n",
       "      <th>18</th>\n",
       "      <th>19</th>\n",
       "      <th>20</th>\n",
       "      <th>21</th>\n",
       "    </tr>\n",
       "  </thead>\n",
       "  <tbody>\n",
       "    <tr>\n",
       "      <th>0</th>\n",
       "      <td>2</td>\n",
       "      <td>1</td>\n",
       "      <td>38.5</td>\n",
       "      <td>54</td>\n",
       "      <td>20</td>\n",
       "      <td>0</td>\n",
       "      <td>1</td>\n",
       "      <td>2</td>\n",
       "      <td>2</td>\n",
       "      <td>3</td>\n",
       "      <td>...</td>\n",
       "      <td>2</td>\n",
       "      <td>2</td>\n",
       "      <td>5.9</td>\n",
       "      <td>0</td>\n",
       "      <td>2</td>\n",
       "      <td>42.0</td>\n",
       "      <td>6.3</td>\n",
       "      <td>0</td>\n",
       "      <td>0.0</td>\n",
       "      <td>1</td>\n",
       "    </tr>\n",
       "    <tr>\n",
       "      <th>1</th>\n",
       "      <td>2</td>\n",
       "      <td>1</td>\n",
       "      <td>37.6</td>\n",
       "      <td>48</td>\n",
       "      <td>36</td>\n",
       "      <td>0</td>\n",
       "      <td>0</td>\n",
       "      <td>1</td>\n",
       "      <td>1</td>\n",
       "      <td>0</td>\n",
       "      <td>...</td>\n",
       "      <td>0</td>\n",
       "      <td>0</td>\n",
       "      <td>0.0</td>\n",
       "      <td>0</td>\n",
       "      <td>0</td>\n",
       "      <td>44.0</td>\n",
       "      <td>6.3</td>\n",
       "      <td>1</td>\n",
       "      <td>5.0</td>\n",
       "      <td>1</td>\n",
       "    </tr>\n",
       "  </tbody>\n",
       "</table>\n",
       "<p>2 rows × 22 columns</p>\n",
       "</div>"
      ],
      "text/plain": [
       "   0   1     2   3   4   5   6   7   8   9  ...  12  13   14  15  16    17  \\\n",
       "0   2   1  38.5  54  20   0   1   2   2   3 ...   2   2  5.9   0   2  42.0   \n",
       "1   2   1  37.6  48  36   0   0   1   1   0 ...   0   0  0.0   0   0  44.0   \n",
       "\n",
       "    18  19   20  21  \n",
       "0  6.3   0  0.0   1  \n",
       "1  6.3   1  5.0   1  \n",
       "\n",
       "[2 rows x 22 columns]"
      ]
     },
     "execution_count": 119,
     "metadata": {},
     "output_type": "execute_result"
    }
   ],
   "source": [
    "test_df.head(2)"
   ]
  },
  {
   "cell_type": "code",
   "execution_count": 120,
   "metadata": {
    "collapsed": true
   },
   "outputs": [],
   "source": [
    "def colicTest_df():\n",
    "    train_df = pd.read_table(\"./Data/CH5/horseColicTraining.txt\",header=None)\n",
    "    test_df = pd.read_table(\"./Data/CH5/horseColicTest.txt\",header=None)\n",
    "    trainingSet = train_df[list(range(21))].values\n",
    "    trainingLabels = train_df[[21]].values\n",
    "    trainWeights, results = stocGradAscent1(trainingSet,trainingLabels,numIter = 50)\n",
    "    errorCount = 0; numTestVec = 0\n",
    "    testSet = test_df[list(range(21))].values\n",
    "    testLabels = test_df[[21]].values.reshape(-1)\n",
    "    errorRate = sum(sigmoid(sum((testSet*trainWeights).T)).astype(\"int32\") != testLabels)/len(testLabels)\n",
    "    logging.info(\"the error rate of this test is: %f\" , errorRate)\n",
    "    return errorRate"
   ]
  },
  {
   "cell_type": "code",
   "execution_count": 121,
   "metadata": {},
   "outputs": [
    {
     "name": "stderr",
     "output_type": "stream",
     "text": [
      "100% (50 of 50) |########################| Elapsed Time: 0:00:11 Time:  0:00:11\n",
      "2018-06-24 08:54:08 - [line:11] - INFO: the error rate of this test is: 0.447761\n"
     ]
    },
    {
     "data": {
      "text/plain": [
       "0.44776119402985076"
      ]
     },
     "execution_count": 121,
     "metadata": {},
     "output_type": "execute_result"
    }
   ],
   "source": [
    "colicTest_df()"
   ]
  },
  {
   "cell_type": "code",
   "execution_count": 122,
   "metadata": {
    "collapsed": true
   },
   "outputs": [],
   "source": [
    "def multiTest_df():\n",
    "    numTests = 5; errorSum=0\n",
    "    for k in range(numTests):\n",
    "        errorSum +=colicTest_df()\n",
    "    logging.info(\"after %d iterations the average error rate is: %f\", numTests, errorSum/numTests)"
   ]
  },
  {
   "cell_type": "code",
   "execution_count": 123,
   "metadata": {
    "scrolled": true
   },
   "outputs": [
    {
     "name": "stderr",
     "output_type": "stream",
     "text": [
      "100% (50 of 50) |########################| Elapsed Time: 0:00:10 Time:  0:00:10\n",
      "2018-06-24 08:54:19 - [line:11] - INFO: the error rate of this test is: 0.492537\n",
      "100% (50 of 50) |########################| Elapsed Time: 0:00:10 Time:  0:00:10\n",
      "2018-06-24 08:54:29 - [line:11] - INFO: the error rate of this test is: 0.402985\n",
      "100% (50 of 50) |########################| Elapsed Time: 0:00:11 Time:  0:00:11\n",
      "2018-06-24 08:54:41 - [line:11] - INFO: the error rate of this test is: 0.492537\n",
      "100% (50 of 50) |########################| Elapsed Time: 0:00:10 Time:  0:00:10\n",
      "2018-06-24 08:54:51 - [line:11] - INFO: the error rate of this test is: 0.552239\n",
      "100% (50 of 50) |########################| Elapsed Time: 0:00:11 Time:  0:00:11\n",
      "2018-06-24 08:55:03 - [line:11] - INFO: the error rate of this test is: 0.567164\n",
      "2018-06-24 08:55:03 - [line:5] - INFO: after 5 iterations the average error rate is: 0.501493\n"
     ]
    }
   ],
   "source": [
    "multiTest_df()"
   ]
  },
  {
   "cell_type": "markdown",
   "metadata": {},
   "source": [
    "## Sklearn"
   ]
  },
  {
   "cell_type": "markdown",
   "metadata": {},
   "source": [
    "### Load Data"
   ]
  },
  {
   "cell_type": "code",
   "execution_count": 124,
   "metadata": {
    "collapsed": true
   },
   "outputs": [],
   "source": [
    "def loadDataSet():\n",
    "    dataMat = [];labelMat = []\n",
    "    with open(\"./Data/testSet.txt\") as fr:\n",
    "        for line in fr.readlines():\n",
    "            lineArr = line.strip().split()\n",
    "            dataMat.append([1, float(lineArr[0]), float(lineArr[1])])\n",
    "            labelMat.append(int(lineArr[2]))\n",
    "    return dataMat, labelMat    "
   ]
  },
  {
   "cell_type": "code",
   "execution_count": 125,
   "metadata": {
    "collapsed": true
   },
   "outputs": [],
   "source": [
    "dataMat, labelMat = loadDataSet()"
   ]
  },
  {
   "cell_type": "code",
   "execution_count": 126,
   "metadata": {
    "collapsed": true
   },
   "outputs": [],
   "source": [
    "X = np.array(dataMat)\n",
    "y = np.array(labelMat)"
   ]
  },
  {
   "cell_type": "markdown",
   "metadata": {},
   "source": [
    "### GD"
   ]
  },
  {
   "cell_type": "markdown",
   "metadata": {},
   "source": [
    "#### Modeling"
   ]
  },
  {
   "cell_type": "code",
   "execution_count": 127,
   "metadata": {
    "collapsed": true
   },
   "outputs": [],
   "source": [
    "from sklearn.linear_model import LogisticRegression\n",
    "lr = LogisticRegression()"
   ]
  },
  {
   "cell_type": "code",
   "execution_count": 128,
   "metadata": {},
   "outputs": [
    {
     "data": {
      "text/plain": [
       "LogisticRegression(C=1.0, class_weight=None, dual=False, fit_intercept=True,\n",
       "          intercept_scaling=1, max_iter=100, multi_class='ovr', n_jobs=1,\n",
       "          penalty='l2', random_state=None, solver='liblinear', tol=0.0001,\n",
       "          verbose=0, warm_start=False)"
      ]
     },
     "execution_count": 128,
     "metadata": {},
     "output_type": "execute_result"
    }
   ],
   "source": [
    "lr.fit(X,y)"
   ]
  },
  {
   "cell_type": "code",
   "execution_count": 129,
   "metadata": {},
   "outputs": [
    {
     "data": {
      "text/plain": [
       "array([[ 2.45317293,  0.51690909, -0.71377635]])"
      ]
     },
     "execution_count": 129,
     "metadata": {},
     "output_type": "execute_result"
    }
   ],
   "source": [
    "lr.coef_"
   ]
  },
  {
   "cell_type": "code",
   "execution_count": 130,
   "metadata": {},
   "outputs": [
    {
     "data": {
      "text/plain": [
       "array([2.45317293])"
      ]
     },
     "execution_count": 130,
     "metadata": {},
     "output_type": "execute_result"
    }
   ],
   "source": [
    "lr.intercept_"
   ]
  },
  {
   "cell_type": "markdown",
   "metadata": {},
   "source": [
    "#### Decision Boundary"
   ]
  },
  {
   "cell_type": "code",
   "execution_count": 131,
   "metadata": {},
   "outputs": [
    {
     "data": {
      "text/plain": [
       "array([ 4.662541,  7.067335,  6.866805,  6.920334,  3.16702 ,  5.749003,\n",
       "        1.589505,  6.151823,  2.690988,  0.444165,  5.754399,  3.230619,\n",
       "       -0.55754 , -1.67873 ,  2.672471, -1.618087,  3.523953,  3.989286,\n",
       "        8.294984, -2.406051,  4.951851,  3.297303,  6.105155,  0.548467,\n",
       "        2.676045, -2.166125,  5.921938,  5.027866,  6.835839,  7.718645,\n",
       "        4.7473  ,  4.119083,  1.960539, -1.466018,  6.476801,  0.468339,\n",
       "        2.874846, -0.027255,  2.171228,  5.019981,  4.375691, -3.181888,\n",
       "        8.401766,  1.688274, -1.733869,  3.849075,  5.468166,  0.059736,\n",
       "       -0.7153  ,  0.922311,  1.22053 ,  2.556666,  0.143632])"
      ]
     },
     "execution_count": 131,
     "metadata": {},
     "output_type": "execute_result"
    }
   ],
   "source": [
    "# for line\n",
    "clf_x = np.arange(-4,4.1,0.1)\n",
    "clf_y = (-lr.coef_[0][0]-lr.coef_[0][1]*clf_x - lr.intercept_)/lr.coef_[0][2]\n",
    "Class1 = X[[np.where(y==1)],1:][0][0]\n",
    "Class0 = X[[np.where(y==0)],1:][0][0]\n",
    "Class1[:,1]"
   ]
  },
  {
   "cell_type": "code",
   "execution_count": 132,
   "metadata": {
    "collapsed": true
   },
   "outputs": [],
   "source": [
    "#  np.c_ np.r_ 矩阵拼接\n",
    "# np.c_[np.ones(xx.ravel().shape),xx.ravel(), yy.ravel()]"
   ]
  },
  {
   "cell_type": "code",
   "execution_count": 133,
   "metadata": {
    "collapsed": true
   },
   "outputs": [],
   "source": [
    "# for decision boundary\n",
    "xx, yy = np.meshgrid(np.arange(-4, 4.1, 0.1), np.arange(-5, 20, 0.1))\n",
    "Z = lr.predict(np.c_[np.ones(xx.ravel().shape),xx.ravel(), yy.ravel()])"
   ]
  },
  {
   "cell_type": "code",
   "execution_count": 134,
   "metadata": {},
   "outputs": [
    {
     "data": {
      "image/png": "[encoded data removed]",
      "text/plain": [
       "<matplotlib.figure.Figure at 0x28702bbd780>"
      ]
     },
     "metadata": {},
     "output_type": "display_data"
    }
   ],
   "source": [
    "import matplotlib.pyplot as plt\n",
    "plt.figure(figsize=(6,5))\n",
    "\n",
    "Z = Z.reshape(xx.shape)\n",
    "# for line\n",
    "# plt.contour(xx,yy,Z)\n",
    "plt.plot(clf_x,clf_y,c=\"r\")\n",
    "# for mesh\n",
    "plt.pcolormesh(xx, yy, Z, cmap=plt.cm.Vega20c_r, alpha=0.6)\n",
    "# for data\n",
    "plt.scatter(x=Class0[:,0],y=Class0[:,1])\n",
    "plt.scatter(x=Class1[:,0],y=Class1[:,1],marker=\"s\")\n",
    "plt.ylim(-5,20)\n",
    "plt.xlim(-4,4)\n",
    "plt.show()"
   ]
  },
  {
   "cell_type": "markdown",
   "metadata": {},
   "source": [
    "### SGD"
   ]
  },
  {
   "cell_type": "markdown",
   "metadata": {},
   "source": [
    "#### Modeling"
   ]
  },
  {
   "cell_type": "code",
   "execution_count": 135,
   "metadata": {
    "collapsed": true
   },
   "outputs": [],
   "source": [
    "from sklearn.linear_model import SGDClassifier"
   ]
  },
  {
   "cell_type": "code",
   "execution_count": 136,
   "metadata": {
    "collapsed": true
   },
   "outputs": [],
   "source": [
    "# SGD_clf = SGDClassifier()\n",
    "SGD_clf = SGDClassifier(max_iter=50)\n"
   ]
  },
  {
   "cell_type": "code",
   "execution_count": 137,
   "metadata": {},
   "outputs": [
    {
     "data": {
      "text/plain": [
       "SGDClassifier(alpha=0.0001, average=False, class_weight=None, epsilon=0.1,\n",
       "       eta0=0.0, fit_intercept=True, l1_ratio=0.15,\n",
       "       learning_rate='optimal', loss='hinge', max_iter=50, n_iter=None,\n",
       "       n_jobs=1, penalty='l2', power_t=0.5, random_state=None,\n",
       "       shuffle=True, tol=None, verbose=0, warm_start=False)"
      ]
     },
     "execution_count": 137,
     "metadata": {},
     "output_type": "execute_result"
    }
   ],
   "source": [
    "SGD_clf.fit(X,y)"
   ]
  },
  {
   "cell_type": "code",
   "execution_count": 138,
   "metadata": {},
   "outputs": [
    {
     "data": {
      "text/plain": [
       "array([[ 85.01416903,  31.98983997, -51.43373729]])"
      ]
     },
     "execution_count": 138,
     "metadata": {},
     "output_type": "execute_result"
    }
   ],
   "source": [
    "SGD_clf.coef_"
   ]
  },
  {
   "cell_type": "code",
   "execution_count": 139,
   "metadata": {},
   "outputs": [
    {
     "data": {
      "text/plain": [
       "array([345.08727735])"
      ]
     },
     "execution_count": 139,
     "metadata": {},
     "output_type": "execute_result"
    }
   ],
   "source": [
    "SGD_clf.intercept_"
   ]
  },
  {
   "cell_type": "markdown",
   "metadata": {},
   "source": [
    "#### Decision Boundary"
   ]
  },
  {
   "cell_type": "code",
   "execution_count": 140,
   "metadata": {},
   "outputs": [
    {
     "data": {
      "text/plain": [
       "array([ 4.662541,  7.067335,  6.866805,  6.920334,  3.16702 ,  5.749003,\n",
       "        1.589505,  6.151823,  2.690988,  0.444165,  5.754399,  3.230619,\n",
       "       -0.55754 , -1.67873 ,  2.672471, -1.618087,  3.523953,  3.989286,\n",
       "        8.294984, -2.406051,  4.951851,  3.297303,  6.105155,  0.548467,\n",
       "        2.676045, -2.166125,  5.921938,  5.027866,  6.835839,  7.718645,\n",
       "        4.7473  ,  4.119083,  1.960539, -1.466018,  6.476801,  0.468339,\n",
       "        2.874846, -0.027255,  2.171228,  5.019981,  4.375691, -3.181888,\n",
       "        8.401766,  1.688274, -1.733869,  3.849075,  5.468166,  0.059736,\n",
       "       -0.7153  ,  0.922311,  1.22053 ,  2.556666,  0.143632])"
      ]
     },
     "execution_count": 140,
     "metadata": {},
     "output_type": "execute_result"
    }
   ],
   "source": [
    "# for line\n",
    "clf_x = np.arange(-4,4.1,0.1)\n",
    "clf_y = (-SGD_clf.coef_[0][0]-SGD_clf.coef_[0][1]*clf_x - SGD_clf.intercept_)/SGD_clf.coef_[0][2]\n",
    "Class1 = X[[np.where(y==1)],1:][0][0]\n",
    "Class0 = X[[np.where(y==0)],1:][0][0]\n",
    "Class1[:,1]"
   ]
  },
  {
   "cell_type": "code",
   "execution_count": 141,
   "metadata": {
    "collapsed": true
   },
   "outputs": [],
   "source": [
    "# for decision boundary\n",
    "xx, yy = np.meshgrid(np.arange(-4, 4.1, 0.1), np.arange(-5, 20, 0.1))\n",
    "Z = SGD_clf.predict(np.c_[np.ones(xx.ravel().shape),xx.ravel(), yy.ravel()])"
   ]
  },
  {
   "cell_type": "code",
   "execution_count": 142,
   "metadata": {},
   "outputs": [
    {
     "data": {
      "image/png": "[encoded data removed]",
      "text/plain": [
       "<matplotlib.figure.Figure at 0x28702bc4cc0>"
      ]
     },
     "metadata": {},
     "output_type": "display_data"
    }
   ],
   "source": [
    "import matplotlib.pyplot as plt\n",
    "plt.figure(figsize=(6,5))\n",
    "\n",
    "Z = Z.reshape(xx.shape)\n",
    "# for line\n",
    "# plt.contour(xx,yy,Z)\n",
    "plt.plot(clf_x,clf_y,c=\"r\")\n",
    "# for mesh\n",
    "plt.pcolormesh(xx, yy, Z, cmap=plt.cm.Vega20c_r, alpha=0.6)\n",
    "# for data\n",
    "plt.scatter(x=Class0[:,0],y=Class0[:,1])\n",
    "plt.scatter(x=Class1[:,0],y=Class1[:,1],marker=\"s\")\n",
    "plt.ylim(-5,20)\n",
    "plt.xlim(-4,4)\n",
    "plt.show()"
   ]
  },
  {
   "cell_type": "markdown",
   "metadata": {},
   "source": [
    "以上，\n",
    "- 参数默认，效果不如GD,每次的效果随机，因为默认的max_iter_是5(v0.19)，0.21将默认1000\n",
    "- 调整max_iter就收敛了\n",
    "- 或者调整tol=1e-8一样会收敛\n",
    "- learning_rate可以选optimal，这样会是变系数的类似改进SGD"
   ]
  },
  {
   "cell_type": "markdown",
   "metadata": {},
   "source": [
    "### EX : Horse Colic "
   ]
  },
  {
   "cell_type": "markdown",
   "metadata": {},
   "source": [
    "#### Load Data"
   ]
  },
  {
   "cell_type": "code",
   "execution_count": 143,
   "metadata": {},
   "outputs": [
    {
     "data": {
      "text/html": [
       "<div>\n",
       "<style>\n",
       "    .dataframe thead tr:only-child th {\n",
       "        text-align: right;\n",
       "    }\n",
       "\n",
       "    .dataframe thead th {\n",
       "        text-align: left;\n",
       "    }\n",
       "\n",
       "    .dataframe tbody tr th {\n",
       "        vertical-align: top;\n",
       "    }\n",
       "</style>\n",
       "<table border=\"1\" class=\"dataframe\">\n",
       "  <thead>\n",
       "    <tr style=\"text-align: right;\">\n",
       "      <th></th>\n",
       "      <th>0</th>\n",
       "      <th>1</th>\n",
       "      <th>2</th>\n",
       "      <th>3</th>\n",
       "      <th>4</th>\n",
       "      <th>5</th>\n",
       "      <th>6</th>\n",
       "      <th>7</th>\n",
       "      <th>8</th>\n",
       "      <th>9</th>\n",
       "      <th>...</th>\n",
       "      <th>12</th>\n",
       "      <th>13</th>\n",
       "      <th>14</th>\n",
       "      <th>15</th>\n",
       "      <th>16</th>\n",
       "      <th>17</th>\n",
       "      <th>18</th>\n",
       "      <th>19</th>\n",
       "      <th>20</th>\n",
       "      <th>21</th>\n",
       "    </tr>\n",
       "  </thead>\n",
       "  <tbody>\n",
       "    <tr>\n",
       "      <th>0</th>\n",
       "      <td>2.0</td>\n",
       "      <td>1.0</td>\n",
       "      <td>38.5</td>\n",
       "      <td>66.0</td>\n",
       "      <td>28.0</td>\n",
       "      <td>3.0</td>\n",
       "      <td>3.0</td>\n",
       "      <td>0.0</td>\n",
       "      <td>2.0</td>\n",
       "      <td>5.0</td>\n",
       "      <td>...</td>\n",
       "      <td>0.0</td>\n",
       "      <td>0.0</td>\n",
       "      <td>0.0</td>\n",
       "      <td>3.0</td>\n",
       "      <td>5.0</td>\n",
       "      <td>45.0</td>\n",
       "      <td>8.4</td>\n",
       "      <td>0.0</td>\n",
       "      <td>0.0</td>\n",
       "      <td>0.0</td>\n",
       "    </tr>\n",
       "    <tr>\n",
       "      <th>1</th>\n",
       "      <td>1.0</td>\n",
       "      <td>1.0</td>\n",
       "      <td>39.2</td>\n",
       "      <td>88.0</td>\n",
       "      <td>20.0</td>\n",
       "      <td>0.0</td>\n",
       "      <td>0.0</td>\n",
       "      <td>4.0</td>\n",
       "      <td>1.0</td>\n",
       "      <td>3.0</td>\n",
       "      <td>...</td>\n",
       "      <td>0.0</td>\n",
       "      <td>0.0</td>\n",
       "      <td>0.0</td>\n",
       "      <td>4.0</td>\n",
       "      <td>2.0</td>\n",
       "      <td>50.0</td>\n",
       "      <td>85.0</td>\n",
       "      <td>2.0</td>\n",
       "      <td>2.0</td>\n",
       "      <td>0.0</td>\n",
       "    </tr>\n",
       "    <tr>\n",
       "      <th>2</th>\n",
       "      <td>2.0</td>\n",
       "      <td>1.0</td>\n",
       "      <td>38.3</td>\n",
       "      <td>40.0</td>\n",
       "      <td>24.0</td>\n",
       "      <td>1.0</td>\n",
       "      <td>1.0</td>\n",
       "      <td>3.0</td>\n",
       "      <td>1.0</td>\n",
       "      <td>3.0</td>\n",
       "      <td>...</td>\n",
       "      <td>0.0</td>\n",
       "      <td>0.0</td>\n",
       "      <td>0.0</td>\n",
       "      <td>1.0</td>\n",
       "      <td>1.0</td>\n",
       "      <td>33.0</td>\n",
       "      <td>6.7</td>\n",
       "      <td>0.0</td>\n",
       "      <td>0.0</td>\n",
       "      <td>1.0</td>\n",
       "    </tr>\n",
       "    <tr>\n",
       "      <th>3</th>\n",
       "      <td>1.0</td>\n",
       "      <td>9.0</td>\n",
       "      <td>39.1</td>\n",
       "      <td>164.0</td>\n",
       "      <td>84.0</td>\n",
       "      <td>4.0</td>\n",
       "      <td>1.0</td>\n",
       "      <td>6.0</td>\n",
       "      <td>2.0</td>\n",
       "      <td>2.0</td>\n",
       "      <td>...</td>\n",
       "      <td>1.0</td>\n",
       "      <td>2.0</td>\n",
       "      <td>5.0</td>\n",
       "      <td>3.0</td>\n",
       "      <td>0.0</td>\n",
       "      <td>48.0</td>\n",
       "      <td>7.2</td>\n",
       "      <td>3.0</td>\n",
       "      <td>5.3</td>\n",
       "      <td>0.0</td>\n",
       "    </tr>\n",
       "    <tr>\n",
       "      <th>4</th>\n",
       "      <td>2.0</td>\n",
       "      <td>1.0</td>\n",
       "      <td>37.3</td>\n",
       "      <td>104.0</td>\n",
       "      <td>35.0</td>\n",
       "      <td>0.0</td>\n",
       "      <td>0.0</td>\n",
       "      <td>6.0</td>\n",
       "      <td>2.0</td>\n",
       "      <td>0.0</td>\n",
       "      <td>...</td>\n",
       "      <td>0.0</td>\n",
       "      <td>0.0</td>\n",
       "      <td>0.0</td>\n",
       "      <td>0.0</td>\n",
       "      <td>0.0</td>\n",
       "      <td>74.0</td>\n",
       "      <td>7.4</td>\n",
       "      <td>0.0</td>\n",
       "      <td>0.0</td>\n",
       "      <td>0.0</td>\n",
       "    </tr>\n",
       "  </tbody>\n",
       "</table>\n",
       "<p>5 rows × 22 columns</p>\n",
       "</div>"
      ],
      "text/plain": [
       "    0    1     2      3     4    5    6    7    8    9  ...    12   13   14  \\\n",
       "0  2.0  1.0  38.5   66.0  28.0  3.0  3.0  0.0  2.0  5.0 ...   0.0  0.0  0.0   \n",
       "1  1.0  1.0  39.2   88.0  20.0  0.0  0.0  4.0  1.0  3.0 ...   0.0  0.0  0.0   \n",
       "2  2.0  1.0  38.3   40.0  24.0  1.0  1.0  3.0  1.0  3.0 ...   0.0  0.0  0.0   \n",
       "3  1.0  9.0  39.1  164.0  84.0  4.0  1.0  6.0  2.0  2.0 ...   1.0  2.0  5.0   \n",
       "4  2.0  1.0  37.3  104.0  35.0  0.0  0.0  6.0  2.0  0.0 ...   0.0  0.0  0.0   \n",
       "\n",
       "    15   16    17    18   19   20   21  \n",
       "0  3.0  5.0  45.0   8.4  0.0  0.0  0.0  \n",
       "1  4.0  2.0  50.0  85.0  2.0  2.0  0.0  \n",
       "2  1.0  1.0  33.0   6.7  0.0  0.0  1.0  \n",
       "3  3.0  0.0  48.0   7.2  3.0  5.3  0.0  \n",
       "4  0.0  0.0  74.0   7.4  0.0  0.0  0.0  \n",
       "\n",
       "[5 rows x 22 columns]"
      ]
     },
     "execution_count": 143,
     "metadata": {},
     "output_type": "execute_result"
    }
   ],
   "source": [
    "train_df = pd.read_table(\"./Data/CH5/horseColicTraining.txt\",header=None)\n",
    "train_df.head()\n"
   ]
  },
  {
   "cell_type": "code",
   "execution_count": 144,
   "metadata": {
    "scrolled": true
   },
   "outputs": [
    {
     "data": {
      "text/html": [
       "<div>\n",
       "<style>\n",
       "    .dataframe thead tr:only-child th {\n",
       "        text-align: right;\n",
       "    }\n",
       "\n",
       "    .dataframe thead th {\n",
       "        text-align: left;\n",
       "    }\n",
       "\n",
       "    .dataframe tbody tr th {\n",
       "        vertical-align: top;\n",
       "    }\n",
       "</style>\n",
       "<table border=\"1\" class=\"dataframe\">\n",
       "  <thead>\n",
       "    <tr style=\"text-align: right;\">\n",
       "      <th></th>\n",
       "      <th>0</th>\n",
       "      <th>1</th>\n",
       "      <th>2</th>\n",
       "      <th>3</th>\n",
       "      <th>4</th>\n",
       "      <th>5</th>\n",
       "      <th>6</th>\n",
       "      <th>7</th>\n",
       "      <th>8</th>\n",
       "      <th>9</th>\n",
       "      <th>...</th>\n",
       "      <th>12</th>\n",
       "      <th>13</th>\n",
       "      <th>14</th>\n",
       "      <th>15</th>\n",
       "      <th>16</th>\n",
       "      <th>17</th>\n",
       "      <th>18</th>\n",
       "      <th>19</th>\n",
       "      <th>20</th>\n",
       "      <th>21</th>\n",
       "    </tr>\n",
       "  </thead>\n",
       "  <tbody>\n",
       "    <tr>\n",
       "      <th>0</th>\n",
       "      <td>2</td>\n",
       "      <td>1</td>\n",
       "      <td>38.5</td>\n",
       "      <td>54</td>\n",
       "      <td>20</td>\n",
       "      <td>0</td>\n",
       "      <td>1</td>\n",
       "      <td>2</td>\n",
       "      <td>2</td>\n",
       "      <td>3</td>\n",
       "      <td>...</td>\n",
       "      <td>2</td>\n",
       "      <td>2</td>\n",
       "      <td>5.9</td>\n",
       "      <td>0</td>\n",
       "      <td>2</td>\n",
       "      <td>42.0</td>\n",
       "      <td>6.3</td>\n",
       "      <td>0</td>\n",
       "      <td>0.0</td>\n",
       "      <td>1</td>\n",
       "    </tr>\n",
       "    <tr>\n",
       "      <th>1</th>\n",
       "      <td>2</td>\n",
       "      <td>1</td>\n",
       "      <td>37.6</td>\n",
       "      <td>48</td>\n",
       "      <td>36</td>\n",
       "      <td>0</td>\n",
       "      <td>0</td>\n",
       "      <td>1</td>\n",
       "      <td>1</td>\n",
       "      <td>0</td>\n",
       "      <td>...</td>\n",
       "      <td>0</td>\n",
       "      <td>0</td>\n",
       "      <td>0.0</td>\n",
       "      <td>0</td>\n",
       "      <td>0</td>\n",
       "      <td>44.0</td>\n",
       "      <td>6.3</td>\n",
       "      <td>1</td>\n",
       "      <td>5.0</td>\n",
       "      <td>1</td>\n",
       "    </tr>\n",
       "    <tr>\n",
       "      <th>2</th>\n",
       "      <td>1</td>\n",
       "      <td>1</td>\n",
       "      <td>37.7</td>\n",
       "      <td>44</td>\n",
       "      <td>28</td>\n",
       "      <td>0</td>\n",
       "      <td>4</td>\n",
       "      <td>3</td>\n",
       "      <td>2</td>\n",
       "      <td>5</td>\n",
       "      <td>...</td>\n",
       "      <td>1</td>\n",
       "      <td>1</td>\n",
       "      <td>0.0</td>\n",
       "      <td>3</td>\n",
       "      <td>5</td>\n",
       "      <td>45.0</td>\n",
       "      <td>70.0</td>\n",
       "      <td>3</td>\n",
       "      <td>2.0</td>\n",
       "      <td>1</td>\n",
       "    </tr>\n",
       "    <tr>\n",
       "      <th>3</th>\n",
       "      <td>1</td>\n",
       "      <td>1</td>\n",
       "      <td>37.0</td>\n",
       "      <td>56</td>\n",
       "      <td>24</td>\n",
       "      <td>3</td>\n",
       "      <td>1</td>\n",
       "      <td>4</td>\n",
       "      <td>2</td>\n",
       "      <td>4</td>\n",
       "      <td>...</td>\n",
       "      <td>1</td>\n",
       "      <td>1</td>\n",
       "      <td>0.0</td>\n",
       "      <td>0</td>\n",
       "      <td>0</td>\n",
       "      <td>35.0</td>\n",
       "      <td>61.0</td>\n",
       "      <td>3</td>\n",
       "      <td>2.0</td>\n",
       "      <td>0</td>\n",
       "    </tr>\n",
       "    <tr>\n",
       "      <th>4</th>\n",
       "      <td>2</td>\n",
       "      <td>1</td>\n",
       "      <td>38.0</td>\n",
       "      <td>42</td>\n",
       "      <td>12</td>\n",
       "      <td>3</td>\n",
       "      <td>0</td>\n",
       "      <td>3</td>\n",
       "      <td>1</td>\n",
       "      <td>1</td>\n",
       "      <td>...</td>\n",
       "      <td>0</td>\n",
       "      <td>0</td>\n",
       "      <td>0.0</td>\n",
       "      <td>0</td>\n",
       "      <td>2</td>\n",
       "      <td>37.0</td>\n",
       "      <td>5.8</td>\n",
       "      <td>0</td>\n",
       "      <td>0.0</td>\n",
       "      <td>1</td>\n",
       "    </tr>\n",
       "  </tbody>\n",
       "</table>\n",
       "<p>5 rows × 22 columns</p>\n",
       "</div>"
      ],
      "text/plain": [
       "   0   1     2   3   4   5   6   7   8   9  ...  12  13   14  15  16    17  \\\n",
       "0   2   1  38.5  54  20   0   1   2   2   3 ...   2   2  5.9   0   2  42.0   \n",
       "1   2   1  37.6  48  36   0   0   1   1   0 ...   0   0  0.0   0   0  44.0   \n",
       "2   1   1  37.7  44  28   0   4   3   2   5 ...   1   1  0.0   3   5  45.0   \n",
       "3   1   1  37.0  56  24   3   1   4   2   4 ...   1   1  0.0   0   0  35.0   \n",
       "4   2   1  38.0  42  12   3   0   3   1   1 ...   0   0  0.0   0   2  37.0   \n",
       "\n",
       "     18  19   20  21  \n",
       "0   6.3   0  0.0   1  \n",
       "1   6.3   1  5.0   1  \n",
       "2  70.0   3  2.0   1  \n",
       "3  61.0   3  2.0   0  \n",
       "4   5.8   0  0.0   1  \n",
       "\n",
       "[5 rows x 22 columns]"
      ]
     },
     "execution_count": 144,
     "metadata": {},
     "output_type": "execute_result"
    }
   ],
   "source": [
    "test_df = pd.read_table(\"./Data/CH5/horseColicTest.txt\",header=None)\n",
    "test_df.head()"
   ]
  },
  {
   "cell_type": "code",
   "execution_count": 145,
   "metadata": {
    "collapsed": true
   },
   "outputs": [],
   "source": [
    "X_train = train_df.values[:,:20]"
   ]
  },
  {
   "cell_type": "code",
   "execution_count": 146,
   "metadata": {
    "collapsed": true
   },
   "outputs": [],
   "source": [
    "y_train = train_df.values[:,-1]"
   ]
  },
  {
   "cell_type": "markdown",
   "metadata": {},
   "source": [
    "#### Modeling"
   ]
  },
  {
   "cell_type": "code",
   "execution_count": 147,
   "metadata": {
    "collapsed": true
   },
   "outputs": [],
   "source": [
    "from sklearn.linear_model import SGDClassifier\n",
    "SGD_clf = SGDClassifier(loss = \"log\",max_iter=50,random_state=2018)"
   ]
  },
  {
   "cell_type": "code",
   "execution_count": 148,
   "metadata": {},
   "outputs": [
    {
     "data": {
      "text/plain": [
       "SGDClassifier(alpha=0.0001, average=False, class_weight=None, epsilon=0.1,\n",
       "       eta0=0.0, fit_intercept=True, l1_ratio=0.15,\n",
       "       learning_rate='optimal', loss='log', max_iter=50, n_iter=None,\n",
       "       n_jobs=1, penalty='l2', power_t=0.5, random_state=2018,\n",
       "       shuffle=True, tol=None, verbose=0, warm_start=False)"
      ]
     },
     "execution_count": 148,
     "metadata": {},
     "output_type": "execute_result"
    }
   ],
   "source": [
    "SGD_clf.fit(X_train,y_train)"
   ]
  },
  {
   "cell_type": "code",
   "execution_count": 149,
   "metadata": {
    "collapsed": true
   },
   "outputs": [],
   "source": [
    "X_test = test_df.values[:,:20]"
   ]
  },
  {
   "cell_type": "code",
   "execution_count": 150,
   "metadata": {
    "collapsed": true
   },
   "outputs": [],
   "source": [
    "y_test = test_df.values[:,-1]"
   ]
  },
  {
   "cell_type": "code",
   "execution_count": 151,
   "metadata": {
    "collapsed": true
   },
   "outputs": [],
   "source": [
    "y_pred = SGD_clf.predict(X_test)"
   ]
  },
  {
   "cell_type": "code",
   "execution_count": 152,
   "metadata": {
    "collapsed": true
   },
   "outputs": [],
   "source": [
    "print(\"error rate is %1.2f\" % (100*np.mean(y_test==y_pred)))"
   ]
  },
  {
   "cell_type": "code",
   "execution_count": 153,
   "metadata": {},
   "outputs": [
    {
     "data": {
      "text/plain": [
       "0.7164179104477612"
      ]
     },
     "execution_count": 153,
     "metadata": {},
     "output_type": "execute_result"
    }
   ],
   "source": [
    "np.mean(y_test==y_pred)"
   ]
  },
  {
   "cell_type": "code",
   "execution_count": 154,
   "metadata": {},
   "outputs": [
    {
     "data": {
      "text/plain": [
       "(67,)"
      ]
     },
     "execution_count": 154,
     "metadata": {},
     "output_type": "execute_result"
    }
   ],
   "source": [
    "y_test.shape"
   ]
  },
  {
   "cell_type": "code",
   "execution_count": 155,
   "metadata": {},
   "outputs": [
    {
     "data": {
      "text/plain": [
       "array([[ 381.46407344,   53.87496098,  103.85488041,  -42.75562163,\n",
       "          74.58070964, -167.59856095, -113.06092488, -494.82865602,\n",
       "          -2.12150406, -314.25609958,  340.89460268, -138.74972483,\n",
       "         456.14132845,  -93.39288322, -167.04011532,  232.73237231,\n",
       "        -153.11825359,  -21.64036846,   31.71965708, -195.16459814]])"
      ]
     },
     "execution_count": 155,
     "metadata": {},
     "output_type": "execute_result"
    }
   ],
   "source": [
    "SGD_clf.coef_"
   ]
  },
  {
   "cell_type": "markdown",
   "metadata": {},
   "source": [
    "以上\n",
    "- 固定随机种子，结果会不变\n",
    "- 不固定，变化范围不小\n",
    "- 20维数据，不好像之前的数据那样可视化决策边界\n",
    "- 参考[sklearn文档](http://scikit-learn.org/stable/modules/sgd.html#sgd)SGD对输入数据敏感"
   ]
  },
  {
   "cell_type": "markdown",
   "metadata": {},
   "source": [
    "#### Tuning"
   ]
  },
  {
   "cell_type": "code",
   "execution_count": 158,
   "metadata": {
    "collapsed": true
   },
   "outputs": [],
   "source": [
    "from sklearn.preprocessing import MinMaxScaler,StandardScaler"
   ]
  },
  {
   "cell_type": "code",
   "execution_count": 159,
   "metadata": {
    "collapsed": true
   },
   "outputs": [],
   "source": [
    "sss = StandardScaler()\n",
    "mms = MinMaxScaler()"
   ]
  },
  {
   "cell_type": "code",
   "execution_count": 160,
   "metadata": {},
   "outputs": [
    {
     "data": {
      "text/html": [
       "<div>\n",
       "<style>\n",
       "    .dataframe thead tr:only-child th {\n",
       "        text-align: right;\n",
       "    }\n",
       "\n",
       "    .dataframe thead th {\n",
       "        text-align: left;\n",
       "    }\n",
       "\n",
       "    .dataframe tbody tr th {\n",
       "        vertical-align: top;\n",
       "    }\n",
       "</style>\n",
       "<table border=\"1\" class=\"dataframe\">\n",
       "  <thead>\n",
       "    <tr style=\"text-align: right;\">\n",
       "      <th></th>\n",
       "      <th>0</th>\n",
       "      <th>1</th>\n",
       "      <th>2</th>\n",
       "      <th>3</th>\n",
       "      <th>4</th>\n",
       "      <th>5</th>\n",
       "      <th>6</th>\n",
       "      <th>7</th>\n",
       "      <th>8</th>\n",
       "      <th>9</th>\n",
       "      <th>...</th>\n",
       "      <th>12</th>\n",
       "      <th>13</th>\n",
       "      <th>14</th>\n",
       "      <th>15</th>\n",
       "      <th>16</th>\n",
       "      <th>17</th>\n",
       "      <th>18</th>\n",
       "      <th>19</th>\n",
       "      <th>20</th>\n",
       "      <th>21</th>\n",
       "    </tr>\n",
       "  </thead>\n",
       "  <tbody>\n",
       "    <tr>\n",
       "      <th>count</th>\n",
       "      <td>299.000000</td>\n",
       "      <td>299.00000</td>\n",
       "      <td>299.000000</td>\n",
       "      <td>299.000000</td>\n",
       "      <td>299.000000</td>\n",
       "      <td>299.000000</td>\n",
       "      <td>299.000000</td>\n",
       "      <td>299.000000</td>\n",
       "      <td>299.000000</td>\n",
       "      <td>299.000000</td>\n",
       "      <td>...</td>\n",
       "      <td>299.000000</td>\n",
       "      <td>299.000000</td>\n",
       "      <td>299.000000</td>\n",
       "      <td>299.000000</td>\n",
       "      <td>299.000000</td>\n",
       "      <td>299.000000</td>\n",
       "      <td>299.000000</td>\n",
       "      <td>299.000000</td>\n",
       "      <td>299.000000</td>\n",
       "      <td>299.000000</td>\n",
       "    </tr>\n",
       "    <tr>\n",
       "      <th>mean</th>\n",
       "      <td>1.397993</td>\n",
       "      <td>1.64214</td>\n",
       "      <td>30.509365</td>\n",
       "      <td>66.220736</td>\n",
       "      <td>24.551839</td>\n",
       "      <td>1.906355</td>\n",
       "      <td>1.555184</td>\n",
       "      <td>2.404682</td>\n",
       "      <td>1.167224</td>\n",
       "      <td>2.404682</td>\n",
       "      <td>...</td>\n",
       "      <td>1.143813</td>\n",
       "      <td>1.023411</td>\n",
       "      <td>0.834448</td>\n",
       "      <td>1.816054</td>\n",
       "      <td>2.230769</td>\n",
       "      <td>41.816054</td>\n",
       "      <td>21.595318</td>\n",
       "      <td>0.913043</td>\n",
       "      <td>1.026756</td>\n",
       "      <td>0.595318</td>\n",
       "    </tr>\n",
       "    <tr>\n",
       "      <th>std</th>\n",
       "      <td>0.490305</td>\n",
       "      <td>2.17730</td>\n",
       "      <td>15.326224</td>\n",
       "      <td>33.741787</td>\n",
       "      <td>19.922496</td>\n",
       "      <td>1.315088</td>\n",
       "      <td>1.250288</td>\n",
       "      <td>1.817175</td>\n",
       "      <td>0.606560</td>\n",
       "      <td>1.644631</td>\n",
       "      <td>...</td>\n",
       "      <td>0.987873</td>\n",
       "      <td>0.998045</td>\n",
       "      <td>1.982029</td>\n",
       "      <td>1.657688</td>\n",
       "      <td>2.144978</td>\n",
       "      <td>16.934178</td>\n",
       "      <td>26.905928</td>\n",
       "      <td>1.149466</td>\n",
       "      <td>1.836639</td>\n",
       "      <td>0.491653</td>\n",
       "    </tr>\n",
       "    <tr>\n",
       "      <th>min</th>\n",
       "      <td>1.000000</td>\n",
       "      <td>1.00000</td>\n",
       "      <td>0.000000</td>\n",
       "      <td>0.000000</td>\n",
       "      <td>0.000000</td>\n",
       "      <td>0.000000</td>\n",
       "      <td>0.000000</td>\n",
       "      <td>0.000000</td>\n",
       "      <td>0.000000</td>\n",
       "      <td>0.000000</td>\n",
       "      <td>...</td>\n",
       "      <td>0.000000</td>\n",
       "      <td>0.000000</td>\n",
       "      <td>0.000000</td>\n",
       "      <td>0.000000</td>\n",
       "      <td>0.000000</td>\n",
       "      <td>0.000000</td>\n",
       "      <td>0.000000</td>\n",
       "      <td>0.000000</td>\n",
       "      <td>0.000000</td>\n",
       "      <td>0.000000</td>\n",
       "    </tr>\n",
       "    <tr>\n",
       "      <th>25%</th>\n",
       "      <td>1.000000</td>\n",
       "      <td>1.00000</td>\n",
       "      <td>37.200000</td>\n",
       "      <td>48.000000</td>\n",
       "      <td>12.000000</td>\n",
       "      <td>1.000000</td>\n",
       "      <td>1.000000</td>\n",
       "      <td>1.000000</td>\n",
       "      <td>1.000000</td>\n",
       "      <td>1.000000</td>\n",
       "      <td>...</td>\n",
       "      <td>0.000000</td>\n",
       "      <td>0.000000</td>\n",
       "      <td>0.000000</td>\n",
       "      <td>0.000000</td>\n",
       "      <td>0.000000</td>\n",
       "      <td>37.000000</td>\n",
       "      <td>6.200000</td>\n",
       "      <td>0.000000</td>\n",
       "      <td>0.000000</td>\n",
       "      <td>0.000000</td>\n",
       "    </tr>\n",
       "    <tr>\n",
       "      <th>50%</th>\n",
       "      <td>1.000000</td>\n",
       "      <td>1.00000</td>\n",
       "      <td>38.000000</td>\n",
       "      <td>60.000000</td>\n",
       "      <td>22.000000</td>\n",
       "      <td>2.000000</td>\n",
       "      <td>1.000000</td>\n",
       "      <td>2.000000</td>\n",
       "      <td>1.000000</td>\n",
       "      <td>2.000000</td>\n",
       "      <td>...</td>\n",
       "      <td>1.000000</td>\n",
       "      <td>1.000000</td>\n",
       "      <td>0.000000</td>\n",
       "      <td>1.000000</td>\n",
       "      <td>2.000000</td>\n",
       "      <td>44.000000</td>\n",
       "      <td>7.200000</td>\n",
       "      <td>0.000000</td>\n",
       "      <td>0.000000</td>\n",
       "      <td>1.000000</td>\n",
       "    </tr>\n",
       "    <tr>\n",
       "      <th>75%</th>\n",
       "      <td>2.000000</td>\n",
       "      <td>1.00000</td>\n",
       "      <td>38.500000</td>\n",
       "      <td>88.000000</td>\n",
       "      <td>34.500000</td>\n",
       "      <td>3.000000</td>\n",
       "      <td>3.000000</td>\n",
       "      <td>4.000000</td>\n",
       "      <td>2.000000</td>\n",
       "      <td>4.000000</td>\n",
       "      <td>...</td>\n",
       "      <td>2.000000</td>\n",
       "      <td>1.000000</td>\n",
       "      <td>0.000000</td>\n",
       "      <td>4.000000</td>\n",
       "      <td>5.000000</td>\n",
       "      <td>50.000000</td>\n",
       "      <td>52.000000</td>\n",
       "      <td>2.000000</td>\n",
       "      <td>2.000000</td>\n",
       "      <td>1.000000</td>\n",
       "    </tr>\n",
       "    <tr>\n",
       "      <th>max</th>\n",
       "      <td>2.000000</td>\n",
       "      <td>9.00000</td>\n",
       "      <td>40.800000</td>\n",
       "      <td>184.000000</td>\n",
       "      <td>96.000000</td>\n",
       "      <td>4.000000</td>\n",
       "      <td>4.000000</td>\n",
       "      <td>6.000000</td>\n",
       "      <td>3.000000</td>\n",
       "      <td>5.000000</td>\n",
       "      <td>...</td>\n",
       "      <td>3.000000</td>\n",
       "      <td>3.000000</td>\n",
       "      <td>7.500000</td>\n",
       "      <td>4.000000</td>\n",
       "      <td>5.000000</td>\n",
       "      <td>75.000000</td>\n",
       "      <td>89.000000</td>\n",
       "      <td>3.000000</td>\n",
       "      <td>10.100000</td>\n",
       "      <td>1.000000</td>\n",
       "    </tr>\n",
       "  </tbody>\n",
       "</table>\n",
       "<p>8 rows × 22 columns</p>\n",
       "</div>"
      ],
      "text/plain": [
       "               0          1           2           3           4           5   \\\n",
       "count  299.000000  299.00000  299.000000  299.000000  299.000000  299.000000   \n",
       "mean     1.397993    1.64214   30.509365   66.220736   24.551839    1.906355   \n",
       "std      0.490305    2.17730   15.326224   33.741787   19.922496    1.315088   \n",
       "min      1.000000    1.00000    0.000000    0.000000    0.000000    0.000000   \n",
       "25%      1.000000    1.00000   37.200000   48.000000   12.000000    1.000000   \n",
       "50%      1.000000    1.00000   38.000000   60.000000   22.000000    2.000000   \n",
       "75%      2.000000    1.00000   38.500000   88.000000   34.500000    3.000000   \n",
       "max      2.000000    9.00000   40.800000  184.000000   96.000000    4.000000   \n",
       "\n",
       "               6           7           8           9      ...              12  \\\n",
       "count  299.000000  299.000000  299.000000  299.000000     ...      299.000000   \n",
       "mean     1.555184    2.404682    1.167224    2.404682     ...        1.143813   \n",
       "std      1.250288    1.817175    0.606560    1.644631     ...        0.987873   \n",
       "min      0.000000    0.000000    0.000000    0.000000     ...        0.000000   \n",
       "25%      1.000000    1.000000    1.000000    1.000000     ...        0.000000   \n",
       "50%      1.000000    2.000000    1.000000    2.000000     ...        1.000000   \n",
       "75%      3.000000    4.000000    2.000000    4.000000     ...        2.000000   \n",
       "max      4.000000    6.000000    3.000000    5.000000     ...        3.000000   \n",
       "\n",
       "               13          14          15          16          17          18  \\\n",
       "count  299.000000  299.000000  299.000000  299.000000  299.000000  299.000000   \n",
       "mean     1.023411    0.834448    1.816054    2.230769   41.816054   21.595318   \n",
       "std      0.998045    1.982029    1.657688    2.144978   16.934178   26.905928   \n",
       "min      0.000000    0.000000    0.000000    0.000000    0.000000    0.000000   \n",
       "25%      0.000000    0.000000    0.000000    0.000000   37.000000    6.200000   \n",
       "50%      1.000000    0.000000    1.000000    2.000000   44.000000    7.200000   \n",
       "75%      1.000000    0.000000    4.000000    5.000000   50.000000   52.000000   \n",
       "max      3.000000    7.500000    4.000000    5.000000   75.000000   89.000000   \n",
       "\n",
       "               19          20          21  \n",
       "count  299.000000  299.000000  299.000000  \n",
       "mean     0.913043    1.026756    0.595318  \n",
       "std      1.149466    1.836639    0.491653  \n",
       "min      0.000000    0.000000    0.000000  \n",
       "25%      0.000000    0.000000    0.000000  \n",
       "50%      0.000000    0.000000    1.000000  \n",
       "75%      2.000000    2.000000    1.000000  \n",
       "max      3.000000   10.100000    1.000000  \n",
       "\n",
       "[8 rows x 22 columns]"
      ]
     },
     "execution_count": 160,
     "metadata": {},
     "output_type": "execute_result"
    }
   ],
   "source": [
    "train_df.describe()"
   ]
  },
  {
   "cell_type": "code",
   "execution_count": 161,
   "metadata": {},
   "outputs": [
    {
     "data": {
      "text/html": [
       "<div>\n",
       "<style>\n",
       "    .dataframe thead tr:only-child th {\n",
       "        text-align: right;\n",
       "    }\n",
       "\n",
       "    .dataframe thead th {\n",
       "        text-align: left;\n",
       "    }\n",
       "\n",
       "    .dataframe tbody tr th {\n",
       "        vertical-align: top;\n",
       "    }\n",
       "</style>\n",
       "<table border=\"1\" class=\"dataframe\">\n",
       "  <thead>\n",
       "    <tr style=\"text-align: right;\">\n",
       "      <th></th>\n",
       "      <th>0</th>\n",
       "      <th>1</th>\n",
       "      <th>2</th>\n",
       "      <th>3</th>\n",
       "      <th>4</th>\n",
       "      <th>5</th>\n",
       "      <th>6</th>\n",
       "      <th>7</th>\n",
       "      <th>8</th>\n",
       "      <th>9</th>\n",
       "      <th>...</th>\n",
       "      <th>12</th>\n",
       "      <th>13</th>\n",
       "      <th>14</th>\n",
       "      <th>15</th>\n",
       "      <th>16</th>\n",
       "      <th>17</th>\n",
       "      <th>18</th>\n",
       "      <th>19</th>\n",
       "      <th>20</th>\n",
       "      <th>21</th>\n",
       "    </tr>\n",
       "  </thead>\n",
       "  <tbody>\n",
       "    <tr>\n",
       "      <th>count</th>\n",
       "      <td>67.000000</td>\n",
       "      <td>67.000000</td>\n",
       "      <td>67.000000</td>\n",
       "      <td>67.000000</td>\n",
       "      <td>67.000000</td>\n",
       "      <td>67.000000</td>\n",
       "      <td>67.000000</td>\n",
       "      <td>67.000000</td>\n",
       "      <td>67.000000</td>\n",
       "      <td>67.000000</td>\n",
       "      <td>...</td>\n",
       "      <td>67.000000</td>\n",
       "      <td>67.000000</td>\n",
       "      <td>67.000000</td>\n",
       "      <td>67.000000</td>\n",
       "      <td>67.000000</td>\n",
       "      <td>67.000000</td>\n",
       "      <td>67.000000</td>\n",
       "      <td>67.000000</td>\n",
       "      <td>67.000000</td>\n",
       "      <td>67.000000</td>\n",
       "    </tr>\n",
       "    <tr>\n",
       "      <th>mean</th>\n",
       "      <td>1.492537</td>\n",
       "      <td>1.477612</td>\n",
       "      <td>32.894030</td>\n",
       "      <td>63.970149</td>\n",
       "      <td>24.835821</td>\n",
       "      <td>2.104478</td>\n",
       "      <td>1.373134</td>\n",
       "      <td>2.701493</td>\n",
       "      <td>1.164179</td>\n",
       "      <td>2.417910</td>\n",
       "      <td>...</td>\n",
       "      <td>1.014925</td>\n",
       "      <td>1.059701</td>\n",
       "      <td>1.386567</td>\n",
       "      <td>1.805970</td>\n",
       "      <td>2.373134</td>\n",
       "      <td>38.304478</td>\n",
       "      <td>22.695522</td>\n",
       "      <td>1.208955</td>\n",
       "      <td>1.255224</td>\n",
       "      <td>0.701493</td>\n",
       "    </tr>\n",
       "    <tr>\n",
       "      <th>std</th>\n",
       "      <td>0.503718</td>\n",
       "      <td>1.909769</td>\n",
       "      <td>13.067805</td>\n",
       "      <td>27.570279</td>\n",
       "      <td>20.322101</td>\n",
       "      <td>1.244799</td>\n",
       "      <td>1.191330</td>\n",
       "      <td>1.517723</td>\n",
       "      <td>0.566676</td>\n",
       "      <td>1.509056</td>\n",
       "      <td>...</td>\n",
       "      <td>0.961258</td>\n",
       "      <td>1.071399</td>\n",
       "      <td>2.652837</td>\n",
       "      <td>1.707726</td>\n",
       "      <td>2.102205</td>\n",
       "      <td>17.627608</td>\n",
       "      <td>28.364507</td>\n",
       "      <td>1.200219</td>\n",
       "      <td>1.822193</td>\n",
       "      <td>0.461057</td>\n",
       "    </tr>\n",
       "    <tr>\n",
       "      <th>min</th>\n",
       "      <td>1.000000</td>\n",
       "      <td>1.000000</td>\n",
       "      <td>0.000000</td>\n",
       "      <td>0.000000</td>\n",
       "      <td>0.000000</td>\n",
       "      <td>0.000000</td>\n",
       "      <td>0.000000</td>\n",
       "      <td>0.000000</td>\n",
       "      <td>0.000000</td>\n",
       "      <td>0.000000</td>\n",
       "      <td>...</td>\n",
       "      <td>0.000000</td>\n",
       "      <td>0.000000</td>\n",
       "      <td>0.000000</td>\n",
       "      <td>0.000000</td>\n",
       "      <td>0.000000</td>\n",
       "      <td>0.000000</td>\n",
       "      <td>0.000000</td>\n",
       "      <td>0.000000</td>\n",
       "      <td>0.000000</td>\n",
       "      <td>0.000000</td>\n",
       "    </tr>\n",
       "    <tr>\n",
       "      <th>25%</th>\n",
       "      <td>1.000000</td>\n",
       "      <td>1.000000</td>\n",
       "      <td>37.500000</td>\n",
       "      <td>44.500000</td>\n",
       "      <td>12.000000</td>\n",
       "      <td>1.000000</td>\n",
       "      <td>1.000000</td>\n",
       "      <td>1.000000</td>\n",
       "      <td>1.000000</td>\n",
       "      <td>1.000000</td>\n",
       "      <td>...</td>\n",
       "      <td>0.000000</td>\n",
       "      <td>0.000000</td>\n",
       "      <td>0.000000</td>\n",
       "      <td>0.000000</td>\n",
       "      <td>0.000000</td>\n",
       "      <td>35.000000</td>\n",
       "      <td>5.850000</td>\n",
       "      <td>0.000000</td>\n",
       "      <td>0.000000</td>\n",
       "      <td>0.000000</td>\n",
       "    </tr>\n",
       "    <tr>\n",
       "      <th>50%</th>\n",
       "      <td>1.000000</td>\n",
       "      <td>1.000000</td>\n",
       "      <td>38.000000</td>\n",
       "      <td>60.000000</td>\n",
       "      <td>20.000000</td>\n",
       "      <td>2.000000</td>\n",
       "      <td>1.000000</td>\n",
       "      <td>3.000000</td>\n",
       "      <td>1.000000</td>\n",
       "      <td>2.000000</td>\n",
       "      <td>...</td>\n",
       "      <td>1.000000</td>\n",
       "      <td>1.000000</td>\n",
       "      <td>0.000000</td>\n",
       "      <td>1.000000</td>\n",
       "      <td>3.000000</td>\n",
       "      <td>41.000000</td>\n",
       "      <td>6.800000</td>\n",
       "      <td>1.000000</td>\n",
       "      <td>0.000000</td>\n",
       "      <td>1.000000</td>\n",
       "    </tr>\n",
       "    <tr>\n",
       "      <th>75%</th>\n",
       "      <td>2.000000</td>\n",
       "      <td>1.000000</td>\n",
       "      <td>38.300000</td>\n",
       "      <td>80.000000</td>\n",
       "      <td>36.000000</td>\n",
       "      <td>3.000000</td>\n",
       "      <td>2.500000</td>\n",
       "      <td>3.000000</td>\n",
       "      <td>1.500000</td>\n",
       "      <td>3.000000</td>\n",
       "      <td>...</td>\n",
       "      <td>2.000000</td>\n",
       "      <td>2.000000</td>\n",
       "      <td>0.000000</td>\n",
       "      <td>4.000000</td>\n",
       "      <td>4.000000</td>\n",
       "      <td>47.000000</td>\n",
       "      <td>56.000000</td>\n",
       "      <td>2.000000</td>\n",
       "      <td>2.000000</td>\n",
       "      <td>1.000000</td>\n",
       "    </tr>\n",
       "    <tr>\n",
       "      <th>max</th>\n",
       "      <td>2.000000</td>\n",
       "      <td>9.000000</td>\n",
       "      <td>39.700000</td>\n",
       "      <td>150.000000</td>\n",
       "      <td>96.000000</td>\n",
       "      <td>4.000000</td>\n",
       "      <td>4.000000</td>\n",
       "      <td>6.000000</td>\n",
       "      <td>2.000000</td>\n",
       "      <td>5.000000</td>\n",
       "      <td>...</td>\n",
       "      <td>3.000000</td>\n",
       "      <td>3.000000</td>\n",
       "      <td>8.500000</td>\n",
       "      <td>4.000000</td>\n",
       "      <td>5.000000</td>\n",
       "      <td>74.000000</td>\n",
       "      <td>79.000000</td>\n",
       "      <td>3.000000</td>\n",
       "      <td>8.000000</td>\n",
       "      <td>1.000000</td>\n",
       "    </tr>\n",
       "  </tbody>\n",
       "</table>\n",
       "<p>8 rows × 22 columns</p>\n",
       "</div>"
      ],
      "text/plain": [
       "              0          1          2           3          4          5   \\\n",
       "count  67.000000  67.000000  67.000000   67.000000  67.000000  67.000000   \n",
       "mean    1.492537   1.477612  32.894030   63.970149  24.835821   2.104478   \n",
       "std     0.503718   1.909769  13.067805   27.570279  20.322101   1.244799   \n",
       "min     1.000000   1.000000   0.000000    0.000000   0.000000   0.000000   \n",
       "25%     1.000000   1.000000  37.500000   44.500000  12.000000   1.000000   \n",
       "50%     1.000000   1.000000  38.000000   60.000000  20.000000   2.000000   \n",
       "75%     2.000000   1.000000  38.300000   80.000000  36.000000   3.000000   \n",
       "max     2.000000   9.000000  39.700000  150.000000  96.000000   4.000000   \n",
       "\n",
       "              6          7          8          9     ...             12  \\\n",
       "count  67.000000  67.000000  67.000000  67.000000    ...      67.000000   \n",
       "mean    1.373134   2.701493   1.164179   2.417910    ...       1.014925   \n",
       "std     1.191330   1.517723   0.566676   1.509056    ...       0.961258   \n",
       "min     0.000000   0.000000   0.000000   0.000000    ...       0.000000   \n",
       "25%     1.000000   1.000000   1.000000   1.000000    ...       0.000000   \n",
       "50%     1.000000   3.000000   1.000000   2.000000    ...       1.000000   \n",
       "75%     2.500000   3.000000   1.500000   3.000000    ...       2.000000   \n",
       "max     4.000000   6.000000   2.000000   5.000000    ...       3.000000   \n",
       "\n",
       "              13         14         15         16         17         18  \\\n",
       "count  67.000000  67.000000  67.000000  67.000000  67.000000  67.000000   \n",
       "mean    1.059701   1.386567   1.805970   2.373134  38.304478  22.695522   \n",
       "std     1.071399   2.652837   1.707726   2.102205  17.627608  28.364507   \n",
       "min     0.000000   0.000000   0.000000   0.000000   0.000000   0.000000   \n",
       "25%     0.000000   0.000000   0.000000   0.000000  35.000000   5.850000   \n",
       "50%     1.000000   0.000000   1.000000   3.000000  41.000000   6.800000   \n",
       "75%     2.000000   0.000000   4.000000   4.000000  47.000000  56.000000   \n",
       "max     3.000000   8.500000   4.000000   5.000000  74.000000  79.000000   \n",
       "\n",
       "              19         20         21  \n",
       "count  67.000000  67.000000  67.000000  \n",
       "mean    1.208955   1.255224   0.701493  \n",
       "std     1.200219   1.822193   0.461057  \n",
       "min     0.000000   0.000000   0.000000  \n",
       "25%     0.000000   0.000000   0.000000  \n",
       "50%     1.000000   0.000000   1.000000  \n",
       "75%     2.000000   2.000000   1.000000  \n",
       "max     3.000000   8.000000   1.000000  \n",
       "\n",
       "[8 rows x 22 columns]"
      ]
     },
     "execution_count": 161,
     "metadata": {},
     "output_type": "execute_result"
    }
   ],
   "source": [
    "test_df.describe()"
   ]
  },
  {
   "cell_type": "code",
   "execution_count": 162,
   "metadata": {
    "collapsed": true
   },
   "outputs": [],
   "source": [
    "all_data = pd.concat([train_df,test_df],ignore_index=True).reindex()"
   ]
  },
  {
   "cell_type": "code",
   "execution_count": 163,
   "metadata": {},
   "outputs": [
    {
     "data": {
      "text/plain": [
       "[0, 1, 2, 3, 4, 5, 6, 7, 8, 9, 10, 11, 12, 13, 14, 15, 16, 17, 18, 19, 20, 21]"
      ]
     },
     "execution_count": 163,
     "metadata": {},
     "output_type": "execute_result"
    }
   ],
   "source": [
    "all_data.columns.tolist()"
   ]
  },
  {
   "cell_type": "code",
   "execution_count": 164,
   "metadata": {
    "collapsed": true
   },
   "outputs": [],
   "source": [
    "for idx in all_data.columns.tolist()[:-1]:\n",
    "    all_data[[idx]] = mms.fit_transform(all_data[[idx]].values)"
   ]
  },
  {
   "cell_type": "code",
   "execution_count": 165,
   "metadata": {},
   "outputs": [
    {
     "data": {
      "text/plain": [
       "(299, 21)"
      ]
     },
     "execution_count": 165,
     "metadata": {},
     "output_type": "execute_result"
    }
   ],
   "source": [
    "X_train = all_data[:train_df.shape[0]].values[:,:-1]\n",
    "X_train.shape"
   ]
  },
  {
   "cell_type": "code",
   "execution_count": 166,
   "metadata": {
    "collapsed": true
   },
   "outputs": [],
   "source": [
    "y_train =  all_data[:train_df.shape[0]].values[:,-1]"
   ]
  },
  {
   "cell_type": "code",
   "execution_count": 167,
   "metadata": {
    "collapsed": true
   },
   "outputs": [],
   "source": [
    "X_test = all_data[train_df.shape[0]:].values[:,:-1]"
   ]
  },
  {
   "cell_type": "code",
   "execution_count": 168,
   "metadata": {
    "collapsed": true
   },
   "outputs": [],
   "source": [
    "y_test =  all_data[train_df.shape[0]:].values[:,-1]"
   ]
  },
  {
   "cell_type": "code",
   "execution_count": 169,
   "metadata": {},
   "outputs": [
    {
     "data": {
      "text/plain": [
       "array([[1.        , 0.        , 0.94362745, ..., 0.07078652, 0.        ,\n",
       "        0.        ],\n",
       "       [1.        , 0.        , 0.92156863, ..., 0.07078652, 0.33333333,\n",
       "        0.4950495 ],\n",
       "       [0.        , 0.        , 0.92401961, ..., 0.78651685, 1.        ,\n",
       "        0.1980198 ],\n",
       "       ...,\n",
       "       [0.        , 0.        , 0.93137255, ..., 0.73033708, 1.        ,\n",
       "        0.1980198 ],\n",
       "       [1.        , 0.        , 0.93137255, ..., 0.06516854, 0.        ,\n",
       "        0.        ],\n",
       "       [1.        , 0.        , 0.92156863, ..., 0.06741573, 0.        ,\n",
       "        0.        ]])"
      ]
     },
     "execution_count": 169,
     "metadata": {},
     "output_type": "execute_result"
    }
   ],
   "source": [
    "X_test"
   ]
  },
  {
   "cell_type": "code",
   "execution_count": 170,
   "metadata": {
    "collapsed": true
   },
   "outputs": [],
   "source": [
    "SGD_clf = SGDClassifier(loss = \"log\",max_iter=1500,random_state=2018)"
   ]
  },
  {
   "cell_type": "code",
   "execution_count": 171,
   "metadata": {
    "collapsed": true
   },
   "outputs": [],
   "source": [
    "SGD_clf.fit(X_train,y_train)\n",
    "y_pred = SGD_clf.predict(X_test)"
   ]
  },
  {
   "cell_type": "code",
   "execution_count": 172,
   "metadata": {},
   "outputs": [
    {
     "data": {
      "text/plain": [
       "0.7313432835820896"
      ]
     },
     "execution_count": 172,
     "metadata": {},
     "output_type": "execute_result"
    }
   ],
   "source": [
    "np.mean(y_pred==y_test)"
   ]
  },
  {
   "cell_type": "markdown",
   "metadata": {},
   "source": [
    "- 用了没有处理之前的模型参数，只处理数据，居然变差了...\n",
    "- 改变迭代次数，正确率能提升\n",
    "- 用mms和sss差别不大"
   ]
  },
  {
   "cell_type": "markdown",
   "metadata": {},
   "source": [
    "TODO:\n",
    "1. 用原始数据集，数据处理也做一下\n",
    "1. 考虑数据可视化，分析下"
   ]
  },
  {
   "cell_type": "code",
   "execution_count": null,
   "metadata": {
    "collapsed": true
   },
   "outputs": [],
   "source": []
  }
 ],
 "metadata": {
  "kernelspec": {
   "display_name": "Python 3",
   "language": "python",
   "name": "python3"
  },
  "language_info": {
   "codemirror_mode": {
    "name": "ipython",
    "version": 3
   },
   "file_extension": ".py",
   "mimetype": "text/x-python",
   "name": "python",
   "nbconvert_exporter": "python",
   "pygments_lexer": "ipython3",
   "version": "3.6.3"
  },
  "toc": {
   "base_numbering": 1,
   "nav_menu": {},
   "number_sections": true,
   "sideBar": true,
   "skip_h1_title": true,
   "title_cell": "Table of Contents",
   "title_sidebar": "Contents",
   "toc_cell": false,
   "toc_position": {},
   "toc_section_display": true,
   "toc_window_display": true
  }
 },
 "nbformat": 4,
 "nbformat_minor": 2
}
