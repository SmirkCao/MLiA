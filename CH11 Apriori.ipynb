{
 "cells": [
  {
   "cell_type": "markdown",
   "metadata": {},
   "source": [
    "# CH11 Apriori"
   ]
  },
  {
   "cell_type": "code",
   "execution_count": 1,
   "metadata": {
    "collapsed": true
   },
   "outputs": [],
   "source": [
    "import numpy as np\n",
    "from functools import reduce\n",
    "import matplotlib.pyplot as plt"
   ]
  },
  {
   "cell_type": "markdown",
   "metadata": {},
   "source": [
    "- Association Analysis (Association rule learning)\n",
    "    - frequent item sets : **SUPPORT**\n",
    "    - association rules : **CONFIDENCE**\n",
    "- Apriori"
   ]
  },
  {
   "cell_type": "markdown",
   "metadata": {},
   "source": [
    "## Frequent Item Sets"
   ]
  },
  {
   "cell_type": "markdown",
   "metadata": {},
   "source": [
    "### Helper"
   ]
  },
  {
   "cell_type": "code",
   "execution_count": 2,
   "metadata": {
    "collapsed": true
   },
   "outputs": [],
   "source": [
    "def loadDataSet():\n",
    "    return [[1, 3, 4], [2, 3, 5], [1, 2, 3, 5], [2, 5]]"
   ]
  },
  {
   "cell_type": "code",
   "execution_count": 3,
   "metadata": {
    "collapsed": true
   },
   "outputs": [],
   "source": [
    "def createC1(dataSet):\n",
    "    data = reduce(lambda x,y:x+y,dataSet)\n",
    "    data = set(data)\n",
    "    data =[[x] for x in data]\n",
    "    data.sort()\n",
    "    return list(map(frozenset,data))"
   ]
  },
  {
   "cell_type": "code",
   "execution_count": 8,
   "metadata": {
    "collapsed": true
   },
   "outputs": [],
   "source": [
    "dataSet = loadDataSet()"
   ]
  },
  {
   "cell_type": "code",
   "execution_count": 9,
   "metadata": {},
   "outputs": [
    {
     "data": {
      "text/plain": [
       "[frozenset({1}),\n",
       " frozenset({2}),\n",
       " frozenset({3}),\n",
       " frozenset({4}),\n",
       " frozenset({5})]"
      ]
     },
     "execution_count": 9,
     "metadata": {},
     "output_type": "execute_result"
    }
   ],
   "source": [
    "C1 = createC1(dataSet)\n",
    "C1"
   ]
  },
  {
   "cell_type": "code",
   "execution_count": 10,
   "metadata": {
    "collapsed": true
   },
   "outputs": [],
   "source": [
    "def scanD(D, Ck, minSupport):\n",
    "    ssCnt = {}\n",
    "    for tid in D:\n",
    "        for can in Ck:\n",
    "            if can.issubset(tid):\n",
    "                if can not in ssCnt.keys(): \n",
    "                    ssCnt[can]=1\n",
    "                else: \n",
    "                    ssCnt[can] += 1\n",
    "    numItems = float(len(D))\n",
    "    retList = []\n",
    "    supportData = {}\n",
    "    for key in ssCnt:\n",
    "        support = ssCnt[key]/numItems\n",
    "        if support >= minSupport:\n",
    "            retList.insert(0,key)\n",
    "        supportData[key] = support\n",
    "    return retList, supportData"
   ]
  },
  {
   "cell_type": "code",
   "execution_count": 11,
   "metadata": {},
   "outputs": [
    {
     "data": {
      "text/plain": [
       "[{1, 3, 4}, {2, 3, 5}, {1, 2, 3, 5}, {2, 5}]"
      ]
     },
     "execution_count": 11,
     "metadata": {},
     "output_type": "execute_result"
    }
   ],
   "source": [
    "D = list(map(set,dataSet))\n",
    "D"
   ]
  },
  {
   "cell_type": "code",
   "execution_count": 12,
   "metadata": {},
   "outputs": [],
   "source": [
    "L1,suppData0 = scanD(D,C1,0.5)"
   ]
  },
  {
   "cell_type": "code",
   "execution_count": 13,
   "metadata": {},
   "outputs": [
    {
     "data": {
      "text/plain": [
       "[frozenset({5}), frozenset({2}), frozenset({3}), frozenset({1})]"
      ]
     },
     "execution_count": 13,
     "metadata": {},
     "output_type": "execute_result"
    }
   ],
   "source": [
    "L1"
   ]
  },
  {
   "cell_type": "code",
   "execution_count": 14,
   "metadata": {},
   "outputs": [
    {
     "data": {
      "text/plain": [
       "{frozenset({1}): 0.5,\n",
       " frozenset({3}): 0.75,\n",
       " frozenset({4}): 0.25,\n",
       " frozenset({2}): 0.75,\n",
       " frozenset({5}): 0.75}"
      ]
     },
     "execution_count": 14,
     "metadata": {},
     "output_type": "execute_result"
    }
   ],
   "source": [
    "suppData0"
   ]
  },
  {
   "cell_type": "code",
   "execution_count": 15,
   "metadata": {
    "collapsed": true
   },
   "outputs": [],
   "source": [
    "def aprioriGen(Lk, k): #creates Ck\n",
    "    retList = []\n",
    "    lenLk = len(Lk)\n",
    "    for i in range(lenLk):\n",
    "        for j in range(i+1, lenLk): \n",
    "            L1 = list(Lk[i])[:k-2]; L2 = list(Lk[j])[:k-2]\n",
    "            L1.sort(); L2.sort()\n",
    "            if L1==L2: #if first k-2 elements are equal\n",
    "                retList.append(Lk[i] | Lk[j]) #set union\n",
    "    return retList"
   ]
  },
  {
   "cell_type": "code",
   "execution_count": 16,
   "metadata": {
    "collapsed": true
   },
   "outputs": [],
   "source": [
    "def apriori(dataSet, minSupport = 0.5):\n",
    "    C1 = createC1(dataSet)\n",
    "    print(\"C1:\",C1)\n",
    "    D = list(map(set, dataSet))\n",
    "    L1, supportData = scanD(D, C1, minSupport)\n",
    "    L = [L1]\n",
    "    k = 2\n",
    "    while (len(L[k-2]) > 0):\n",
    "        Ck = aprioriGen(L[k-2], k)\n",
    "        print(\"Ck:\",Ck)\n",
    "        Lk, supK = scanD(D, Ck, minSupport)#scan DB to get Lk\n",
    "        supportData.update(supK)\n",
    "        L.append(Lk)\n",
    "        k += 1\n",
    "    return L, supportData\n"
   ]
  },
  {
   "cell_type": "code",
   "execution_count": 17,
   "metadata": {},
   "outputs": [
    {
     "name": "stdout",
     "output_type": "stream",
     "text": [
      "C1: [frozenset({1}), frozenset({2}), frozenset({3}), frozenset({4}), frozenset({5})]\n",
      "Ck: [frozenset({2, 5}), frozenset({3, 5}), frozenset({1, 5}), frozenset({2, 3}), frozenset({1, 2}), frozenset({1, 3})]\n",
      "Ck: [frozenset({2, 3, 5})]\n",
      "Ck: []\n"
     ]
    },
    {
     "data": {
      "text/plain": [
       "([[frozenset({5}), frozenset({2}), frozenset({3}), frozenset({1})],\n",
       "  [frozenset({2, 3}), frozenset({3, 5}), frozenset({2, 5}), frozenset({1, 3})],\n",
       "  [frozenset({2, 3, 5})],\n",
       "  []],\n",
       " {frozenset({1}): 0.5,\n",
       "  frozenset({3}): 0.75,\n",
       "  frozenset({4}): 0.25,\n",
       "  frozenset({2}): 0.75,\n",
       "  frozenset({5}): 0.75,\n",
       "  frozenset({1, 3}): 0.5,\n",
       "  frozenset({2, 5}): 0.75,\n",
       "  frozenset({3, 5}): 0.5,\n",
       "  frozenset({2, 3}): 0.5,\n",
       "  frozenset({1, 5}): 0.25,\n",
       "  frozenset({1, 2}): 0.25,\n",
       "  frozenset({2, 3, 5}): 0.5})"
      ]
     },
     "execution_count": 17,
     "metadata": {},
     "output_type": "execute_result"
    }
   ],
   "source": [
    "apriori(dataSet)"
   ]
  },
  {
   "cell_type": "markdown",
   "metadata": {},
   "source": [
    "## Association Rules"
   ]
  },
  {
   "cell_type": "code",
   "execution_count": 18,
   "metadata": {
    "collapsed": true
   },
   "outputs": [],
   "source": [
    "def generateRules(L, supportData, minConf=0.7):  #supportData is a dict coming from scanD\n",
    "    bigRuleList = []\n",
    "    for i in range(1, len(L)):#only get the sets with two or more items\n",
    "        for freqSet in L[i]:\n",
    "            H1 = [frozenset([item]) for item in freqSet]\n",
    "            if (i > 1):\n",
    "                rulesFromConseq(freqSet, H1, supportData, bigRuleList, minConf)\n",
    "            else:\n",
    "                calcConf(freqSet, H1, supportData, bigRuleList, minConf)\n",
    "    return bigRuleList    "
   ]
  },
  {
   "cell_type": "code",
   "execution_count": 19,
   "metadata": {
    "collapsed": true
   },
   "outputs": [],
   "source": [
    "def calcConf(freqSet, H, supportData, brl, minConf=0.7):\n",
    "    prunedH = [] #create new list to return\n",
    "    for conseq in H:\n",
    "        conf = supportData[freqSet]/supportData[freqSet-conseq] #calc confidence\n",
    "        if conf >= minConf: \n",
    "            print (freqSet-conseq,'-->',conseq,'conf:',conf)\n",
    "            brl.append((freqSet-conseq, conseq, conf))\n",
    "            prunedH.append(conseq)\n",
    "    return prunedH\n"
   ]
  },
  {
   "cell_type": "code",
   "execution_count": 20,
   "metadata": {
    "collapsed": true
   },
   "outputs": [],
   "source": [
    "def rulesFromConseq(freqSet, H, supportData, brl, minConf=0.7):\n",
    "    m = len(H[0])\n",
    "    if (len(freqSet) > (m + 1)): #try further merging\n",
    "        Hmp1 = aprioriGen(H, m+1)#create Hm+1 new candidates\n",
    "        Hmp1 = calcConf(freqSet, Hmp1, supportData, brl, minConf)\n",
    "        if (len(Hmp1) > 1):    #need at least two sets to merge\n",
    "            rulesFromConseq(freqSet, Hmp1, supportData, brl, minConf)"
   ]
  },
  {
   "cell_type": "code",
   "execution_count": 25,
   "metadata": {},
   "outputs": [],
   "source": [
    "def pntRules(ruleList, itemMeaning):\n",
    "    for ruleTup in ruleList:\n",
    "        for item in ruleTup[0]:\n",
    "            print (itemMeaning[item])\n",
    "        print( \"           -------->\")\n",
    "        for item in ruleTup[1]:\n",
    "            print(itemMeaning[item])\n",
    "        print( \"confidence: %f\" % ruleTup[2])\n",
    "        print()       #print a blank line"
   ]
  },
  {
   "cell_type": "code",
   "execution_count": 26,
   "metadata": {},
   "outputs": [
    {
     "name": "stdout",
     "output_type": "stream",
     "text": [
      "C1: [frozenset({1}), frozenset({2}), frozenset({3}), frozenset({4}), frozenset({5})]\n",
      "Ck: [frozenset({2, 5}), frozenset({3, 5}), frozenset({1, 5}), frozenset({2, 3}), frozenset({1, 2}), frozenset({1, 3})]\n",
      "Ck: [frozenset({2, 3, 5})]\n",
      "Ck: []\n"
     ]
    }
   ],
   "source": [
    "L,suppData=apriori(dataSet,minSupport=0.5)"
   ]
  },
  {
   "cell_type": "code",
   "execution_count": 27,
   "metadata": {},
   "outputs": [
    {
     "name": "stdout",
     "output_type": "stream",
     "text": [
      "frozenset({5}) --> frozenset({2}) conf: 1.0\n",
      "frozenset({2}) --> frozenset({5}) conf: 1.0\n",
      "frozenset({1}) --> frozenset({3}) conf: 1.0\n"
     ]
    }
   ],
   "source": [
    "rules = generateRules(L,suppData,minConf=0.7)"
   ]
  },
  {
   "cell_type": "markdown",
   "metadata": {},
   "source": [
    "## EX1 : Congressional Voting Records"
   ]
  },
  {
   "cell_type": "code",
   "execution_count": 28,
   "metadata": {
    "collapsed": true
   },
   "outputs": [],
   "source": [
    "import pandas as pd"
   ]
  },
  {
   "cell_type": "code",
   "execution_count": 30,
   "metadata": {},
   "outputs": [
    {
     "data": {
      "text/html": [
       "<div>\n",
       "<style>\n",
       "    .dataframe thead tr:only-child th {\n",
       "        text-align: right;\n",
       "    }\n",
       "\n",
       "    .dataframe thead th {\n",
       "        text-align: left;\n",
       "    }\n",
       "\n",
       "    .dataframe tbody tr th {\n",
       "        vertical-align: top;\n",
       "    }\n",
       "</style>\n",
       "<table border=\"1\" class=\"dataframe\">\n",
       "  <thead>\n",
       "    <tr style=\"text-align: right;\">\n",
       "      <th></th>\n",
       "      <th>0</th>\n",
       "      <th>1</th>\n",
       "    </tr>\n",
       "  </thead>\n",
       "  <tbody>\n",
       "    <tr>\n",
       "      <th>0</th>\n",
       "      <td>13020</td>\n",
       "      <td>Amending FAA Rulemaking Activities</td>\n",
       "    </tr>\n",
       "    <tr>\n",
       "      <th>1</th>\n",
       "      <td>12939</td>\n",
       "      <td>Prohibiting Federal Funding of National Public...</td>\n",
       "    </tr>\n",
       "    <tr>\n",
       "      <th>2</th>\n",
       "      <td>12888</td>\n",
       "      <td>Additional Continuing Appropriations</td>\n",
       "    </tr>\n",
       "    <tr>\n",
       "      <th>3</th>\n",
       "      <td>12940</td>\n",
       "      <td>Removing Troops from Afghanistan</td>\n",
       "    </tr>\n",
       "    <tr>\n",
       "      <th>4</th>\n",
       "      <td>12884</td>\n",
       "      <td>Department of Defense funding and Continuing A...</td>\n",
       "    </tr>\n",
       "    <tr>\n",
       "      <th>5</th>\n",
       "      <td>12887</td>\n",
       "      <td>Terminating the Neighborhood Stabilization Pro...</td>\n",
       "    </tr>\n",
       "    <tr>\n",
       "      <th>6</th>\n",
       "      <td>12828</td>\n",
       "      <td>Continuing Appropriations Amendments</td>\n",
       "    </tr>\n",
       "    <tr>\n",
       "      <th>7</th>\n",
       "      <td>12830</td>\n",
       "      <td>Prioritizing Payment of Public Debt</td>\n",
       "    </tr>\n",
       "    <tr>\n",
       "      <th>8</th>\n",
       "      <td>12857</td>\n",
       "      <td>Calling for a Balanced Budget Constitutional A...</td>\n",
       "    </tr>\n",
       "    <tr>\n",
       "      <th>9</th>\n",
       "      <td>12885</td>\n",
       "      <td>Terminating the Federal Housing Administration...</td>\n",
       "    </tr>\n",
       "    <tr>\n",
       "      <th>10</th>\n",
       "      <td>12886</td>\n",
       "      <td>Terminating the Emergency Mortgage Relief Program</td>\n",
       "    </tr>\n",
       "    <tr>\n",
       "      <th>11</th>\n",
       "      <td>12988</td>\n",
       "      <td>Terminating the Home Affordable Modification P...</td>\n",
       "    </tr>\n",
       "    <tr>\n",
       "      <th>12</th>\n",
       "      <td>12748</td>\n",
       "      <td>Prohibits Use of Funds for Step Increase for G...</td>\n",
       "    </tr>\n",
       "    <tr>\n",
       "      <th>13</th>\n",
       "      <td>12747</td>\n",
       "      <td>Prohibiting Use of Federal Funds For Planned P...</td>\n",
       "    </tr>\n",
       "    <tr>\n",
       "      <th>14</th>\n",
       "      <td>12749</td>\n",
       "      <td>Prohibits Funds for the Gainful Employment Rule</td>\n",
       "    </tr>\n",
       "    <tr>\n",
       "      <th>15</th>\n",
       "      <td>12792</td>\n",
       "      <td>Reducing Federal Funding of the US Institute o...</td>\n",
       "    </tr>\n",
       "    <tr>\n",
       "      <th>16</th>\n",
       "      <td>12827</td>\n",
       "      <td>Prohibiting the Use of Federal Funds for NASCA...</td>\n",
       "    </tr>\n",
       "    <tr>\n",
       "      <th>17</th>\n",
       "      <td>12687</td>\n",
       "      <td>Reducing Navy and Air Force Appropriations</td>\n",
       "    </tr>\n",
       "    <tr>\n",
       "      <th>18</th>\n",
       "      <td>12793</td>\n",
       "      <td>Reducing Navy and Air Force Aircraft Procurement</td>\n",
       "    </tr>\n",
       "    <tr>\n",
       "      <th>19</th>\n",
       "      <td>12686</td>\n",
       "      <td>Continuing Appropriations</td>\n",
       "    </tr>\n",
       "    <tr>\n",
       "      <th>20</th>\n",
       "      <td>13019</td>\n",
       "      <td>Federal Aviation Administration Act</td>\n",
       "    </tr>\n",
       "    <tr>\n",
       "      <th>21</th>\n",
       "      <td>12610</td>\n",
       "      <td>Repealing the IRS 1099 Provision from the Heal...</td>\n",
       "    </tr>\n",
       "    <tr>\n",
       "      <th>22</th>\n",
       "      <td>12607</td>\n",
       "      <td>Repealing the Federal Health Care Bill</td>\n",
       "    </tr>\n",
       "    <tr>\n",
       "      <th>23</th>\n",
       "      <td>12608</td>\n",
       "      <td>Repealing the IRS 1099 Provision from the Heal...</td>\n",
       "    </tr>\n",
       "    <tr>\n",
       "      <th>24</th>\n",
       "      <td>12683</td>\n",
       "      <td>Prohibiting Transportation Security Administra...</td>\n",
       "    </tr>\n",
       "    <tr>\n",
       "      <th>25</th>\n",
       "      <td>12685</td>\n",
       "      <td>Reducing Federal Aviation Administration Appro...</td>\n",
       "    </tr>\n",
       "    <tr>\n",
       "      <th>26</th>\n",
       "      <td>12606</td>\n",
       "      <td>FAA Air Transportation Modernization and Safet...</td>\n",
       "    </tr>\n",
       "    <tr>\n",
       "      <th>27</th>\n",
       "      <td>12641</td>\n",
       "      <td>Extension of Various Patriot Act Provisions</td>\n",
       "    </tr>\n",
       "    <tr>\n",
       "      <th>28</th>\n",
       "      <td>12989</td>\n",
       "      <td>Scholarships for Opportunity and Results Act</td>\n",
       "    </tr>\n",
       "    <tr>\n",
       "      <th>29</th>\n",
       "      <td>12829</td>\n",
       "      <td>Patent Reform Act of 2011</td>\n",
       "    </tr>\n",
       "    <tr>\n",
       "      <th>...</th>\n",
       "      <td>...</td>\n",
       "      <td>...</td>\n",
       "    </tr>\n",
       "    <tr>\n",
       "      <th>70</th>\n",
       "      <td>11459</td>\n",
       "      <td>National Guard Deployment on Southern U.S. Lan...</td>\n",
       "    </tr>\n",
       "    <tr>\n",
       "      <th>71</th>\n",
       "      <td>11460</td>\n",
       "      <td>Removing Funding for the F-35 Joint Strike Fig...</td>\n",
       "    </tr>\n",
       "    <tr>\n",
       "      <th>72</th>\n",
       "      <td>11360</td>\n",
       "      <td>Prohibiting Funding of State and Local Governm...</td>\n",
       "    </tr>\n",
       "    <tr>\n",
       "      <th>73</th>\n",
       "      <td>11361</td>\n",
       "      <td>Federal Preemption Over State Consumer Financi...</td>\n",
       "    </tr>\n",
       "    <tr>\n",
       "      <th>74</th>\n",
       "      <td>11362</td>\n",
       "      <td>Amending State Authority to Enforce Consumer F...</td>\n",
       "    </tr>\n",
       "    <tr>\n",
       "      <th>75</th>\n",
       "      <td>11364</td>\n",
       "      <td>Credit Default Swap Regulations</td>\n",
       "    </tr>\n",
       "    <tr>\n",
       "      <th>76</th>\n",
       "      <td>11370</td>\n",
       "      <td>Inspector General Appointment Modification</td>\n",
       "    </tr>\n",
       "    <tr>\n",
       "      <th>77</th>\n",
       "      <td>11373</td>\n",
       "      <td>Science and Technology Funding</td>\n",
       "    </tr>\n",
       "    <tr>\n",
       "      <th>78</th>\n",
       "      <td>11324</td>\n",
       "      <td>Credit Rating Agency Board</td>\n",
       "    </tr>\n",
       "    <tr>\n",
       "      <th>79</th>\n",
       "      <td>11326</td>\n",
       "      <td>Establishing Bankruptcy Process for Non-bank F...</td>\n",
       "    </tr>\n",
       "    <tr>\n",
       "      <th>80</th>\n",
       "      <td>11347</td>\n",
       "      <td>Bureau of Consumer Financial Protection Termin...</td>\n",
       "    </tr>\n",
       "    <tr>\n",
       "      <th>81</th>\n",
       "      <td>11371</td>\n",
       "      <td>Allowing States to Limit Credit Card Interest ...</td>\n",
       "    </tr>\n",
       "    <tr>\n",
       "      <th>82</th>\n",
       "      <td>11816</td>\n",
       "      <td>Small Business Lending Fund and Tax Law Amendm...</td>\n",
       "    </tr>\n",
       "    <tr>\n",
       "      <th>83</th>\n",
       "      <td>12452</td>\n",
       "      <td>Treaty with Russia to Reduce and Limit Offensi...</td>\n",
       "    </tr>\n",
       "    <tr>\n",
       "      <th>84</th>\n",
       "      <td>11318</td>\n",
       "      <td>Derivatives Regulation Modifications</td>\n",
       "    </tr>\n",
       "    <tr>\n",
       "      <th>85</th>\n",
       "      <td>11322</td>\n",
       "      <td>Home Loan Regulation Modifications</td>\n",
       "    </tr>\n",
       "    <tr>\n",
       "      <th>86</th>\n",
       "      <td>11323</td>\n",
       "      <td>Establishing New Mortgage Underwriting Require...</td>\n",
       "    </tr>\n",
       "    <tr>\n",
       "      <th>87</th>\n",
       "      <td>11346</td>\n",
       "      <td>Debit Card Fee Regulations</td>\n",
       "    </tr>\n",
       "    <tr>\n",
       "      <th>88</th>\n",
       "      <td>12443</td>\n",
       "      <td>Removal Clarification Act</td>\n",
       "    </tr>\n",
       "    <tr>\n",
       "      <th>89</th>\n",
       "      <td>11311</td>\n",
       "      <td>Termination of Fannie Mae and Freddie Mac Cons...</td>\n",
       "    </tr>\n",
       "    <tr>\n",
       "      <th>90</th>\n",
       "      <td>11313</td>\n",
       "      <td>Study on Ending the Conservatorships of Fannie...</td>\n",
       "    </tr>\n",
       "    <tr>\n",
       "      <th>91</th>\n",
       "      <td>11315</td>\n",
       "      <td>Federal Reserve Audit</td>\n",
       "    </tr>\n",
       "    <tr>\n",
       "      <th>92</th>\n",
       "      <td>11214</td>\n",
       "      <td>Consumer Financial Protection Division Within ...</td>\n",
       "    </tr>\n",
       "    <tr>\n",
       "      <th>93</th>\n",
       "      <td>11685</td>\n",
       "      <td>Campaign Finance Disclosure Requirements</td>\n",
       "    </tr>\n",
       "    <tr>\n",
       "      <th>94</th>\n",
       "      <td>11205</td>\n",
       "      <td>Prohibiting 2010- 2011 Congressional Cost-of-L...</td>\n",
       "    </tr>\n",
       "    <tr>\n",
       "      <th>95</th>\n",
       "      <td>11415</td>\n",
       "      <td>2010-2011 Defense Appropriation Authorizations</td>\n",
       "    </tr>\n",
       "    <tr>\n",
       "      <th>96</th>\n",
       "      <td>11451</td>\n",
       "      <td>Science and Technology Funding</td>\n",
       "    </tr>\n",
       "    <tr>\n",
       "      <th>97</th>\n",
       "      <td>11763</td>\n",
       "      <td>Flood Insurance Program Extension</td>\n",
       "    </tr>\n",
       "    <tr>\n",
       "      <th>98</th>\n",
       "      <td>12083</td>\n",
       "      <td>Expanding Casa Grande Ruins National Monument</td>\n",
       "    </tr>\n",
       "    <tr>\n",
       "      <th>99</th>\n",
       "      <td>11452</td>\n",
       "      <td>Fiscal Year 2009-2010 Supplemental Appropriations</td>\n",
       "    </tr>\n",
       "  </tbody>\n",
       "</table>\n",
       "<p>100 rows × 2 columns</p>\n",
       "</div>"
      ],
      "text/plain": [
       "        0                                                  1\n",
       "0   13020                 Amending FAA Rulemaking Activities\n",
       "1   12939  Prohibiting Federal Funding of National Public...\n",
       "2   12888               Additional Continuing Appropriations\n",
       "3   12940                   Removing Troops from Afghanistan\n",
       "4   12884  Department of Defense funding and Continuing A...\n",
       "5   12887  Terminating the Neighborhood Stabilization Pro...\n",
       "6   12828               Continuing Appropriations Amendments\n",
       "7   12830                Prioritizing Payment of Public Debt\n",
       "8   12857  Calling for a Balanced Budget Constitutional A...\n",
       "9   12885  Terminating the Federal Housing Administration...\n",
       "10  12886  Terminating the Emergency Mortgage Relief Program\n",
       "11  12988  Terminating the Home Affordable Modification P...\n",
       "12  12748  Prohibits Use of Funds for Step Increase for G...\n",
       "13  12747  Prohibiting Use of Federal Funds For Planned P...\n",
       "14  12749    Prohibits Funds for the Gainful Employment Rule\n",
       "15  12792  Reducing Federal Funding of the US Institute o...\n",
       "16  12827  Prohibiting the Use of Federal Funds for NASCA...\n",
       "17  12687         Reducing Navy and Air Force Appropriations\n",
       "18  12793   Reducing Navy and Air Force Aircraft Procurement\n",
       "19  12686                          Continuing Appropriations\n",
       "20  13019                Federal Aviation Administration Act\n",
       "21  12610  Repealing the IRS 1099 Provision from the Heal...\n",
       "22  12607             Repealing the Federal Health Care Bill\n",
       "23  12608  Repealing the IRS 1099 Provision from the Heal...\n",
       "24  12683  Prohibiting Transportation Security Administra...\n",
       "25  12685  Reducing Federal Aviation Administration Appro...\n",
       "26  12606  FAA Air Transportation Modernization and Safet...\n",
       "27  12641        Extension of Various Patriot Act Provisions\n",
       "28  12989       Scholarships for Opportunity and Results Act\n",
       "29  12829                          Patent Reform Act of 2011\n",
       "..    ...                                                ...\n",
       "70  11459  National Guard Deployment on Southern U.S. Lan...\n",
       "71  11460  Removing Funding for the F-35 Joint Strike Fig...\n",
       "72  11360  Prohibiting Funding of State and Local Governm...\n",
       "73  11361  Federal Preemption Over State Consumer Financi...\n",
       "74  11362  Amending State Authority to Enforce Consumer F...\n",
       "75  11364                    Credit Default Swap Regulations\n",
       "76  11370         Inspector General Appointment Modification\n",
       "77  11373                     Science and Technology Funding\n",
       "78  11324                         Credit Rating Agency Board\n",
       "79  11326  Establishing Bankruptcy Process for Non-bank F...\n",
       "80  11347  Bureau of Consumer Financial Protection Termin...\n",
       "81  11371  Allowing States to Limit Credit Card Interest ...\n",
       "82  11816  Small Business Lending Fund and Tax Law Amendm...\n",
       "83  12452  Treaty with Russia to Reduce and Limit Offensi...\n",
       "84  11318               Derivatives Regulation Modifications\n",
       "85  11322                 Home Loan Regulation Modifications\n",
       "86  11323  Establishing New Mortgage Underwriting Require...\n",
       "87  11346                         Debit Card Fee Regulations\n",
       "88  12443                          Removal Clarification Act\n",
       "89  11311  Termination of Fannie Mae and Freddie Mac Cons...\n",
       "90  11313  Study on Ending the Conservatorships of Fannie...\n",
       "91  11315                              Federal Reserve Audit\n",
       "92  11214  Consumer Financial Protection Division Within ...\n",
       "93  11685           Campaign Finance Disclosure Requirements\n",
       "94  11205  Prohibiting 2010- 2011 Congressional Cost-of-L...\n",
       "95  11415     2010-2011 Defense Appropriation Authorizations\n",
       "96  11451                     Science and Technology Funding\n",
       "97  11763                  Flood Insurance Program Extension\n",
       "98  12083      Expanding Casa Grande Ruins National Monument\n",
       "99  11452  Fiscal Year 2009-2010 Supplemental Appropriations\n",
       "\n",
       "[100 rows x 2 columns]"
      ]
     },
     "execution_count": 30,
     "metadata": {},
     "output_type": "execute_result"
    }
   ],
   "source": [
    "pd.read_table(\"./Data/CH11/recent100bills.txt\",header=None)"
   ]
  },
  {
   "cell_type": "markdown",
   "metadata": {},
   "source": [
    "## EX2 : Agaricus lepiota"
   ]
  },
  {
   "cell_type": "code",
   "execution_count": null,
   "metadata": {},
   "outputs": [],
   "source": [
    "2**100"
   ]
  },
  {
   "cell_type": "code",
   "execution_count": null,
   "metadata": {
    "collapsed": true
   },
   "outputs": [],
   "source": []
  }
 ],
 "metadata": {
  "kernelspec": {
   "display_name": "Python 3",
   "language": "python",
   "name": "python3"
  },
  "language_info": {
   "codemirror_mode": {
    "name": "ipython",
    "version": 3
   },
   "file_extension": ".py",
   "mimetype": "text/x-python",
   "name": "python",
   "nbconvert_exporter": "python",
   "pygments_lexer": "ipython3",
   "version": "3.6.3"
  },
  "toc": {
   "base_numbering": 1,
   "nav_menu": {},
   "number_sections": true,
   "sideBar": true,
   "skip_h1_title": true,
   "title_cell": "Table of Contents",
   "title_sidebar": "Contents",
   "toc_cell": false,
   "toc_position": {},
   "toc_section_display": true,
   "toc_window_display": true
  }
 },
 "nbformat": 4,
 "nbformat_minor": 2
}
