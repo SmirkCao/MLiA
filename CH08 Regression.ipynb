{
 "cells": [
  {
   "cell_type": "markdown",
   "metadata": {
    "collapsed": true
   },
   "source": [
    "# CH8 Regression"
   ]
  },
  {
   "cell_type": "code",
   "execution_count": 1,
   "metadata": {
    "collapsed": true
   },
   "outputs": [],
   "source": [
    "import numpy as np\n",
    "import pandas as pd\n",
    "import matplotlib.pyplot as plt"
   ]
  },
  {
   "cell_type": "markdown",
   "metadata": {},
   "source": [
    "## MLiA"
   ]
  },
  {
   "cell_type": "markdown",
   "metadata": {},
   "source": [
    "### (LR) Linear Regression"
   ]
  },
  {
   "cell_type": "code",
   "execution_count": 2,
   "metadata": {
    "collapsed": true
   },
   "outputs": [],
   "source": [
    "def loadDataSet(fileName):\n",
    "    numFeat = len(open(fileName).readline().split(\"\\t\"))\n",
    "    dataMat = []\n",
    "    labelMat = []\n",
    "    fr = open(fileName)\n",
    "    for line in fr.readlines():\n",
    "        lineArr = []\n",
    "        curLine = line.strip().split(\"\\t\")\n",
    "        for i in range(numFeat-1):\n",
    "            lineArr.append(float(curLine[i]))\n",
    "        dataMat.append(lineArr)\n",
    "        labelMat.append(float(curLine[-1]))\n",
    "    return dataMat, labelMat"
   ]
  },
  {
   "cell_type": "code",
   "execution_count": 3,
   "metadata": {
    "collapsed": true
   },
   "outputs": [],
   "source": [
    "def standRegres(xArr, yArr):\n",
    "    xMat = np.mat(xArr)\n",
    "    yMat = np.mat(yArr).T\n",
    "    xTx = xMat.T*xMat\n",
    "    if np.linalg.det(xTx) == 0:\n",
    "        print(\"This matrix is singular, cannot do inverse\")\n",
    "        return\n",
    "    ws = xTx.I*(xMat.T*yMat)\n",
    "    return ws"
   ]
  },
  {
   "cell_type": "code",
   "execution_count": 4,
   "metadata": {},
   "outputs": [
    {
     "name": "stdout",
     "output_type": "stream",
     "text": [
      "[[1.0, 0.067732], [1.0, 0.42781], [1.0, 0.995731], [1.0, 0.738336], [1.0, 0.981083], [1.0, 0.526171], [1.0, 0.378887], [1.0, 0.033859], [1.0, 0.132791], [1.0, 0.138306], [1.0, 0.247809], [1.0, 0.64827], [1.0, 0.731209], [1.0, 0.236833], [1.0, 0.969788], [1.0, 0.607492], [1.0, 0.358622], [1.0, 0.147846], [1.0, 0.63782], [1.0, 0.230372], [1.0, 0.070237], [1.0, 0.067154], [1.0, 0.925577], [1.0, 0.717733], [1.0, 0.015371], [1.0, 0.33507], [1.0, 0.040486], [1.0, 0.212575], [1.0, 0.617218], [1.0, 0.541196], [1.0, 0.045353], [1.0, 0.126762], [1.0, 0.556486], [1.0, 0.901144], [1.0, 0.958476], [1.0, 0.274561], [1.0, 0.394396], [1.0, 0.87248], [1.0, 0.409932], [1.0, 0.908969], [1.0, 0.166819], [1.0, 0.665016], [1.0, 0.263727], [1.0, 0.231214], [1.0, 0.552928], [1.0, 0.047744], [1.0, 0.365746], [1.0, 0.495002], [1.0, 0.493466], [1.0, 0.792101], [1.0, 0.76966], [1.0, 0.251821], [1.0, 0.181951], [1.0, 0.808177], [1.0, 0.334116], [1.0, 0.33863], [1.0, 0.452584], [1.0, 0.69477], [1.0, 0.590902], [1.0, 0.307928], [1.0, 0.148364], [1.0, 0.70218], [1.0, 0.721544], [1.0, 0.666886], [1.0, 0.124931], [1.0, 0.618286], [1.0, 0.381086], [1.0, 0.385643], [1.0, 0.777175], [1.0, 0.116089], [1.0, 0.115487], [1.0, 0.66351], [1.0, 0.254884], [1.0, 0.993888], [1.0, 0.295434], [1.0, 0.952523], [1.0, 0.307047], [1.0, 0.277261], [1.0, 0.279101], [1.0, 0.175724], [1.0, 0.156383], [1.0, 0.733165], [1.0, 0.848142], [1.0, 0.771184], [1.0, 0.429492], [1.0, 0.162176], [1.0, 0.917064], [1.0, 0.315044], [1.0, 0.201473], [1.0, 0.297038], [1.0, 0.336647], [1.0, 0.666109], [1.0, 0.583888], [1.0, 0.085031], [1.0, 0.687006], [1.0, 0.949655], [1.0, 0.189912], [1.0, 0.844027], [1.0, 0.333288], [1.0, 0.427035], [1.0, 0.466369], [1.0, 0.550659], [1.0, 0.278213], [1.0, 0.918769], [1.0, 0.886555], [1.0, 0.569488], [1.0, 0.066379], [1.0, 0.335751], [1.0, 0.426863], [1.0, 0.395746], [1.0, 0.694221], [1.0, 0.27276], [1.0, 0.503495], [1.0, 0.067119], [1.0, 0.038326], [1.0, 0.599122], [1.0, 0.947054], [1.0, 0.671279], [1.0, 0.434811], [1.0, 0.509381], [1.0, 0.749442], [1.0, 0.058014], [1.0, 0.482978], [1.0, 0.466776], [1.0, 0.357767], [1.0, 0.949123], [1.0, 0.41732], [1.0, 0.920461], [1.0, 0.156433], [1.0, 0.656662], [1.0, 0.616418], [1.0, 0.853428], [1.0, 0.133295], [1.0, 0.693007], [1.0, 0.178449], [1.0, 0.199526], [1.0, 0.073224], [1.0, 0.286515], [1.0, 0.182026], [1.0, 0.621523], [1.0, 0.344584], [1.0, 0.398556], [1.0, 0.480369], [1.0, 0.15335], [1.0, 0.171846], [1.0, 0.867082], [1.0, 0.223855], [1.0, 0.528301], [1.0, 0.890192], [1.0, 0.106352], [1.0, 0.917886], [1.0, 0.014855], [1.0, 0.567682], [1.0, 0.068854], [1.0, 0.603535], [1.0, 0.53205], [1.0, 0.651362], [1.0, 0.901225], [1.0, 0.204337], [1.0, 0.696081], [1.0, 0.963924], [1.0, 0.98139], [1.0, 0.987911], [1.0, 0.990947], [1.0, 0.736021], [1.0, 0.253574], [1.0, 0.674722], [1.0, 0.939368], [1.0, 0.235419], [1.0, 0.110521], [1.0, 0.218023], [1.0, 0.869778], [1.0, 0.19683], [1.0, 0.958178], [1.0, 0.972673], [1.0, 0.745797], [1.0, 0.445674], [1.0, 0.470557], [1.0, 0.549236], [1.0, 0.335691], [1.0, 0.884739], [1.0, 0.918916], [1.0, 0.441815], [1.0, 0.116598], [1.0, 0.359274], [1.0, 0.814811], [1.0, 0.387125], [1.0, 0.982243], [1.0, 0.78088], [1.0, 0.652565], [1.0, 0.87003], [1.0, 0.604755], [1.0, 0.255212], [1.0, 0.730546], [1.0, 0.493829], [1.0, 0.257017], [1.0, 0.833735], [1.0, 0.070095], [1.0, 0.52707], [1.0, 0.116163]] [3.176513, 3.816464, 4.550095, 4.256571, 4.560815, 3.929515, 3.52617, 3.156393, 3.110301, 3.149813, 3.476346, 4.119688, 4.282233, 3.486582, 4.655492, 3.965162, 3.5149, 3.125947, 4.094115, 3.476039, 3.21061, 3.190612, 4.631504, 4.29589, 3.085028, 3.44808, 3.16744, 3.364266, 3.993482, 3.891471, 3.143259, 3.114204, 3.851484, 4.621899, 4.580768, 3.620992, 3.580501, 4.618706, 3.676867, 4.641845, 3.175939, 4.26498, 3.558448, 3.436632, 3.831052, 3.182853, 3.498906, 3.946833, 3.900583, 4.238522, 4.23308, 3.521557, 3.203344, 4.278105, 3.555705, 3.502661, 3.859776, 4.275956, 3.916191, 3.587961, 3.183004, 4.225236, 4.231083, 4.240544, 3.222372, 4.021445, 3.567479, 3.56258, 4.262059, 3.208813, 3.169825, 4.193949, 3.491678, 4.533306, 3.550108, 4.636427, 3.557078, 3.552874, 3.494159, 3.206828, 3.195266, 4.221292, 4.413372, 4.184347, 3.742878, 3.201878, 4.648964, 3.510117, 3.274434, 3.579622, 3.489244, 4.237386, 3.913749, 3.22899, 4.286286, 4.628614, 3.239536, 4.457997, 3.513384, 3.729674, 3.834274, 3.811155, 3.598316, 4.692514, 4.604859, 3.864912, 3.184236, 3.500796, 3.743365, 3.622905, 4.310796, 3.583357, 3.901852, 3.233521, 3.105266, 3.865544, 4.628625, 4.231213, 3.791149, 3.968271, 4.25391, 3.19471, 3.996503, 3.904358, 3.503976, 4.557545, 3.699876, 4.613614, 3.140401, 4.206717, 3.969524, 4.476096, 3.136528, 4.279071, 3.200603, 3.299012, 3.209873, 3.632942, 3.248361, 3.995783, 3.563262, 3.649712, 3.951845, 3.145031, 3.181577, 4.637087, 3.404964, 3.873188, 4.633648, 3.154768, 4.623637, 3.078132, 3.913596, 3.221817, 3.938071, 3.880822, 4.176436, 4.648161, 3.332312, 4.240614, 4.532224, 4.557105, 4.610072, 4.636569, 4.229813, 3.50086, 4.245514, 4.605182, 3.45434, 3.180775, 3.38082, 4.56502, 3.279973, 4.554241, 4.63352, 4.281037, 3.844426, 3.891601, 3.849728, 3.492215, 4.592374, 4.632025, 3.75675, 3.133555, 3.567919, 4.363382, 3.560165, 4.564305, 4.215055, 4.174999, 4.58664, 3.960008, 3.529963, 4.213412, 3.908685, 3.585821, 4.374394, 3.213817, 3.952681, 3.129283]\n"
     ]
    }
   ],
   "source": [
    "xArr, yArr = loadDataSet(\"./Data/CH8/ex0.txt\")\n",
    "print(xArr,yArr)"
   ]
  },
  {
   "cell_type": "code",
   "execution_count": 5,
   "metadata": {},
   "outputs": [
    {
     "data": {
      "text/plain": [
       "matrix([[3.00774324],\n",
       "        [1.69532264]])"
      ]
     },
     "execution_count": 5,
     "metadata": {},
     "output_type": "execute_result"
    }
   ],
   "source": [
    "ws = standRegres(xArr,yArr)\n",
    "ws"
   ]
  },
  {
   "cell_type": "code",
   "execution_count": 6,
   "metadata": {
    "collapsed": true
   },
   "outputs": [],
   "source": [
    "xMat = np.mat(xArr)\n",
    "yMat = np.mat(yArr)\n",
    "yHat = xMat*ws"
   ]
  },
  {
   "cell_type": "code",
   "execution_count": 7,
   "metadata": {
    "scrolled": true
   },
   "outputs": [
    {
     "data": {
      "image/png": "[encoded data removed]",
      "text/plain": [
       "<matplotlib.figure.Figure at 0x216ffdcd358>"
      ]
     },
     "metadata": {},
     "output_type": "display_data"
    }
   ],
   "source": [
    "fig = plt.figure()\n",
    "ax = fig.add_subplot(111)\n",
    "ax.scatter(xMat[:,1].flatten().A[0],yMat.T[:,0].flatten().A[0],s=10)\n",
    "xCopy = xMat.copy()\n",
    "xCopy.sort(0)\n",
    "yHat = xCopy*ws\n",
    "ax.plot(xCopy[:,1],yHat,c=\"red\")\n",
    "plt.xlim(-0.2,1.2)\n",
    "plt.ylim(2.5,5)\n",
    "plt.show()"
   ]
  },
  {
   "cell_type": "code",
   "execution_count": 8,
   "metadata": {},
   "outputs": [
    {
     "data": {
      "text/plain": [
       "array([[1.        , 0.98647356],\n",
       "       [0.98647356, 1.        ]])"
      ]
     },
     "execution_count": 8,
     "metadata": {},
     "output_type": "execute_result"
    }
   ],
   "source": [
    "# 之前sort过\n",
    "yHat = xMat*ws\n",
    "np.corrcoef(yHat.T,yMat)"
   ]
  },
  {
   "cell_type": "markdown",
   "metadata": {},
   "source": [
    "### (LWLR) Locally Weighted Linear Regression"
   ]
  },
  {
   "cell_type": "code",
   "execution_count": 75,
   "metadata": {
    "collapsed": true
   },
   "outputs": [],
   "source": [
    "def lwlr(testPoint,xArr,yArr,k=1.0):\n",
    "    xMat = np.mat(xArr); yMat = np.mat(yArr).T\n",
    "    m = np.shape(xMat)[0]\n",
    "    weights = np.mat(np.eye((m)))\n",
    "    for j in range(m):                      #next 2 lines create weights matrix\n",
    "        diffMat = testPoint - xMat[j,:]     #\n",
    "        weights[j,j] = np.exp(diffMat*diffMat.T/(-2.0*k**2))\n",
    "    xTx = xMat.T * (weights * xMat)\n",
    "\n",
    "    if np.linalg.det(xTx) == 0.0:\n",
    "        print (\"This matrix is singular, cannot do inverse\")\n",
    "        return\n",
    "    ws = xTx.I * (xMat.T * (weights * yMat))\n",
    "    print(np.shape(ws),np.shape(xTx),np.shape(xMat.T),np.shape(weights),np.shape(xMat),np.shape(yMat))\n",
    "\n",
    "    return testPoint * ws"
   ]
  },
  {
   "cell_type": "code",
   "execution_count": 43,
   "metadata": {
    "collapsed": true
   },
   "outputs": [],
   "source": [
    "def lwlrTest(testArr,xArr,yArr,k=1.0):  #loops over all the data points and applies lwlr to each one\n",
    "    m = np.shape(testArr)[0]\n",
    "    yHat = np.zeros(m)\n",
    "    for i in range(m):\n",
    "        yHat[i] = lwlr(testArr[i],xArr,yArr,k)\n",
    "    return yHat"
   ]
  },
  {
   "cell_type": "code",
   "execution_count": 76,
   "metadata": {},
   "outputs": [
    {
     "name": "stdout",
     "output_type": "stream",
     "text": [
      "(2, 1) (2, 2) (2, 200) (200, 200) (200, 2) (200, 1)\n"
     ]
    },
    {
     "data": {
      "text/plain": [
       "matrix([[3.12204471]])"
      ]
     },
     "execution_count": 76,
     "metadata": {},
     "output_type": "execute_result"
    }
   ],
   "source": [
    "lwlr(xArr[0],xArr,yArr,1.0)\n"
   ]
  },
  {
   "cell_type": "code",
   "execution_count": 12,
   "metadata": {
    "collapsed": true
   },
   "outputs": [],
   "source": [
    "yHat = lwlrTest(xArr,xArr,yArr,0.003)"
   ]
  },
  {
   "cell_type": "code",
   "execution_count": 13,
   "metadata": {
    "collapsed": true
   },
   "outputs": [],
   "source": [
    "def lwlrTestPlot(xArr,yArr,k=1.0):  #same thing as lwlrTest except it sorts X first\n",
    "    yHat = np.zeros(np.shape(yArr))       #easier for plotting\n",
    "    xCopy = np.mat(xArr)\n",
    "    xCopy.sort(0)\n",
    "    for i in range(np.shape(xArr)[0]):\n",
    "        yHat[i] = lwlr(xCopy[i],xArr,yArr,k)\n",
    "    return yHat,xCopy"
   ]
  },
  {
   "cell_type": "code",
   "execution_count": 14,
   "metadata": {
    "collapsed": true
   },
   "outputs": [],
   "source": [
    "xMat = np.mat(xArr)\n",
    "srtInd = xMat[:,1].argsort(0)\n",
    "xSort = xMat[srtInd][:,0,:]"
   ]
  },
  {
   "cell_type": "code",
   "execution_count": 15,
   "metadata": {},
   "outputs": [
    {
     "data": {
      "image/png": "[encoded data removed]",
      "text/plain": [
       "<matplotlib.figure.Figure at 0x216ffdd3518>"
      ]
     },
     "metadata": {},
     "output_type": "display_data"
    }
   ],
   "source": [
    "fig = plt.figure()\n",
    "ax = fig.add_subplot(111)\n",
    "ax.plot(xSort[:,1],yHat[srtInd])\n",
    "ax.scatter(xMat[:,1].flatten().A[0],np.mat(yArr).T.flatten().A[0],s=2,c=\"red\")\n",
    "plt.xlim(-0.2,1.2)\n",
    "plt.ylim(2.5,5)\n",
    "plt.show()"
   ]
  },
  {
   "cell_type": "markdown",
   "metadata": {},
   "source": [
    "### EX : Abalone"
   ]
  },
  {
   "cell_type": "code",
   "execution_count": 16,
   "metadata": {
    "collapsed": true
   },
   "outputs": [],
   "source": [
    "def rssError(yArr, yHatArr):\n",
    "    return ((yArr-yHatArr)**2).sum()"
   ]
  },
  {
   "cell_type": "code",
   "execution_count": 23,
   "metadata": {
    "collapsed": true
   },
   "outputs": [],
   "source": [
    "abX, abY = loadDataSet('./Data/CH8/abalone.txt')"
   ]
  },
  {
   "cell_type": "markdown",
   "metadata": {},
   "source": [
    "#### Train"
   ]
  },
  {
   "cell_type": "code",
   "execution_count": 19,
   "metadata": {
    "collapsed": true
   },
   "outputs": [],
   "source": [
    "yHat01 = lwlrTest(abX[0:99],abX[0:99],abY[0:99],0.1)\n",
    "yHat1 = lwlrTest(abX[0:99],abX[0:99],abY[0:99],1)\n",
    "yHat10 = lwlrTest(abX[0:99],abX[0:99],abY[0:99],10)"
   ]
  },
  {
   "cell_type": "code",
   "execution_count": 20,
   "metadata": {},
   "outputs": [
    {
     "data": {
      "text/plain": [
       "56.811168577945885"
      ]
     },
     "execution_count": 20,
     "metadata": {},
     "output_type": "execute_result"
    }
   ],
   "source": [
    "rssError(abY[0:99],yHat01.T)"
   ]
  },
  {
   "cell_type": "code",
   "execution_count": 21,
   "metadata": {},
   "outputs": [
    {
     "data": {
      "text/plain": [
       "429.8905618702014"
      ]
     },
     "execution_count": 21,
     "metadata": {},
     "output_type": "execute_result"
    }
   ],
   "source": [
    "rssError(abY[0:99],yHat1.T)"
   ]
  },
  {
   "cell_type": "code",
   "execution_count": 22,
   "metadata": {},
   "outputs": [
    {
     "data": {
      "text/plain": [
       "549.118170882589"
      ]
     },
     "execution_count": 22,
     "metadata": {},
     "output_type": "execute_result"
    }
   ],
   "source": [
    "rssError(abY[0:99],yHat10.T)"
   ]
  },
  {
   "cell_type": "markdown",
   "metadata": {},
   "source": [
    "#### Test"
   ]
  },
  {
   "cell_type": "code",
   "execution_count": 24,
   "metadata": {
    "collapsed": true
   },
   "outputs": [],
   "source": [
    "yHat01 = lwlrTest(abX[100:199],abX[0:99],abY[0:99],0.1)\n",
    "yHat1 = lwlrTest(abX[100:199],abX[0:99],abY[0:99],1)\n",
    "yHat10 = lwlrTest(abX[100:199],abX[0:99],abY[0:99],10)"
   ]
  },
  {
   "cell_type": "code",
   "execution_count": 26,
   "metadata": {},
   "outputs": [
    {
     "data": {
      "text/plain": [
       "60571.25199167674"
      ]
     },
     "execution_count": 26,
     "metadata": {},
     "output_type": "execute_result"
    }
   ],
   "source": [
    "rssError(abY[100:199],yHat01.T)"
   ]
  },
  {
   "cell_type": "code",
   "execution_count": 25,
   "metadata": {},
   "outputs": [
    {
     "data": {
      "text/plain": [
       "573.5261441896967"
      ]
     },
     "execution_count": 25,
     "metadata": {},
     "output_type": "execute_result"
    }
   ],
   "source": [
    "rssError(abY[100:199],yHat1.T)"
   ]
  },
  {
   "cell_type": "code",
   "execution_count": 27,
   "metadata": {},
   "outputs": [
    {
     "data": {
      "text/plain": [
       "517.5711905380425"
      ]
     },
     "execution_count": 27,
     "metadata": {},
     "output_type": "execute_result"
    }
   ],
   "source": [
    "rssError(abY[100:199],yHat10.T)"
   ]
  },
  {
   "cell_type": "code",
   "execution_count": 33,
   "metadata": {},
   "outputs": [
    {
     "data": {
      "text/plain": [
       "518.6363153239507"
      ]
     },
     "execution_count": 33,
     "metadata": {},
     "output_type": "execute_result"
    }
   ],
   "source": [
    "ws = standRegres(abX[0:99],abY[0:99])\n",
    "yHat = np.mat(abX[100:199])*ws\n",
    "rssError(abY[100:199],yHat.T.A)"
   ]
  },
  {
   "cell_type": "code",
   "execution_count": 36,
   "metadata": {},
   "outputs": [
    {
     "data": {
      "text/plain": [
       "(200, 2)"
      ]
     },
     "execution_count": 36,
     "metadata": {},
     "output_type": "execute_result"
    }
   ],
   "source": [
    "np.shape(xArr)"
   ]
  },
  {
   "cell_type": "code",
   "execution_count": 37,
   "metadata": {},
   "outputs": [
    {
     "data": {
      "text/plain": [
       "(200,)"
      ]
     },
     "execution_count": 37,
     "metadata": {},
     "output_type": "execute_result"
    }
   ],
   "source": [
    "np.shape(yArr)"
   ]
  },
  {
   "cell_type": "code",
   "execution_count": 62,
   "metadata": {},
   "outputs": [
    {
     "data": {
      "text/plain": [
       "matrix([[0.29446352, 0.58838891, 0.20384418, 0.92659794, 0.74334729],\n",
       "        [0.1639852 , 0.92876611, 0.6643704 , 0.114225  , 0.54832251],\n",
       "        [0.41538914, 0.40006275, 0.62295329, 0.43937438, 0.17229928],\n",
       "        [0.17215863, 0.02087312, 0.80113956, 0.84828326, 0.64198167]])"
      ]
     },
     "execution_count": 62,
     "metadata": {},
     "output_type": "execute_result"
    }
   ],
   "source": [
    "tmp_x = np.mat(np.random.rand(4,5))\n",
    "tmp_x"
   ]
  },
  {
   "cell_type": "code",
   "execution_count": 66,
   "metadata": {},
   "outputs": [
    {
     "data": {
      "text/plain": [
       "matrix([[2., 0., 0., 0.],\n",
       "        [0., 2., 0., 0.],\n",
       "        [0., 0., 2., 0.],\n",
       "        [0., 0., 0., 2.]])"
      ]
     },
     "execution_count": 66,
     "metadata": {},
     "output_type": "execute_result"
    }
   ],
   "source": [
    "tmp_w = np.mat(np.eye(4)*2)\n",
    "tmp_w"
   ]
  },
  {
   "cell_type": "code",
   "execution_count": 70,
   "metadata": {},
   "outputs": [
    {
     "data": {
      "text/plain": [
       "matrix([[0.58892705, 0.3279704 , 0.83077829, 0.34431725],\n",
       "        [1.17677781, 1.85753221, 0.80012551, 0.04174624],\n",
       "        [0.40768836, 1.3287408 , 1.24590659, 1.60227911],\n",
       "        [1.85319587, 0.22845   , 0.87874877, 1.69656652],\n",
       "        [1.48669458, 1.09664501, 0.34459856, 1.28396335]])"
      ]
     },
     "execution_count": 70,
     "metadata": {},
     "output_type": "execute_result"
    }
   ],
   "source": [
    "tmp_x.T*tmp_w"
   ]
  },
  {
   "cell_type": "code",
   "execution_count": 71,
   "metadata": {},
   "outputs": [
    {
     "data": {
      "text/plain": [
       "matrix([[0.63157329, 0.99067636, 1.13132542, 1.24026227, 0.98179874],\n",
       "        [0.99067636, 2.73858776, 2.00585411, 1.6895438 , 2.05794268],\n",
       "        [1.13132542, 2.00585411, 3.02567175, 2.4361446 , 2.27493516],\n",
       "        [1.24026227, 1.6895438 , 2.4361446 , 3.56853084, 2.7434048 ],\n",
       "        [0.98179874, 2.05794268, 2.27493516, 2.7434048 , 2.59010055]])"
      ]
     },
     "execution_count": 71,
     "metadata": {},
     "output_type": "execute_result"
    }
   ],
   "source": [
    "tmp_x.T*tmp_w*tmp_x"
   ]
  },
  {
   "cell_type": "code",
   "execution_count": 72,
   "metadata": {},
   "outputs": [
    {
     "data": {
      "text/plain": [
       "matrix([[ 3.92305579e+15, -1.71344015e+15, -6.33518719e+14,\n",
       "         -2.42792929e+15,  3.00239975e+15],\n",
       "        [-1.71344015e+15,  7.48364874e+14,  2.76696653e+14,\n",
       "          1.06042630e+15, -1.31133294e+15],\n",
       "        [-6.33518719e+14,  2.76696653e+14,  1.02304425e+14,\n",
       "          3.92076671e+14, -4.84845626e+14],\n",
       "        [-2.42792929e+15,  1.06042630e+15,  3.92076671e+14,\n",
       "          1.50261453e+15, -1.85814699e+15],\n",
       "        [ 3.00239975e+15, -1.31133294e+15, -4.84845626e+14,\n",
       "         -1.85814699e+15,  2.29780170e+15]])"
      ]
     },
     "execution_count": 72,
     "metadata": {},
     "output_type": "execute_result"
    }
   ],
   "source": [
    "(tmp_x.T*tmp_w*tmp_x).I"
   ]
  },
  {
   "cell_type": "markdown",
   "metadata": {},
   "source": [
    "### Shrinkage"
   ]
  },
  {
   "cell_type": "markdown",
   "metadata": {},
   "source": [
    "#### Ridge Regression"
   ]
  },
  {
   "cell_type": "code",
   "execution_count": 78,
   "metadata": {
    "collapsed": true
   },
   "outputs": [],
   "source": [
    "def ridgeRegres(xMat, yMat, lam=0.2):\n",
    "    xTx = xMat.T*xMat\n",
    "    denom = xTx + np.eye(np.shape(xMat)[1])*lam\n",
    "    if np.linalg.det(denom) == 0:\n",
    "        print(\"This matrix is singular, cannot do inverse\")\n",
    "        return\n",
    "    ws = denom.I*(xMat.T*yMat)\n",
    "    return ws"
   ]
  },
  {
   "cell_type": "code",
   "execution_count": 79,
   "metadata": {
    "collapsed": true
   },
   "outputs": [],
   "source": [
    "def ridgeTest(xArr, yArr):\n",
    "    xMat = np.mat(xArr)\n",
    "    yMat = np.mat(yArr).T\n",
    "    yMean = np.mean(yMat,0)\n",
    "    yMat = yMat - yMean\n",
    "    xMeans = np.mean(xMat, 0)\n",
    "    xVar = np.var(xMat,0)\n",
    "    xMat = (xMat - xMeans)/xVar\n",
    "    numTestPts = 30\n",
    "    wMat = np.zeros((numTestPts,np.shape(xMat)[1]))\n",
    "    for i in range(numTestPts):\n",
    "        ws = ridgeRegres(xMat, yMat, np.exp(i-10))\n",
    "        wMat[i,:] = ws.T\n",
    "    return wMat"
   ]
  },
  {
   "cell_type": "code",
   "execution_count": 83,
   "metadata": {
    "collapsed": true
   },
   "outputs": [],
   "source": [
    "xArr, yArr = loadDataSet(\"./Data/CH8/abalone.txt\")"
   ]
  },
  {
   "cell_type": "code",
   "execution_count": 85,
   "metadata": {
    "collapsed": true
   },
   "outputs": [],
   "source": [
    "ridgeWeight = ridgeTest(xArr,yArr)"
   ]
  },
  {
   "cell_type": "code",
   "execution_count": 99,
   "metadata": {},
   "outputs": [
    {
     "data": {
      "image/png": "[encoded data removed]",
      "text/plain": [
       "<matplotlib.figure.Figure at 0x21685550278>"
      ]
     },
     "metadata": {},
     "output_type": "display_data"
    }
   ],
   "source": [
    "fig = plt.figure()\n",
    "ax = fig.add_subplot(111)\n",
    "ax.plot(ridgeWeight)\n",
    "# plt.xlim(0,20)\n",
    "plt.show()"
   ]
  },
  {
   "cell_type": "markdown",
   "metadata": {},
   "source": [
    "#### LASSO"
   ]
  },
  {
   "cell_type": "markdown",
   "metadata": {
    "collapsed": true
   },
   "source": [
    "计算复杂度高"
   ]
  },
  {
   "cell_type": "markdown",
   "metadata": {},
   "source": [
    "#### Stagewise"
   ]
  },
  {
   "cell_type": "code",
   "execution_count": 108,
   "metadata": {
    "collapsed": true
   },
   "outputs": [],
   "source": [
    "def stageWise(xArr, yArr, eps=0.01, numIt=100):\n",
    "    xMat = np.mat(xArr)\n",
    "    yMat = np.mat(yArr).T\n",
    "    yMean = np.mean(yMat,0)\n",
    "    yMat = yMat - yMean\n",
    "    m,n = np.shape(xMat)\n",
    "    returnMat = np.zeros((numIt,n))\n",
    "    ws = np.zeros((n,1))\n",
    "    wsTest = ws.copy()\n",
    "    wsMax = ws.copy()\n",
    "    for i in range(numIt):\n",
    "        print(ws.T)\n",
    "        lowerstError = np.inf\n",
    "        for j in range(n):\n",
    "            for sign in [-1,1]:\n",
    "                wsTest = ws.copy()\n",
    "                wsTest[j] += eps*sign\n",
    "                yTest = xMat*wsTest\n",
    "                rssE = rssError(yMat.A, yTest.A)\n",
    "                if rssE < lowerstError:\n",
    "                    lowerstError = rssE\n",
    "                    wsMax = wsTest\n",
    "        ws = wsMax.copy()\n",
    "        returnMat[i,:] = ws.T\n",
    "    return returnMat    "
   ]
  },
  {
   "cell_type": "code",
   "execution_count": 109,
   "metadata": {
    "collapsed": true
   },
   "outputs": [],
   "source": [
    "xArr, yArr = loadDataSet(\"./Data/CH8/abalone.txt\")"
   ]
  },
  {
   "cell_type": "code",
   "execution_count": 110,
   "metadata": {},
   "outputs": [
    {
     "name": "stdout",
     "output_type": "stream",
     "text": [
      "[[0. 0. 0. 0. 0. 0. 0. 0.]]\n",
      "[[0.   0.   0.   0.   0.01 0.   0.   0.  ]]\n",
      "[[0.   0.   0.   0.   0.02 0.   0.   0.  ]]\n",
      "[[0.   0.   0.   0.   0.03 0.   0.   0.  ]]\n",
      "[[0.   0.   0.   0.   0.04 0.   0.   0.  ]]\n",
      "[[0.   0.   0.   0.   0.05 0.   0.   0.  ]]\n",
      "[[0.   0.   0.   0.   0.06 0.   0.   0.  ]]\n",
      "[[0.   0.   0.   0.   0.07 0.   0.   0.  ]]\n",
      "[[0.   0.   0.   0.   0.08 0.   0.   0.  ]]\n",
      "[[0.   0.   0.   0.   0.09 0.   0.   0.  ]]\n",
      "[[0.  0.  0.  0.  0.1 0.  0.  0. ]]\n",
      "[[0.   0.   0.   0.   0.11 0.   0.   0.  ]]\n",
      "[[0.   0.   0.   0.   0.12 0.   0.   0.  ]]\n",
      "[[0.   0.   0.   0.   0.13 0.   0.   0.  ]]\n",
      "[[0.   0.   0.   0.   0.14 0.   0.   0.  ]]\n",
      "[[0.   0.   0.   0.   0.15 0.   0.   0.  ]]\n",
      "[[0.   0.   0.   0.   0.16 0.   0.   0.  ]]\n",
      "[[0.   0.   0.   0.   0.17 0.   0.   0.  ]]\n",
      "[[0.   0.   0.   0.   0.18 0.   0.   0.  ]]\n",
      "[[0.   0.   0.   0.   0.19 0.   0.   0.  ]]\n",
      "[[0.  0.  0.  0.  0.2 0.  0.  0. ]]\n",
      "[[0.   0.   0.   0.   0.21 0.   0.   0.  ]]\n",
      "[[0.   0.   0.   0.   0.22 0.   0.   0.  ]]\n",
      "[[0.   0.   0.   0.   0.23 0.   0.   0.  ]]\n",
      "[[0.   0.   0.   0.   0.24 0.   0.   0.  ]]\n",
      "[[0.   0.   0.   0.   0.25 0.   0.   0.  ]]\n",
      "[[0.   0.   0.   0.   0.26 0.   0.   0.  ]]\n",
      "[[0.   0.   0.   0.   0.27 0.   0.   0.  ]]\n",
      "[[0.   0.   0.   0.   0.28 0.   0.   0.  ]]\n",
      "[[0.   0.   0.   0.   0.29 0.   0.   0.  ]]\n",
      "[[0.  0.  0.  0.  0.3 0.  0.  0. ]]\n",
      "[[0.   0.   0.   0.   0.31 0.   0.   0.  ]]\n",
      "[[0.   0.   0.   0.   0.32 0.   0.   0.  ]]\n",
      "[[0.   0.   0.   0.   0.33 0.   0.   0.  ]]\n",
      "[[0.   0.   0.   0.   0.34 0.   0.   0.  ]]\n",
      "[[0.   0.   0.   0.   0.35 0.   0.   0.  ]]\n",
      "[[0.   0.   0.   0.   0.36 0.   0.   0.  ]]\n",
      "[[0.   0.   0.   0.   0.37 0.   0.   0.  ]]\n",
      "[[0.   0.   0.   0.   0.38 0.   0.   0.  ]]\n",
      "[[0.   0.   0.   0.   0.39 0.   0.   0.  ]]\n",
      "[[0.  0.  0.  0.  0.4 0.  0.  0. ]]\n",
      "[[0.   0.   0.   0.   0.41 0.   0.   0.  ]]\n",
      "[[0.   0.   0.   0.   0.42 0.   0.   0.  ]]\n",
      "[[0.   0.   0.   0.   0.43 0.   0.   0.  ]]\n",
      "[[0.   0.   0.   0.   0.44 0.   0.   0.  ]]\n",
      "[[0.   0.   0.   0.   0.45 0.   0.   0.  ]]\n",
      "[[0.   0.   0.   0.   0.46 0.   0.   0.  ]]\n",
      "[[0.   0.   0.   0.   0.47 0.   0.   0.  ]]\n",
      "[[0.   0.   0.   0.   0.48 0.   0.   0.  ]]\n",
      "[[0.   0.   0.   0.   0.49 0.   0.   0.  ]]\n",
      "[[0.  0.  0.  0.  0.5 0.  0.  0. ]]\n",
      "[[0.   0.   0.   0.   0.51 0.   0.   0.  ]]\n",
      "[[0.   0.   0.   0.   0.52 0.   0.   0.  ]]\n",
      "[[0.   0.   0.   0.   0.53 0.   0.   0.  ]]\n",
      "[[0.   0.   0.   0.   0.54 0.   0.   0.  ]]\n",
      "[[0.   0.   0.   0.   0.55 0.   0.   0.  ]]\n",
      "[[0.   0.   0.   0.   0.56 0.   0.   0.  ]]\n",
      "[[0.   0.   0.   0.   0.57 0.   0.   0.  ]]\n",
      "[[0.   0.   0.   0.   0.58 0.   0.   0.  ]]\n",
      "[[0.   0.   0.   0.   0.59 0.   0.   0.  ]]\n",
      "[[0.  0.  0.  0.  0.6 0.  0.  0. ]]\n",
      "[[0.   0.   0.   0.   0.61 0.   0.   0.  ]]\n",
      "[[0.   0.   0.   0.   0.62 0.   0.   0.  ]]\n",
      "[[0.   0.   0.   0.   0.63 0.   0.   0.  ]]\n",
      "[[0.   0.   0.   0.   0.64 0.   0.   0.  ]]\n",
      "[[0.   0.   0.   0.   0.65 0.   0.   0.  ]]\n",
      "[[0.   0.   0.   0.   0.66 0.   0.   0.  ]]\n",
      "[[0.   0.   0.   0.   0.67 0.   0.   0.  ]]\n",
      "[[0.   0.   0.   0.   0.68 0.   0.   0.  ]]\n",
      "[[0.   0.   0.   0.   0.69 0.   0.   0.  ]]\n",
      "[[0.  0.  0.  0.  0.7 0.  0.  0. ]]\n",
      "[[0.   0.   0.   0.   0.71 0.   0.   0.  ]]\n",
      "[[0.   0.   0.   0.   0.72 0.   0.   0.  ]]\n",
      "[[0.   0.   0.   0.   0.73 0.   0.   0.  ]]\n",
      "[[0.   0.   0.   0.   0.74 0.   0.   0.  ]]\n",
      "[[0.   0.   0.   0.   0.75 0.   0.   0.  ]]\n",
      "[[0.   0.   0.   0.   0.76 0.   0.   0.  ]]\n",
      "[[ 0.   -0.01  0.    0.    0.76  0.    0.    0.  ]]\n",
      "[[ 0.   -0.02  0.    0.    0.76  0.    0.    0.  ]]\n",
      "[[ 0.   -0.02  0.    0.    0.77  0.    0.    0.  ]]\n",
      "[[ 0.   -0.03  0.    0.    0.77  0.    0.    0.  ]]\n",
      "[[ 0.   -0.04  0.    0.    0.77  0.    0.    0.  ]]\n",
      "[[ 0.   -0.04  0.    0.    0.78  0.    0.    0.  ]]\n",
      "[[ 0.   -0.05  0.    0.    0.78  0.    0.    0.  ]]\n",
      "[[ 0.   -0.05  0.    0.    0.79  0.    0.    0.  ]]\n",
      "[[ 0.   -0.06  0.    0.    0.79  0.    0.    0.  ]]\n",
      "[[ 0.   -0.07  0.    0.    0.79  0.    0.    0.  ]]\n",
      "[[ 0.   -0.07  0.    0.    0.8   0.    0.    0.  ]]\n",
      "[[ 0.   -0.08  0.    0.    0.8   0.    0.    0.  ]]\n",
      "[[ 0.   -0.09  0.    0.    0.8   0.    0.    0.  ]]\n",
      "[[ 0.   -0.09  0.    0.    0.81  0.    0.    0.  ]]\n",
      "[[ 0.   -0.1   0.    0.    0.81  0.    0.    0.  ]]\n",
      "[[ 0.   -0.11  0.    0.    0.81  0.    0.    0.  ]]\n",
      "[[ 0.   -0.11  0.    0.    0.82  0.    0.    0.  ]]\n",
      "[[ 0.   -0.12  0.    0.    0.82  0.    0.    0.  ]]\n",
      "[[ 0.   -0.13  0.    0.    0.82  0.    0.    0.  ]]\n",
      "[[ 0.   -0.13  0.    0.    0.83  0.    0.    0.  ]]\n",
      "[[ 0.   -0.14  0.    0.    0.83  0.    0.    0.  ]]\n",
      "[[ 0.   -0.14  0.    0.    0.84  0.    0.    0.  ]]\n",
      "[[ 0.   -0.15  0.    0.    0.84  0.    0.    0.  ]]\n",
      "[[ 0.   -0.16  0.    0.    0.84  0.    0.    0.  ]]\n",
      "[[ 0.   -0.16  0.    0.    0.85  0.    0.    0.  ]]\n",
      "[[ 0.   -0.17  0.    0.    0.85  0.    0.    0.  ]]\n",
      "[[ 0.   -0.18  0.    0.    0.85  0.    0.    0.  ]]\n",
      "[[ 0.   -0.18  0.    0.    0.86  0.    0.    0.  ]]\n",
      "[[ 0.   -0.19  0.    0.    0.86  0.    0.    0.  ]]\n",
      "[[ 0.   -0.2   0.    0.    0.86  0.    0.    0.  ]]\n",
      "[[ 0.   -0.2   0.    0.    0.87  0.    0.    0.  ]]\n",
      "[[ 0.   -0.21  0.    0.    0.87  0.    0.    0.  ]]\n",
      "[[ 0.   -0.22  0.    0.    0.87  0.    0.    0.  ]]\n",
      "[[ 0.   -0.22  0.    0.    0.88  0.    0.    0.  ]]\n",
      "[[ 0.   -0.23  0.    0.    0.88  0.    0.    0.  ]]\n",
      "[[ 0.   -0.24  0.    0.    0.88  0.    0.    0.  ]]\n",
      "[[ 0.   -0.24  0.    0.    0.89  0.    0.    0.  ]]\n",
      "[[ 0.   -0.25  0.    0.    0.89  0.    0.    0.  ]]\n",
      "[[ 0.   -0.25  0.    0.    0.9   0.    0.    0.  ]]\n",
      "[[ 0.   -0.26  0.    0.    0.9   0.    0.    0.  ]]\n",
      "[[ 0.   -0.27  0.    0.    0.9   0.    0.    0.  ]]\n",
      "[[ 0.   -0.27  0.    0.    0.91  0.    0.    0.  ]]\n",
      "[[ 0.   -0.28  0.    0.    0.91  0.    0.    0.  ]]\n",
      "[[ 0.   -0.29  0.    0.    0.91  0.    0.    0.  ]]\n",
      "[[ 0.   -0.29  0.    0.    0.92  0.    0.    0.  ]]\n",
      "[[ 0.   -0.3   0.    0.    0.92  0.    0.    0.  ]]\n",
      "[[ 0.   -0.31  0.    0.    0.92  0.    0.    0.  ]]\n",
      "[[ 0.   -0.31  0.    0.    0.93  0.    0.    0.  ]]\n",
      "[[ 0.   -0.32  0.    0.    0.93  0.    0.    0.  ]]\n",
      "[[ 0.   -0.33  0.    0.    0.93  0.    0.    0.  ]]\n",
      "[[ 0.   -0.33  0.    0.    0.94  0.    0.    0.  ]]\n",
      "[[ 0.   -0.34  0.    0.    0.94  0.    0.    0.  ]]\n",
      "[[ 0.   -0.35  0.    0.    0.94  0.    0.    0.  ]]\n",
      "[[ 0.   -0.35  0.    0.    0.95  0.    0.    0.  ]]\n",
      "[[ 0.   -0.36  0.    0.    0.95  0.    0.    0.  ]]\n",
      "[[ 0.   -0.36  0.    0.    0.96  0.    0.    0.  ]]\n",
      "[[ 0.   -0.37  0.    0.    0.96  0.    0.    0.  ]]\n",
      "[[ 0.   -0.38  0.    0.    0.96  0.    0.    0.  ]]\n",
      "[[ 0.   -0.38  0.    0.    0.97  0.    0.    0.  ]]\n",
      "[[ 0.   -0.39  0.    0.    0.97  0.    0.    0.  ]]\n",
      "[[ 0.   -0.4   0.    0.    0.97  0.    0.    0.  ]]\n",
      "[[ 0.   -0.4   0.    0.    0.98  0.    0.    0.  ]]\n",
      "[[ 0.   -0.41  0.    0.    0.98  0.    0.    0.  ]]\n",
      "[[ 0.   -0.42  0.    0.    0.98  0.    0.    0.  ]]\n",
      "[[ 0.   -0.42  0.    0.    0.99  0.    0.    0.  ]]\n",
      "[[ 0.   -0.43  0.    0.    0.99  0.    0.    0.  ]]\n",
      "[[ 0.   -0.44  0.    0.    0.99  0.    0.    0.  ]]\n",
      "[[ 0.   -0.44  0.    0.    1.    0.    0.    0.  ]]\n",
      "[[ 0.   -0.45  0.    0.    1.    0.    0.    0.  ]]\n",
      "[[ 0.   -0.45  0.    0.    1.01  0.    0.    0.  ]]\n",
      "[[ 0.   -0.46  0.    0.    1.01  0.    0.    0.  ]]\n",
      "[[ 0.   -0.47  0.    0.    1.01  0.    0.    0.  ]]\n",
      "[[ 0.   -0.47  0.    0.    1.02  0.    0.    0.  ]]\n",
      "[[ 0.   -0.48  0.    0.    1.02  0.    0.    0.  ]]\n",
      "[[ 0.   -0.49  0.    0.    1.02  0.    0.    0.  ]]\n",
      "[[ 0.   -0.49  0.    0.    1.03  0.    0.    0.  ]]\n",
      "[[ 0.   -0.5   0.    0.    1.03  0.    0.    0.  ]]\n",
      "[[ 0.   -0.51  0.    0.    1.03  0.    0.    0.  ]]\n",
      "[[ 0.   -0.51  0.    0.    1.04  0.    0.    0.  ]]\n",
      "[[ 0.   -0.52  0.    0.    1.04  0.    0.    0.  ]]\n",
      "[[ 0.   -0.53  0.    0.    1.04  0.    0.    0.  ]]\n",
      "[[ 0.   -0.53  0.    0.    1.05  0.    0.    0.  ]]\n",
      "[[ 0.   -0.54  0.    0.    1.05  0.    0.    0.  ]]\n",
      "[[ 0.   -0.55  0.    0.    1.05  0.    0.    0.  ]]\n",
      "[[ 0.   -0.55  0.    0.    1.06  0.    0.    0.  ]]\n",
      "[[ 0.   -0.56  0.    0.    1.06  0.    0.    0.  ]]\n",
      "[[ 0.   -0.56  0.    0.    1.07  0.    0.    0.  ]]\n",
      "[[ 0.   -0.57  0.    0.    1.07  0.    0.    0.  ]]\n",
      "[[ 0.   -0.58  0.    0.    1.07  0.    0.    0.  ]]\n",
      "[[ 0.   -0.58  0.    0.    1.08  0.    0.    0.  ]]\n",
      "[[ 0.   -0.59  0.    0.    1.08  0.    0.    0.  ]]\n",
      "[[ 0.   -0.6   0.    0.    1.08  0.    0.    0.  ]]\n",
      "[[ 0.   -0.6   0.    0.    1.09  0.    0.    0.  ]]\n",
      "[[ 0.   -0.61  0.    0.    1.09  0.    0.    0.  ]]\n",
      "[[ 0.   -0.62  0.    0.    1.09  0.    0.    0.  ]]\n",
      "[[ 0.   -0.62  0.    0.    1.1   0.    0.    0.  ]]\n",
      "[[ 0.   -0.63  0.    0.    1.1   0.    0.    0.  ]]\n",
      "[[ 0.   -0.64  0.    0.    1.1   0.    0.    0.  ]]\n",
      "[[ 0.   -0.64  0.    0.    1.11  0.    0.    0.  ]]\n",
      "[[ 0.   -0.65  0.    0.    1.11  0.    0.    0.  ]]\n",
      "[[ 0.   -0.65  0.    0.    1.12  0.    0.    0.  ]]\n",
      "[[ 0.   -0.66  0.    0.    1.12  0.    0.    0.  ]]\n",
      "[[ 0.   -0.67  0.    0.    1.12  0.    0.    0.  ]]\n",
      "[[ 0.   -0.67  0.    0.    1.13  0.    0.    0.  ]]\n",
      "[[ 0.   -0.68  0.    0.    1.13  0.    0.    0.  ]]\n",
      "[[ 0.   -0.69  0.    0.    1.13  0.    0.    0.  ]]\n",
      "[[ 0.   -0.69  0.    0.    1.14  0.    0.    0.  ]]\n",
      "[[ 0.   -0.7   0.    0.    1.14  0.    0.    0.  ]]\n",
      "[[ 0.   -0.71  0.    0.    1.14  0.    0.    0.  ]]\n",
      "[[ 0.   -0.71  0.    0.    1.15  0.    0.    0.  ]]\n",
      "[[ 0.   -0.72  0.    0.    1.15  0.    0.    0.  ]]\n",
      "[[ 0.   -0.73  0.    0.    1.15  0.    0.    0.  ]]\n",
      "[[ 0.   -0.73  0.    0.    1.16  0.    0.    0.  ]]\n",
      "[[ 0.   -0.74  0.    0.    1.16  0.    0.    0.  ]]\n",
      "[[ 0.   -0.75  0.    0.    1.16  0.    0.    0.  ]]\n",
      "[[ 0.   -0.75  0.    0.    1.17  0.    0.    0.  ]]\n",
      "[[ 0.   -0.76  0.    0.    1.17  0.    0.    0.  ]]\n",
      "[[ 0.   -0.76  0.    0.    1.18  0.    0.    0.  ]]\n",
      "[[ 0.   -0.77  0.    0.    1.18  0.    0.    0.  ]]\n",
      "[[ 0.   -0.78  0.    0.    1.18  0.    0.    0.  ]]\n",
      "[[ 0.   -0.78  0.    0.    1.19  0.    0.    0.  ]]\n",
      "[[ 0.   -0.79  0.    0.    1.19  0.    0.    0.  ]]\n",
      "[[ 0.   -0.8   0.    0.    1.19  0.    0.    0.  ]]\n"
     ]
    },
    {
     "data": {
      "text/plain": [
       "array([[ 0.  ,  0.  ,  0.  , ...,  0.  ,  0.  ,  0.  ],\n",
       "       [ 0.  ,  0.  ,  0.  , ...,  0.  ,  0.  ,  0.  ],\n",
       "       [ 0.  ,  0.  ,  0.  , ...,  0.  ,  0.  ,  0.  ],\n",
       "       ...,\n",
       "       [ 0.  , -0.79,  0.  , ...,  0.  ,  0.  ,  0.  ],\n",
       "       [ 0.  , -0.8 ,  0.  , ...,  0.  ,  0.  ,  0.  ],\n",
       "       [ 0.  , -0.8 ,  0.  , ...,  0.  ,  0.  ,  0.  ]])"
      ]
     },
     "execution_count": 110,
     "metadata": {},
     "output_type": "execute_result"
    }
   ],
   "source": [
    "stageWise(xArr, yArr, 0.01, 200)"
   ]
  },
  {
   "cell_type": "code",
   "execution_count": 112,
   "metadata": {
    "collapsed": true
   },
   "outputs": [],
   "source": [
    "def regularize(xMat):#regularize by columns\n",
    "    inMat = xMat.copy()\n",
    "    inMeans = np.mean(inMat,0)   #calc mean then subtract it off\n",
    "    inVar = np.var(inMat,0)      #calc variance of Xi then divide by it\n",
    "    inMat = (inMat - inMeans)/inVar\n",
    "    return inMat"
   ]
  },
  {
   "cell_type": "code",
   "execution_count": 113,
   "metadata": {},
   "outputs": [
    {
     "data": {
      "text/plain": [
       "matrix([[ 0.0430442 , -0.02274163,  0.13214087,  0.02075182,  2.22403814,\n",
       "         -0.99895312, -0.11725427,  0.16622915]])"
      ]
     },
     "execution_count": 113,
     "metadata": {},
     "output_type": "execute_result"
    }
   ],
   "source": [
    "xMat = np.mat(xArr)\n",
    "yMat = np.mat(yArr).T\n",
    "xMat = regularize(xMat)\n",
    "yM = np.mean(yMat,0)\n",
    "yMat = yMat - yM\n",
    "weights = standRegres(xMat, yMat.T)\n",
    "weights.T"
   ]
  },
  {
   "cell_type": "code",
   "execution_count": 120,
   "metadata": {
    "collapsed": true
   },
   "outputs": [],
   "source": [
    "# def stageWiseTest(abX, abY):\n",
    "#     xMat = np.mat(abX)\n",
    "#     yMat = np.mat(abY).T\n",
    "#     xMat = regularize(xMat)\n",
    "#     yMat = regularize(yMat)\n",
    "#     numTestPts = 30\n",
    "#     wMat = np.zeros((numTestPts,np.shape(xMat)[1]))\n",
    "#     for i in range(numTestPts):\n",
    "#         ws = stageWise(xMat, yMat, np.exp(i-10),200)\n",
    "#         wMat[i,:] = ws.T\n",
    "#     return wMat"
   ]
  },
  {
   "cell_type": "markdown",
   "metadata": {},
   "source": [
    "### Bias and Virance"
   ]
  },
  {
   "cell_type": "markdown",
   "metadata": {
    "collapsed": true
   },
   "source": [
    "- 方差☞模型之间的差异\n",
    "- 偏差☞模型预测值和数据之间的差异"
   ]
  },
  {
   "cell_type": "markdown",
   "metadata": {},
   "source": [
    "### EX : LEGO"
   ]
  },
  {
   "cell_type": "markdown",
   "metadata": {
    "collapsed": true
   },
   "source": [
    "数据接口变了，提供的是eBay的数据"
   ]
  },
  {
   "cell_type": "markdown",
   "metadata": {},
   "source": [
    "#### CV"
   ]
  },
  {
   "cell_type": "code",
   "execution_count": null,
   "metadata": {
    "collapsed": true
   },
   "outputs": [],
   "source": []
  },
  {
   "cell_type": "markdown",
   "metadata": {
    "collapsed": true
   },
   "source": [
    "## Sklearn"
   ]
  },
  {
   "cell_type": "markdown",
   "metadata": {},
   "source": [
    "### EX1 : Abalone"
   ]
  },
  {
   "cell_type": "markdown",
   "metadata": {},
   "source": [
    "#### LinearRegression"
   ]
  },
  {
   "cell_type": "code",
   "execution_count": 221,
   "metadata": {},
   "outputs": [],
   "source": [
    "X, y = loadDataSet('./Data/CH8/abalone.txt')"
   ]
  },
  {
   "cell_type": "code",
   "execution_count": 148,
   "metadata": {},
   "outputs": [],
   "source": [
    "from sklearn.linear_model import LinearRegression\n",
    "from sklearn.model_selection import train_test_split\n",
    "import numpy as np"
   ]
  },
  {
   "cell_type": "code",
   "execution_count": 149,
   "metadata": {},
   "outputs": [
    {
     "data": {
      "text/plain": [
       "LinearRegression(copy_X=True, fit_intercept=True, n_jobs=1, normalize=False)"
      ]
     },
     "execution_count": 149,
     "metadata": {},
     "output_type": "execute_result"
    }
   ],
   "source": [
    "X_train, X_test, y_train, y_test = train_test_split(np.array(X),np.array(y),test_size=0.2,random_state = 2018)\n",
    "clf = LinearRegression()\n",
    "clf.fit(X_train,y_train)"
   ]
  },
  {
   "cell_type": "code",
   "execution_count": 150,
   "metadata": {},
   "outputs": [
    {
     "data": {
      "text/plain": [
       "array([  0.06026924,  -2.59687589,  11.9440577 ,  25.74179628,\n",
       "         9.18727754, -19.827113  ,  -9.62773854,   6.15003366])"
      ]
     },
     "execution_count": 150,
     "metadata": {},
     "output_type": "execute_result"
    }
   ],
   "source": [
    "y_pred = clf.predict(X_test)\n",
    "clf.coef_"
   ]
  },
  {
   "cell_type": "code",
   "execution_count": 151,
   "metadata": {},
   "outputs": [],
   "source": [
    "from sklearn.metrics import mean_squared_error"
   ]
  },
  {
   "cell_type": "code",
   "execution_count": 152,
   "metadata": {},
   "outputs": [
    {
     "data": {
      "text/plain": [
       "6.352735940932754"
      ]
     },
     "execution_count": 152,
     "metadata": {},
     "output_type": "execute_result"
    }
   ],
   "source": [
    "mean_squared_error(y_test,y_pred)"
   ]
  },
  {
   "cell_type": "code",
   "execution_count": 153,
   "metadata": {},
   "outputs": [
    {
     "data": {
      "text/plain": [
       "0.48671157752582356"
      ]
     },
     "execution_count": 153,
     "metadata": {},
     "output_type": "execute_result"
    }
   ],
   "source": [
    "# R2\n",
    "clf.score(X_test,y_test)"
   ]
  },
  {
   "cell_type": "markdown",
   "metadata": {},
   "source": [
    "#### RidgeRegression"
   ]
  },
  {
   "cell_type": "code",
   "execution_count": 208,
   "metadata": {},
   "outputs": [
    {
     "data": {
      "text/plain": [
       "Ridge(alpha=0.1, copy_X=True, fit_intercept=True, max_iter=None,\n",
       "   normalize=False, random_state=None, solver='auto', tol=0.001)"
      ]
     },
     "execution_count": 208,
     "metadata": {},
     "output_type": "execute_result"
    }
   ],
   "source": [
    "from sklearn.linear_model import Ridge\n",
    "clf = Ridge(alpha=0.1)\n",
    "clf.fit(X_train, y_train)"
   ]
  },
  {
   "cell_type": "code",
   "execution_count": 209,
   "metadata": {},
   "outputs": [
    {
     "data": {
      "text/plain": [
       "6.179758120851155"
      ]
     },
     "execution_count": 209,
     "metadata": {},
     "output_type": "execute_result"
    }
   ],
   "source": [
    "y_pred = clf.predict(X_test)\n",
    "mean_squared_error(y_test,y_pred)"
   ]
  },
  {
   "cell_type": "code",
   "execution_count": 210,
   "metadata": {},
   "outputs": [
    {
     "data": {
      "text/plain": [
       "array([  0.05803489,  -1.4350165 ,  10.93750646,  23.01067895,\n",
       "         8.84244114, -19.51056886,  -8.98434913,   6.82338736])"
      ]
     },
     "execution_count": 210,
     "metadata": {},
     "output_type": "execute_result"
    }
   ],
   "source": [
    "clf.coef_"
   ]
  },
  {
   "cell_type": "markdown",
   "metadata": {},
   "source": [
    "以上\n",
    "- 增大Alpha，系数会衰减\n",
    "- 下面用5折交叉验证"
   ]
  },
  {
   "cell_type": "markdown",
   "metadata": {},
   "source": [
    "RidgeCV"
   ]
  },
  {
   "cell_type": "code",
   "execution_count": 211,
   "metadata": {},
   "outputs": [
    {
     "data": {
      "text/plain": [
       "RidgeCV(alphas=(0.001, 0.01, 0.1), cv=5, fit_intercept=True, gcv_mode=None,\n",
       "    normalize=False, scoring=None, store_cv_values=False)"
      ]
     },
     "execution_count": 211,
     "metadata": {},
     "output_type": "execute_result"
    }
   ],
   "source": [
    "from sklearn.linear_model import RidgeCV\n",
    "clf = RidgeCV(alphas=(0.001,0.01,0.1),cv=5)\n",
    "clf.fit(X_train, y_train)"
   ]
  },
  {
   "cell_type": "code",
   "execution_count": 212,
   "metadata": {},
   "outputs": [
    {
     "data": {
      "text/plain": [
       "6.332078823180617"
      ]
     },
     "execution_count": 212,
     "metadata": {},
     "output_type": "execute_result"
    }
   ],
   "source": [
    "y_pred = clf.predict(X_test)\n",
    "mean_squared_error(y_test,y_pred)"
   ]
  },
  {
   "cell_type": "code",
   "execution_count": 213,
   "metadata": {},
   "outputs": [
    {
     "data": {
      "text/plain": [
       "0.01"
      ]
     },
     "execution_count": 213,
     "metadata": {},
     "output_type": "execute_result"
    }
   ],
   "source": [
    "clf.alpha_"
   ]
  },
  {
   "cell_type": "markdown",
   "metadata": {},
   "source": [
    "其实0.1最小，但是传0.001进去你看"
   ]
  },
  {
   "cell_type": "markdown",
   "metadata": {},
   "source": [
    "#### LASSO"
   ]
  },
  {
   "cell_type": "code",
   "execution_count": 225,
   "metadata": {
    "collapsed": true
   },
   "outputs": [],
   "source": [
    "from sklearn.linear_model import Lasso\n",
    "clf = Lasso(alpha=0.1)"
   ]
  },
  {
   "cell_type": "code",
   "execution_count": 226,
   "metadata": {},
   "outputs": [
    {
     "data": {
      "text/plain": [
       "8.79519636205887"
      ]
     },
     "execution_count": 226,
     "metadata": {},
     "output_type": "execute_result"
    }
   ],
   "source": [
    "clf.fit(X_train, y_train)\n",
    "y_pred = clf.predict(X_test)\n",
    "mean_squared_error(y_test,y_pred)"
   ]
  },
  {
   "cell_type": "markdown",
   "metadata": {},
   "source": [
    "LassoCV"
   ]
  },
  {
   "cell_type": "code",
   "execution_count": 222,
   "metadata": {
    "collapsed": true
   },
   "outputs": [],
   "source": [
    "from sklearn.linear_model import LassoCV\n",
    "clf = LassoCV(alphas=(0.01,0.01,0.1,1),cv=5,copy_X=True)"
   ]
  },
  {
   "cell_type": "code",
   "execution_count": 223,
   "metadata": {},
   "outputs": [
    {
     "data": {
      "text/plain": [
       "5.882310490550318"
      ]
     },
     "execution_count": 223,
     "metadata": {},
     "output_type": "execute_result"
    }
   ],
   "source": [
    "clf.fit(X_train, y_train)\n",
    "y_pred = clf.predict(X_test)\n",
    "mean_squared_error(y_test,y_pred)"
   ]
  },
  {
   "cell_type": "code",
   "execution_count": 224,
   "metadata": {},
   "outputs": [
    {
     "data": {
      "text/plain": [
       "0.01"
      ]
     },
     "execution_count": 224,
     "metadata": {},
     "output_type": "execute_result"
    }
   ],
   "source": [
    "clf.alpha_"
   ]
  },
  {
   "cell_type": "markdown",
   "metadata": {},
   "source": [
    "## Refs"
   ]
  },
  {
   "cell_type": "markdown",
   "metadata": {},
   "source": [
    "1. [Ridge](http://scikit-learn.org/stable/auto_examples/linear_model/plot_ridge_coeffs.html#sphx-glr-auto-examples-linear-model-plot-ridge-coeffs-py)"
   ]
  }
 ],
 "metadata": {
  "kernelspec": {
   "display_name": "Python 3",
   "language": "python",
   "name": "python3"
  },
  "language_info": {
   "codemirror_mode": {
    "name": "ipython",
    "version": 3
   },
   "file_extension": ".py",
   "mimetype": "text/x-python",
   "name": "python",
   "nbconvert_exporter": "python",
   "pygments_lexer": "ipython3",
   "version": "3.6.3"
  },
  "toc": {
   "base_numbering": 1,
   "nav_menu": {},
   "number_sections": true,
   "sideBar": true,
   "skip_h1_title": true,
   "title_cell": "Table of Contents",
   "title_sidebar": "Contents",
   "toc_cell": false,
   "toc_position": {},
   "toc_section_display": true,
   "toc_window_display": true
  }
 },
 "nbformat": 4,
 "nbformat_minor": 2
}
