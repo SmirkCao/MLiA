{
 "cells": [
  {
   "cell_type": "markdown",
   "metadata": {},
   "source": [
    "# CH13 PCA"
   ]
  },
  {
   "cell_type": "code",
   "execution_count": 1,
   "metadata": {
    "collapsed": true
   },
   "outputs": [],
   "source": [
    "import pandas as pd\n",
    "import matplotlib.pyplot as plt\n",
    "import numpy as np"
   ]
  },
  {
   "cell_type": "markdown",
   "metadata": {},
   "source": [
    "## Dimensionality reduction\n",
    "- 使数据集更容易使用\n",
    "- 降低计算开销\n",
    "- 去除噪声\n",
    "- 使得结果容易理解\n",
    "\n",
    "三种降维技术\n",
    "- **主成分分析**（Principal Component Analysis）\n",
    "- 因子分析(Factor Analysis)\n",
    "- 独立成分分析(Independent Component Analysis)"
   ]
  },
  {
   "cell_type": "markdown",
   "metadata": {},
   "source": [
    "## MLiA"
   ]
  },
  {
   "cell_type": "markdown",
   "metadata": {},
   "source": [
    "### PCA"
   ]
  },
  {
   "cell_type": "markdown",
   "metadata": {},
   "source": [
    "#### Raw data"
   ]
  },
  {
   "cell_type": "markdown",
   "metadata": {},
   "source": [
    "##### Load Data"
   ]
  },
  {
   "cell_type": "code",
   "execution_count": 2,
   "metadata": {},
   "outputs": [
    {
     "data": {
      "text/html": [
       "<div>\n",
       "<style>\n",
       "    .dataframe thead tr:only-child th {\n",
       "        text-align: right;\n",
       "    }\n",
       "\n",
       "    .dataframe thead th {\n",
       "        text-align: left;\n",
       "    }\n",
       "\n",
       "    .dataframe tbody tr th {\n",
       "        vertical-align: top;\n",
       "    }\n",
       "</style>\n",
       "<table border=\"1\" class=\"dataframe\">\n",
       "  <thead>\n",
       "    <tr style=\"text-align: right;\">\n",
       "      <th></th>\n",
       "      <th>0</th>\n",
       "      <th>1</th>\n",
       "    </tr>\n",
       "  </thead>\n",
       "  <tbody>\n",
       "    <tr>\n",
       "      <th>0</th>\n",
       "      <td>10.235186</td>\n",
       "      <td>11.321997</td>\n",
       "    </tr>\n",
       "    <tr>\n",
       "      <th>1</th>\n",
       "      <td>10.122339</td>\n",
       "      <td>11.810993</td>\n",
       "    </tr>\n",
       "    <tr>\n",
       "      <th>2</th>\n",
       "      <td>9.190236</td>\n",
       "      <td>8.904943</td>\n",
       "    </tr>\n",
       "    <tr>\n",
       "      <th>3</th>\n",
       "      <td>9.306371</td>\n",
       "      <td>9.847394</td>\n",
       "    </tr>\n",
       "    <tr>\n",
       "      <th>4</th>\n",
       "      <td>8.330131</td>\n",
       "      <td>8.340352</td>\n",
       "    </tr>\n",
       "  </tbody>\n",
       "</table>\n",
       "</div>"
      ],
      "text/plain": [
       "           0          1\n",
       "0  10.235186  11.321997\n",
       "1  10.122339  11.810993\n",
       "2   9.190236   8.904943\n",
       "3   9.306371   9.847394\n",
       "4   8.330131   8.340352"
      ]
     },
     "execution_count": 2,
     "metadata": {},
     "output_type": "execute_result"
    }
   ],
   "source": [
    "df = pd.read_table(\"./Data/CH13/testSet.txt\",header=None)\n",
    "df.head()"
   ]
  },
  {
   "cell_type": "code",
   "execution_count": 3,
   "metadata": {},
   "outputs": [
    {
     "data": {
      "text/html": [
       "<div>\n",
       "<style>\n",
       "    .dataframe thead tr:only-child th {\n",
       "        text-align: right;\n",
       "    }\n",
       "\n",
       "    .dataframe thead th {\n",
       "        text-align: left;\n",
       "    }\n",
       "\n",
       "    .dataframe tbody tr th {\n",
       "        vertical-align: top;\n",
       "    }\n",
       "</style>\n",
       "<table border=\"1\" class=\"dataframe\">\n",
       "  <thead>\n",
       "    <tr style=\"text-align: right;\">\n",
       "      <th></th>\n",
       "      <th>0</th>\n",
       "      <th>1</th>\n",
       "    </tr>\n",
       "  </thead>\n",
       "  <tbody>\n",
       "    <tr>\n",
       "      <th>count</th>\n",
       "      <td>1000.000000</td>\n",
       "      <td>1000.000000</td>\n",
       "    </tr>\n",
       "    <tr>\n",
       "      <th>mean</th>\n",
       "      <td>9.063936</td>\n",
       "      <td>9.096002</td>\n",
       "    </tr>\n",
       "    <tr>\n",
       "      <th>std</th>\n",
       "      <td>1.025663</td>\n",
       "      <td>1.487167</td>\n",
       "    </tr>\n",
       "    <tr>\n",
       "      <th>min</th>\n",
       "      <td>5.985254</td>\n",
       "      <td>4.130251</td>\n",
       "    </tr>\n",
       "    <tr>\n",
       "      <th>25%</th>\n",
       "      <td>8.369062</td>\n",
       "      <td>8.147403</td>\n",
       "    </tr>\n",
       "    <tr>\n",
       "      <th>50%</th>\n",
       "      <td>9.030265</td>\n",
       "      <td>9.095864</td>\n",
       "    </tr>\n",
       "    <tr>\n",
       "      <th>75%</th>\n",
       "      <td>9.756880</td>\n",
       "      <td>10.126182</td>\n",
       "    </tr>\n",
       "    <tr>\n",
       "      <th>max</th>\n",
       "      <td>12.677687</td>\n",
       "      <td>13.901513</td>\n",
       "    </tr>\n",
       "  </tbody>\n",
       "</table>\n",
       "</div>"
      ],
      "text/plain": [
       "                 0            1\n",
       "count  1000.000000  1000.000000\n",
       "mean      9.063936     9.096002\n",
       "std       1.025663     1.487167\n",
       "min       5.985254     4.130251\n",
       "25%       8.369062     8.147403\n",
       "50%       9.030265     9.095864\n",
       "75%       9.756880    10.126182\n",
       "max      12.677687    13.901513"
      ]
     },
     "execution_count": 3,
     "metadata": {},
     "output_type": "execute_result"
    }
   ],
   "source": [
    "df.describe()"
   ]
  },
  {
   "cell_type": "markdown",
   "metadata": {},
   "source": [
    "##### Visualization"
   ]
  },
  {
   "cell_type": "code",
   "execution_count": 4,
   "metadata": {},
   "outputs": [
    {
     "data": {
      "image/png": "[encoded data removed]",
      "text/plain": [
       "<matplotlib.figure.Figure at 0x1b49e081358>"
      ]
     },
     "metadata": {},
     "output_type": "display_data"
    }
   ],
   "source": [
    "dataMat = df.values\n",
    "plt.figure(figsize=(6,7))\n",
    "plt.scatter(x=dataMat[:,0],y=dataMat[:,1])\n",
    "plt.xlim(5,14)\n",
    "plt.show()"
   ]
  },
  {
   "cell_type": "markdown",
   "metadata": {},
   "source": [
    "#### PCA"
   ]
  },
  {
   "cell_type": "markdown",
   "metadata": {},
   "source": [
    "##### Algorithm"
   ]
  },
  {
   "cell_type": "code",
   "execution_count": 5,
   "metadata": {
    "collapsed": true
   },
   "outputs": [],
   "source": [
    "def pca(dataMat, topNfeat=9999999):\n",
    "    meanVals = np.mean(dataMat, axis=0)\n",
    "    # 1 去掉均值B = A - Mean\n",
    "    meanRemoved = dataMat - meanVals #remove mean\n",
    "    # 2 计算协方差矩阵C = cov(B)\n",
    "    covMat = np.cov(meanRemoved, rowvar=0)\n",
    "    # 3 求特征值和特征向量\n",
    "    eigVals,eigVects = np.linalg.eig(np.mat(covMat))\n",
    "    eigValInd = np.argsort(eigVals)            #sort, sort goes smallest to largest\n",
    "    # 4 降维 TopN\n",
    "    eigValInd = eigValInd[:-(topNfeat+1):-1]  #cut off unwanted dimensions\n",
    "    redEigVects = eigVects[:,eigValInd]       #reorganize eig vects largest to smallest\n",
    "    \n",
    "    lowDDataMat = meanRemoved * redEigVects#transform data into new dimensions\n",
    "    reconMat = (lowDDataMat * redEigVects.T) + meanVals\n",
    "    return lowDDataMat, reconMat"
   ]
  },
  {
   "cell_type": "code",
   "execution_count": 6,
   "metadata": {
    "collapsed": true
   },
   "outputs": [],
   "source": [
    "lowDMat, reconMat = pca(dataMat,1)"
   ]
  },
  {
   "cell_type": "code",
   "execution_count": 7,
   "metadata": {},
   "outputs": [
    {
     "data": {
      "text/plain": [
       "matrix([[10.37044569, 11.23955536],\n",
       "        [10.55719313, 11.54594665],\n",
       "        [ 9.01323877,  9.01282393],\n",
       "        ...,\n",
       "        [ 9.32502753,  9.52436704],\n",
       "        [ 9.0946364 ,  9.14637075],\n",
       "        [ 9.16271152,  9.2580597 ]])"
      ]
     },
     "execution_count": 7,
     "metadata": {},
     "output_type": "execute_result"
    }
   ],
   "source": [
    "reconMat"
   ]
  },
  {
   "cell_type": "markdown",
   "metadata": {},
   "source": [
    "##### Visualization"
   ]
  },
  {
   "cell_type": "code",
   "execution_count": 8,
   "metadata": {},
   "outputs": [
    {
     "data": {
      "image/png": "[encoded data removed]",
      "text/plain": [
       "<matplotlib.figure.Figure at 0x1b4a0150780>"
      ]
     },
     "metadata": {},
     "output_type": "display_data"
    }
   ],
   "source": [
    "plt.figure(figsize=(6,7))\n",
    "plt.scatter(x=dataMat[:,0],y=dataMat[:,1])\n",
    "plt.scatter(x=reconMat.A[:,0],y=reconMat.A[:,1])\n",
    "plt.xlim(5,14)\n",
    "plt.show()"
   ]
  },
  {
   "cell_type": "code",
   "execution_count": 9,
   "metadata": {},
   "outputs": [
    {
     "data": {
      "image/png": "[encoded data removed]",
      "text/plain": [
       "<matplotlib.figure.Figure at 0x1b4a018c470>"
      ]
     },
     "metadata": {},
     "output_type": "display_data"
    }
   ],
   "source": [
    "lowDMat, reconMat = pca(dataMat,2)\n",
    "plt.figure(figsize=(6,7))\n",
    "plt.scatter(x=reconMat.A[:,0],y=reconMat.A[:,1])\n",
    "plt.xlim(5,14)\n",
    "plt.show()"
   ]
  },
  {
   "cell_type": "markdown",
   "metadata": {},
   "source": [
    "### EX : Secom"
   ]
  },
  {
   "cell_type": "code",
   "execution_count": 10,
   "metadata": {
    "collapsed": true
   },
   "outputs": [],
   "source": [
    "df = pd.read_csv(\"./Data/CH13/secom.data\",sep=\" \",header = None)"
   ]
  },
  {
   "cell_type": "code",
   "execution_count": 11,
   "metadata": {},
   "outputs": [
    {
     "data": {
      "text/html": [
       "<div>\n",
       "<style>\n",
       "    .dataframe thead tr:only-child th {\n",
       "        text-align: right;\n",
       "    }\n",
       "\n",
       "    .dataframe thead th {\n",
       "        text-align: left;\n",
       "    }\n",
       "\n",
       "    .dataframe tbody tr th {\n",
       "        vertical-align: top;\n",
       "    }\n",
       "</style>\n",
       "<table border=\"1\" class=\"dataframe\">\n",
       "  <thead>\n",
       "    <tr style=\"text-align: right;\">\n",
       "      <th></th>\n",
       "      <th>0</th>\n",
       "      <th>1</th>\n",
       "      <th>2</th>\n",
       "      <th>3</th>\n",
       "      <th>4</th>\n",
       "      <th>5</th>\n",
       "      <th>6</th>\n",
       "      <th>7</th>\n",
       "      <th>8</th>\n",
       "      <th>9</th>\n",
       "      <th>...</th>\n",
       "      <th>580</th>\n",
       "      <th>581</th>\n",
       "      <th>582</th>\n",
       "      <th>583</th>\n",
       "      <th>584</th>\n",
       "      <th>585</th>\n",
       "      <th>586</th>\n",
       "      <th>587</th>\n",
       "      <th>588</th>\n",
       "      <th>589</th>\n",
       "    </tr>\n",
       "  </thead>\n",
       "  <tbody>\n",
       "    <tr>\n",
       "      <th>0</th>\n",
       "      <td>3030.93</td>\n",
       "      <td>2564.00</td>\n",
       "      <td>2187.7333</td>\n",
       "      <td>1411.1265</td>\n",
       "      <td>1.3602</td>\n",
       "      <td>100.0</td>\n",
       "      <td>97.6133</td>\n",
       "      <td>0.1242</td>\n",
       "      <td>1.5005</td>\n",
       "      <td>0.0162</td>\n",
       "      <td>...</td>\n",
       "      <td>NaN</td>\n",
       "      <td>NaN</td>\n",
       "      <td>0.5005</td>\n",
       "      <td>0.0118</td>\n",
       "      <td>0.0035</td>\n",
       "      <td>2.3630</td>\n",
       "      <td>NaN</td>\n",
       "      <td>NaN</td>\n",
       "      <td>NaN</td>\n",
       "      <td>NaN</td>\n",
       "    </tr>\n",
       "    <tr>\n",
       "      <th>1</th>\n",
       "      <td>3095.78</td>\n",
       "      <td>2465.14</td>\n",
       "      <td>2230.4222</td>\n",
       "      <td>1463.6606</td>\n",
       "      <td>0.8294</td>\n",
       "      <td>100.0</td>\n",
       "      <td>102.3433</td>\n",
       "      <td>0.1247</td>\n",
       "      <td>1.4966</td>\n",
       "      <td>-0.0005</td>\n",
       "      <td>...</td>\n",
       "      <td>0.0060</td>\n",
       "      <td>208.2045</td>\n",
       "      <td>0.5019</td>\n",
       "      <td>0.0223</td>\n",
       "      <td>0.0055</td>\n",
       "      <td>4.4447</td>\n",
       "      <td>0.0096</td>\n",
       "      <td>0.0201</td>\n",
       "      <td>0.0060</td>\n",
       "      <td>208.2045</td>\n",
       "    </tr>\n",
       "    <tr>\n",
       "      <th>2</th>\n",
       "      <td>2932.61</td>\n",
       "      <td>2559.94</td>\n",
       "      <td>2186.4111</td>\n",
       "      <td>1698.0172</td>\n",
       "      <td>1.5102</td>\n",
       "      <td>100.0</td>\n",
       "      <td>95.4878</td>\n",
       "      <td>0.1241</td>\n",
       "      <td>1.4436</td>\n",
       "      <td>0.0041</td>\n",
       "      <td>...</td>\n",
       "      <td>0.0148</td>\n",
       "      <td>82.8602</td>\n",
       "      <td>0.4958</td>\n",
       "      <td>0.0157</td>\n",
       "      <td>0.0039</td>\n",
       "      <td>3.1745</td>\n",
       "      <td>0.0584</td>\n",
       "      <td>0.0484</td>\n",
       "      <td>0.0148</td>\n",
       "      <td>82.8602</td>\n",
       "    </tr>\n",
       "    <tr>\n",
       "      <th>3</th>\n",
       "      <td>2988.72</td>\n",
       "      <td>2479.90</td>\n",
       "      <td>2199.0333</td>\n",
       "      <td>909.7926</td>\n",
       "      <td>1.3204</td>\n",
       "      <td>100.0</td>\n",
       "      <td>104.2367</td>\n",
       "      <td>0.1217</td>\n",
       "      <td>1.4882</td>\n",
       "      <td>-0.0124</td>\n",
       "      <td>...</td>\n",
       "      <td>0.0044</td>\n",
       "      <td>73.8432</td>\n",
       "      <td>0.4990</td>\n",
       "      <td>0.0103</td>\n",
       "      <td>0.0025</td>\n",
       "      <td>2.0544</td>\n",
       "      <td>0.0202</td>\n",
       "      <td>0.0149</td>\n",
       "      <td>0.0044</td>\n",
       "      <td>73.8432</td>\n",
       "    </tr>\n",
       "    <tr>\n",
       "      <th>4</th>\n",
       "      <td>3032.24</td>\n",
       "      <td>2502.87</td>\n",
       "      <td>2233.3667</td>\n",
       "      <td>1326.5200</td>\n",
       "      <td>1.5334</td>\n",
       "      <td>100.0</td>\n",
       "      <td>100.3967</td>\n",
       "      <td>0.1235</td>\n",
       "      <td>1.5031</td>\n",
       "      <td>-0.0031</td>\n",
       "      <td>...</td>\n",
       "      <td>NaN</td>\n",
       "      <td>NaN</td>\n",
       "      <td>0.4800</td>\n",
       "      <td>0.4766</td>\n",
       "      <td>0.1045</td>\n",
       "      <td>99.3032</td>\n",
       "      <td>0.0202</td>\n",
       "      <td>0.0149</td>\n",
       "      <td>0.0044</td>\n",
       "      <td>73.8432</td>\n",
       "    </tr>\n",
       "  </tbody>\n",
       "</table>\n",
       "<p>5 rows × 590 columns</p>\n",
       "</div>"
      ],
      "text/plain": [
       "       0        1          2          3       4      5         6       7    \\\n",
       "0  3030.93  2564.00  2187.7333  1411.1265  1.3602  100.0   97.6133  0.1242   \n",
       "1  3095.78  2465.14  2230.4222  1463.6606  0.8294  100.0  102.3433  0.1247   \n",
       "2  2932.61  2559.94  2186.4111  1698.0172  1.5102  100.0   95.4878  0.1241   \n",
       "3  2988.72  2479.90  2199.0333   909.7926  1.3204  100.0  104.2367  0.1217   \n",
       "4  3032.24  2502.87  2233.3667  1326.5200  1.5334  100.0  100.3967  0.1235   \n",
       "\n",
       "      8       9      ...        580       581     582     583     584  \\\n",
       "0  1.5005  0.0162    ...        NaN       NaN  0.5005  0.0118  0.0035   \n",
       "1  1.4966 -0.0005    ...     0.0060  208.2045  0.5019  0.0223  0.0055   \n",
       "2  1.4436  0.0041    ...     0.0148   82.8602  0.4958  0.0157  0.0039   \n",
       "3  1.4882 -0.0124    ...     0.0044   73.8432  0.4990  0.0103  0.0025   \n",
       "4  1.5031 -0.0031    ...        NaN       NaN  0.4800  0.4766  0.1045   \n",
       "\n",
       "       585     586     587     588       589  \n",
       "0   2.3630     NaN     NaN     NaN       NaN  \n",
       "1   4.4447  0.0096  0.0201  0.0060  208.2045  \n",
       "2   3.1745  0.0584  0.0484  0.0148   82.8602  \n",
       "3   2.0544  0.0202  0.0149  0.0044   73.8432  \n",
       "4  99.3032  0.0202  0.0149  0.0044   73.8432  \n",
       "\n",
       "[5 rows x 590 columns]"
      ]
     },
     "execution_count": 11,
     "metadata": {},
     "output_type": "execute_result"
    }
   ],
   "source": [
    "df.head()"
   ]
  },
  {
   "cell_type": "code",
   "execution_count": 12,
   "metadata": {},
   "outputs": [
    {
     "data": {
      "text/html": [
       "<div>\n",
       "<style>\n",
       "    .dataframe thead tr:only-child th {\n",
       "        text-align: right;\n",
       "    }\n",
       "\n",
       "    .dataframe thead th {\n",
       "        text-align: left;\n",
       "    }\n",
       "\n",
       "    .dataframe tbody tr th {\n",
       "        vertical-align: top;\n",
       "    }\n",
       "</style>\n",
       "<table border=\"1\" class=\"dataframe\">\n",
       "  <thead>\n",
       "    <tr style=\"text-align: right;\">\n",
       "      <th></th>\n",
       "      <th>0</th>\n",
       "      <th>1</th>\n",
       "      <th>2</th>\n",
       "      <th>3</th>\n",
       "      <th>4</th>\n",
       "      <th>5</th>\n",
       "      <th>6</th>\n",
       "      <th>7</th>\n",
       "      <th>8</th>\n",
       "      <th>9</th>\n",
       "      <th>...</th>\n",
       "      <th>580</th>\n",
       "      <th>581</th>\n",
       "      <th>582</th>\n",
       "      <th>583</th>\n",
       "      <th>584</th>\n",
       "      <th>585</th>\n",
       "      <th>586</th>\n",
       "      <th>587</th>\n",
       "      <th>588</th>\n",
       "      <th>589</th>\n",
       "    </tr>\n",
       "  </thead>\n",
       "  <tbody>\n",
       "    <tr>\n",
       "      <th>count</th>\n",
       "      <td>1561.000000</td>\n",
       "      <td>1560.000000</td>\n",
       "      <td>1553.000000</td>\n",
       "      <td>1553.000000</td>\n",
       "      <td>1553.000000</td>\n",
       "      <td>1553.0</td>\n",
       "      <td>1553.000000</td>\n",
       "      <td>1558.000000</td>\n",
       "      <td>1565.000000</td>\n",
       "      <td>1565.000000</td>\n",
       "      <td>...</td>\n",
       "      <td>618.000000</td>\n",
       "      <td>618.000000</td>\n",
       "      <td>1566.000000</td>\n",
       "      <td>1566.000000</td>\n",
       "      <td>1566.000000</td>\n",
       "      <td>1566.000000</td>\n",
       "      <td>1566.000000</td>\n",
       "      <td>1566.000000</td>\n",
       "      <td>1566.000000</td>\n",
       "      <td>1566.000000</td>\n",
       "    </tr>\n",
       "    <tr>\n",
       "      <th>mean</th>\n",
       "      <td>3014.452896</td>\n",
       "      <td>2495.850231</td>\n",
       "      <td>2200.547318</td>\n",
       "      <td>1396.376627</td>\n",
       "      <td>4.197013</td>\n",
       "      <td>100.0</td>\n",
       "      <td>101.112908</td>\n",
       "      <td>0.121822</td>\n",
       "      <td>1.462862</td>\n",
       "      <td>-0.000841</td>\n",
       "      <td>...</td>\n",
       "      <td>0.005396</td>\n",
       "      <td>97.934373</td>\n",
       "      <td>0.500096</td>\n",
       "      <td>0.015318</td>\n",
       "      <td>0.003847</td>\n",
       "      <td>3.067826</td>\n",
       "      <td>0.021458</td>\n",
       "      <td>0.016475</td>\n",
       "      <td>0.005283</td>\n",
       "      <td>99.670066</td>\n",
       "    </tr>\n",
       "    <tr>\n",
       "      <th>std</th>\n",
       "      <td>73.621787</td>\n",
       "      <td>80.407705</td>\n",
       "      <td>29.513152</td>\n",
       "      <td>441.691640</td>\n",
       "      <td>56.355540</td>\n",
       "      <td>0.0</td>\n",
       "      <td>6.237214</td>\n",
       "      <td>0.008961</td>\n",
       "      <td>0.073897</td>\n",
       "      <td>0.015116</td>\n",
       "      <td>...</td>\n",
       "      <td>0.003116</td>\n",
       "      <td>87.520966</td>\n",
       "      <td>0.003404</td>\n",
       "      <td>0.017180</td>\n",
       "      <td>0.003720</td>\n",
       "      <td>3.578033</td>\n",
       "      <td>0.012358</td>\n",
       "      <td>0.008808</td>\n",
       "      <td>0.002867</td>\n",
       "      <td>93.891919</td>\n",
       "    </tr>\n",
       "    <tr>\n",
       "      <th>min</th>\n",
       "      <td>2743.240000</td>\n",
       "      <td>2158.750000</td>\n",
       "      <td>2060.660000</td>\n",
       "      <td>0.000000</td>\n",
       "      <td>0.681500</td>\n",
       "      <td>100.0</td>\n",
       "      <td>82.131100</td>\n",
       "      <td>0.000000</td>\n",
       "      <td>1.191000</td>\n",
       "      <td>-0.053400</td>\n",
       "      <td>...</td>\n",
       "      <td>0.001000</td>\n",
       "      <td>0.000000</td>\n",
       "      <td>0.477800</td>\n",
       "      <td>0.006000</td>\n",
       "      <td>0.001700</td>\n",
       "      <td>1.197500</td>\n",
       "      <td>-0.016900</td>\n",
       "      <td>0.003200</td>\n",
       "      <td>0.001000</td>\n",
       "      <td>0.000000</td>\n",
       "    </tr>\n",
       "    <tr>\n",
       "      <th>25%</th>\n",
       "      <td>2966.260000</td>\n",
       "      <td>2452.247500</td>\n",
       "      <td>2181.044400</td>\n",
       "      <td>1081.875800</td>\n",
       "      <td>1.017700</td>\n",
       "      <td>100.0</td>\n",
       "      <td>97.920000</td>\n",
       "      <td>0.121100</td>\n",
       "      <td>1.411200</td>\n",
       "      <td>-0.010800</td>\n",
       "      <td>...</td>\n",
       "      <td>0.003400</td>\n",
       "      <td>46.184900</td>\n",
       "      <td>0.497900</td>\n",
       "      <td>0.011600</td>\n",
       "      <td>0.003100</td>\n",
       "      <td>2.306500</td>\n",
       "      <td>0.013425</td>\n",
       "      <td>0.010600</td>\n",
       "      <td>0.003300</td>\n",
       "      <td>44.368600</td>\n",
       "    </tr>\n",
       "    <tr>\n",
       "      <th>50%</th>\n",
       "      <td>3011.490000</td>\n",
       "      <td>2499.405000</td>\n",
       "      <td>2201.066700</td>\n",
       "      <td>1285.214400</td>\n",
       "      <td>1.316800</td>\n",
       "      <td>100.0</td>\n",
       "      <td>101.512200</td>\n",
       "      <td>0.122400</td>\n",
       "      <td>1.461600</td>\n",
       "      <td>-0.001300</td>\n",
       "      <td>...</td>\n",
       "      <td>0.004700</td>\n",
       "      <td>72.288900</td>\n",
       "      <td>0.500200</td>\n",
       "      <td>0.013800</td>\n",
       "      <td>0.003600</td>\n",
       "      <td>2.757650</td>\n",
       "      <td>0.020500</td>\n",
       "      <td>0.014800</td>\n",
       "      <td>0.004600</td>\n",
       "      <td>71.900500</td>\n",
       "    </tr>\n",
       "    <tr>\n",
       "      <th>75%</th>\n",
       "      <td>3056.650000</td>\n",
       "      <td>2538.822500</td>\n",
       "      <td>2218.055500</td>\n",
       "      <td>1591.223500</td>\n",
       "      <td>1.525700</td>\n",
       "      <td>100.0</td>\n",
       "      <td>104.586700</td>\n",
       "      <td>0.123800</td>\n",
       "      <td>1.516900</td>\n",
       "      <td>0.008400</td>\n",
       "      <td>...</td>\n",
       "      <td>0.006475</td>\n",
       "      <td>116.539150</td>\n",
       "      <td>0.502375</td>\n",
       "      <td>0.016500</td>\n",
       "      <td>0.004100</td>\n",
       "      <td>3.295175</td>\n",
       "      <td>0.027600</td>\n",
       "      <td>0.020300</td>\n",
       "      <td>0.006400</td>\n",
       "      <td>114.749700</td>\n",
       "    </tr>\n",
       "    <tr>\n",
       "      <th>max</th>\n",
       "      <td>3356.350000</td>\n",
       "      <td>2846.440000</td>\n",
       "      <td>2315.266700</td>\n",
       "      <td>3715.041700</td>\n",
       "      <td>1114.536600</td>\n",
       "      <td>100.0</td>\n",
       "      <td>129.252200</td>\n",
       "      <td>0.128600</td>\n",
       "      <td>1.656400</td>\n",
       "      <td>0.074900</td>\n",
       "      <td>...</td>\n",
       "      <td>0.028600</td>\n",
       "      <td>737.304800</td>\n",
       "      <td>0.509800</td>\n",
       "      <td>0.476600</td>\n",
       "      <td>0.104500</td>\n",
       "      <td>99.303200</td>\n",
       "      <td>0.102800</td>\n",
       "      <td>0.079900</td>\n",
       "      <td>0.028600</td>\n",
       "      <td>737.304800</td>\n",
       "    </tr>\n",
       "  </tbody>\n",
       "</table>\n",
       "<p>8 rows × 590 columns</p>\n",
       "</div>"
      ],
      "text/plain": [
       "               0            1            2            3            4    \\\n",
       "count  1561.000000  1560.000000  1553.000000  1553.000000  1553.000000   \n",
       "mean   3014.452896  2495.850231  2200.547318  1396.376627     4.197013   \n",
       "std      73.621787    80.407705    29.513152   441.691640    56.355540   \n",
       "min    2743.240000  2158.750000  2060.660000     0.000000     0.681500   \n",
       "25%    2966.260000  2452.247500  2181.044400  1081.875800     1.017700   \n",
       "50%    3011.490000  2499.405000  2201.066700  1285.214400     1.316800   \n",
       "75%    3056.650000  2538.822500  2218.055500  1591.223500     1.525700   \n",
       "max    3356.350000  2846.440000  2315.266700  3715.041700  1114.536600   \n",
       "\n",
       "          5            6            7            8            9    \\\n",
       "count  1553.0  1553.000000  1558.000000  1565.000000  1565.000000   \n",
       "mean    100.0   101.112908     0.121822     1.462862    -0.000841   \n",
       "std       0.0     6.237214     0.008961     0.073897     0.015116   \n",
       "min     100.0    82.131100     0.000000     1.191000    -0.053400   \n",
       "25%     100.0    97.920000     0.121100     1.411200    -0.010800   \n",
       "50%     100.0   101.512200     0.122400     1.461600    -0.001300   \n",
       "75%     100.0   104.586700     0.123800     1.516900     0.008400   \n",
       "max     100.0   129.252200     0.128600     1.656400     0.074900   \n",
       "\n",
       "          ...              580         581          582          583  \\\n",
       "count     ...       618.000000  618.000000  1566.000000  1566.000000   \n",
       "mean      ...         0.005396   97.934373     0.500096     0.015318   \n",
       "std       ...         0.003116   87.520966     0.003404     0.017180   \n",
       "min       ...         0.001000    0.000000     0.477800     0.006000   \n",
       "25%       ...         0.003400   46.184900     0.497900     0.011600   \n",
       "50%       ...         0.004700   72.288900     0.500200     0.013800   \n",
       "75%       ...         0.006475  116.539150     0.502375     0.016500   \n",
       "max       ...         0.028600  737.304800     0.509800     0.476600   \n",
       "\n",
       "               584          585          586          587          588  \\\n",
       "count  1566.000000  1566.000000  1566.000000  1566.000000  1566.000000   \n",
       "mean      0.003847     3.067826     0.021458     0.016475     0.005283   \n",
       "std       0.003720     3.578033     0.012358     0.008808     0.002867   \n",
       "min       0.001700     1.197500    -0.016900     0.003200     0.001000   \n",
       "25%       0.003100     2.306500     0.013425     0.010600     0.003300   \n",
       "50%       0.003600     2.757650     0.020500     0.014800     0.004600   \n",
       "75%       0.004100     3.295175     0.027600     0.020300     0.006400   \n",
       "max       0.104500    99.303200     0.102800     0.079900     0.028600   \n",
       "\n",
       "               589  \n",
       "count  1566.000000  \n",
       "mean     99.670066  \n",
       "std      93.891919  \n",
       "min       0.000000  \n",
       "25%      44.368600  \n",
       "50%      71.900500  \n",
       "75%     114.749700  \n",
       "max     737.304800  \n",
       "\n",
       "[8 rows x 590 columns]"
      ]
     },
     "execution_count": 12,
     "metadata": {},
     "output_type": "execute_result"
    }
   ],
   "source": [
    "df.describe()"
   ]
  },
  {
   "cell_type": "code",
   "execution_count": 13,
   "metadata": {},
   "outputs": [
    {
     "data": {
      "text/html": [
       "<div>\n",
       "<style>\n",
       "    .dataframe thead tr:only-child th {\n",
       "        text-align: right;\n",
       "    }\n",
       "\n",
       "    .dataframe thead th {\n",
       "        text-align: left;\n",
       "    }\n",
       "\n",
       "    .dataframe tbody tr th {\n",
       "        vertical-align: top;\n",
       "    }\n",
       "</style>\n",
       "<table border=\"1\" class=\"dataframe\">\n",
       "  <thead>\n",
       "    <tr style=\"text-align: right;\">\n",
       "      <th></th>\n",
       "      <th>0</th>\n",
       "      <th>1</th>\n",
       "      <th>2</th>\n",
       "      <th>3</th>\n",
       "      <th>4</th>\n",
       "      <th>5</th>\n",
       "      <th>6</th>\n",
       "      <th>7</th>\n",
       "      <th>8</th>\n",
       "      <th>9</th>\n",
       "      <th>...</th>\n",
       "      <th>580</th>\n",
       "      <th>581</th>\n",
       "      <th>582</th>\n",
       "      <th>583</th>\n",
       "      <th>584</th>\n",
       "      <th>585</th>\n",
       "      <th>586</th>\n",
       "      <th>587</th>\n",
       "      <th>588</th>\n",
       "      <th>589</th>\n",
       "    </tr>\n",
       "  </thead>\n",
       "  <tbody>\n",
       "    <tr>\n",
       "      <th>count</th>\n",
       "      <td>1567.000000</td>\n",
       "      <td>1567.000000</td>\n",
       "      <td>1567.000000</td>\n",
       "      <td>1567.000000</td>\n",
       "      <td>1567.000000</td>\n",
       "      <td>1567.0</td>\n",
       "      <td>1567.000000</td>\n",
       "      <td>1567.000000</td>\n",
       "      <td>1567.000000</td>\n",
       "      <td>1567.000000</td>\n",
       "      <td>...</td>\n",
       "      <td>1567.000000</td>\n",
       "      <td>1567.000000</td>\n",
       "      <td>1567.000000</td>\n",
       "      <td>1567.000000</td>\n",
       "      <td>1567.000000</td>\n",
       "      <td>1567.000000</td>\n",
       "      <td>1567.000000</td>\n",
       "      <td>1567.000000</td>\n",
       "      <td>1567.000000</td>\n",
       "      <td>1567.000000</td>\n",
       "    </tr>\n",
       "    <tr>\n",
       "      <th>mean</th>\n",
       "      <td>3014.452896</td>\n",
       "      <td>2495.850231</td>\n",
       "      <td>2200.547318</td>\n",
       "      <td>1396.376627</td>\n",
       "      <td>4.197013</td>\n",
       "      <td>100.0</td>\n",
       "      <td>101.112908</td>\n",
       "      <td>0.121822</td>\n",
       "      <td>1.462862</td>\n",
       "      <td>-0.000841</td>\n",
       "      <td>...</td>\n",
       "      <td>0.005396</td>\n",
       "      <td>97.934373</td>\n",
       "      <td>0.500096</td>\n",
       "      <td>0.015318</td>\n",
       "      <td>0.003847</td>\n",
       "      <td>3.067826</td>\n",
       "      <td>0.021458</td>\n",
       "      <td>0.016475</td>\n",
       "      <td>0.005283</td>\n",
       "      <td>99.670066</td>\n",
       "    </tr>\n",
       "    <tr>\n",
       "      <th>std</th>\n",
       "      <td>73.480613</td>\n",
       "      <td>80.227793</td>\n",
       "      <td>29.380932</td>\n",
       "      <td>439.712852</td>\n",
       "      <td>56.103066</td>\n",
       "      <td>0.0</td>\n",
       "      <td>6.209271</td>\n",
       "      <td>0.008936</td>\n",
       "      <td>0.073849</td>\n",
       "      <td>0.015107</td>\n",
       "      <td>...</td>\n",
       "      <td>0.001956</td>\n",
       "      <td>54.936224</td>\n",
       "      <td>0.003403</td>\n",
       "      <td>0.017174</td>\n",
       "      <td>0.003719</td>\n",
       "      <td>3.576891</td>\n",
       "      <td>0.012354</td>\n",
       "      <td>0.008805</td>\n",
       "      <td>0.002866</td>\n",
       "      <td>93.861936</td>\n",
       "    </tr>\n",
       "    <tr>\n",
       "      <th>min</th>\n",
       "      <td>2743.240000</td>\n",
       "      <td>2158.750000</td>\n",
       "      <td>2060.660000</td>\n",
       "      <td>0.000000</td>\n",
       "      <td>0.681500</td>\n",
       "      <td>100.0</td>\n",
       "      <td>82.131100</td>\n",
       "      <td>0.000000</td>\n",
       "      <td>1.191000</td>\n",
       "      <td>-0.053400</td>\n",
       "      <td>...</td>\n",
       "      <td>0.001000</td>\n",
       "      <td>0.000000</td>\n",
       "      <td>0.477800</td>\n",
       "      <td>0.006000</td>\n",
       "      <td>0.001700</td>\n",
       "      <td>1.197500</td>\n",
       "      <td>-0.016900</td>\n",
       "      <td>0.003200</td>\n",
       "      <td>0.001000</td>\n",
       "      <td>0.000000</td>\n",
       "    </tr>\n",
       "    <tr>\n",
       "      <th>25%</th>\n",
       "      <td>2966.665000</td>\n",
       "      <td>2452.885000</td>\n",
       "      <td>2181.099950</td>\n",
       "      <td>1083.885800</td>\n",
       "      <td>1.017700</td>\n",
       "      <td>100.0</td>\n",
       "      <td>97.937800</td>\n",
       "      <td>0.121100</td>\n",
       "      <td>1.411250</td>\n",
       "      <td>-0.010800</td>\n",
       "      <td>...</td>\n",
       "      <td>0.005396</td>\n",
       "      <td>91.549650</td>\n",
       "      <td>0.497900</td>\n",
       "      <td>0.011600</td>\n",
       "      <td>0.003100</td>\n",
       "      <td>2.306500</td>\n",
       "      <td>0.013450</td>\n",
       "      <td>0.010600</td>\n",
       "      <td>0.003300</td>\n",
       "      <td>44.368600</td>\n",
       "    </tr>\n",
       "    <tr>\n",
       "      <th>50%</th>\n",
       "      <td>3011.840000</td>\n",
       "      <td>2498.910000</td>\n",
       "      <td>2200.955600</td>\n",
       "      <td>1287.353800</td>\n",
       "      <td>1.317100</td>\n",
       "      <td>100.0</td>\n",
       "      <td>101.492200</td>\n",
       "      <td>0.122400</td>\n",
       "      <td>1.461600</td>\n",
       "      <td>-0.001300</td>\n",
       "      <td>...</td>\n",
       "      <td>0.005396</td>\n",
       "      <td>97.934373</td>\n",
       "      <td>0.500200</td>\n",
       "      <td>0.013800</td>\n",
       "      <td>0.003600</td>\n",
       "      <td>2.757700</td>\n",
       "      <td>0.020500</td>\n",
       "      <td>0.014800</td>\n",
       "      <td>0.004600</td>\n",
       "      <td>72.023000</td>\n",
       "    </tr>\n",
       "    <tr>\n",
       "      <th>75%</th>\n",
       "      <td>3056.540000</td>\n",
       "      <td>2538.745000</td>\n",
       "      <td>2218.055500</td>\n",
       "      <td>1590.169900</td>\n",
       "      <td>1.529600</td>\n",
       "      <td>100.0</td>\n",
       "      <td>104.530000</td>\n",
       "      <td>0.123800</td>\n",
       "      <td>1.516850</td>\n",
       "      <td>0.008400</td>\n",
       "      <td>...</td>\n",
       "      <td>0.005396</td>\n",
       "      <td>97.934373</td>\n",
       "      <td>0.502350</td>\n",
       "      <td>0.016500</td>\n",
       "      <td>0.004100</td>\n",
       "      <td>3.294950</td>\n",
       "      <td>0.027600</td>\n",
       "      <td>0.020300</td>\n",
       "      <td>0.006400</td>\n",
       "      <td>114.749700</td>\n",
       "    </tr>\n",
       "    <tr>\n",
       "      <th>max</th>\n",
       "      <td>3356.350000</td>\n",
       "      <td>2846.440000</td>\n",
       "      <td>2315.266700</td>\n",
       "      <td>3715.041700</td>\n",
       "      <td>1114.536600</td>\n",
       "      <td>100.0</td>\n",
       "      <td>129.252200</td>\n",
       "      <td>0.128600</td>\n",
       "      <td>1.656400</td>\n",
       "      <td>0.074900</td>\n",
       "      <td>...</td>\n",
       "      <td>0.028600</td>\n",
       "      <td>737.304800</td>\n",
       "      <td>0.509800</td>\n",
       "      <td>0.476600</td>\n",
       "      <td>0.104500</td>\n",
       "      <td>99.303200</td>\n",
       "      <td>0.102800</td>\n",
       "      <td>0.079900</td>\n",
       "      <td>0.028600</td>\n",
       "      <td>737.304800</td>\n",
       "    </tr>\n",
       "  </tbody>\n",
       "</table>\n",
       "<p>8 rows × 590 columns</p>\n",
       "</div>"
      ],
      "text/plain": [
       "               0            1            2            3            4    \\\n",
       "count  1567.000000  1567.000000  1567.000000  1567.000000  1567.000000   \n",
       "mean   3014.452896  2495.850231  2200.547318  1396.376627     4.197013   \n",
       "std      73.480613    80.227793    29.380932   439.712852    56.103066   \n",
       "min    2743.240000  2158.750000  2060.660000     0.000000     0.681500   \n",
       "25%    2966.665000  2452.885000  2181.099950  1083.885800     1.017700   \n",
       "50%    3011.840000  2498.910000  2200.955600  1287.353800     1.317100   \n",
       "75%    3056.540000  2538.745000  2218.055500  1590.169900     1.529600   \n",
       "max    3356.350000  2846.440000  2315.266700  3715.041700  1114.536600   \n",
       "\n",
       "          5            6            7            8            9    \\\n",
       "count  1567.0  1567.000000  1567.000000  1567.000000  1567.000000   \n",
       "mean    100.0   101.112908     0.121822     1.462862    -0.000841   \n",
       "std       0.0     6.209271     0.008936     0.073849     0.015107   \n",
       "min     100.0    82.131100     0.000000     1.191000    -0.053400   \n",
       "25%     100.0    97.937800     0.121100     1.411250    -0.010800   \n",
       "50%     100.0   101.492200     0.122400     1.461600    -0.001300   \n",
       "75%     100.0   104.530000     0.123800     1.516850     0.008400   \n",
       "max     100.0   129.252200     0.128600     1.656400     0.074900   \n",
       "\n",
       "          ...               580          581          582          583  \\\n",
       "count     ...       1567.000000  1567.000000  1567.000000  1567.000000   \n",
       "mean      ...          0.005396    97.934373     0.500096     0.015318   \n",
       "std       ...          0.001956    54.936224     0.003403     0.017174   \n",
       "min       ...          0.001000     0.000000     0.477800     0.006000   \n",
       "25%       ...          0.005396    91.549650     0.497900     0.011600   \n",
       "50%       ...          0.005396    97.934373     0.500200     0.013800   \n",
       "75%       ...          0.005396    97.934373     0.502350     0.016500   \n",
       "max       ...          0.028600   737.304800     0.509800     0.476600   \n",
       "\n",
       "               584          585          586          587          588  \\\n",
       "count  1567.000000  1567.000000  1567.000000  1567.000000  1567.000000   \n",
       "mean      0.003847     3.067826     0.021458     0.016475     0.005283   \n",
       "std       0.003719     3.576891     0.012354     0.008805     0.002866   \n",
       "min       0.001700     1.197500    -0.016900     0.003200     0.001000   \n",
       "25%       0.003100     2.306500     0.013450     0.010600     0.003300   \n",
       "50%       0.003600     2.757700     0.020500     0.014800     0.004600   \n",
       "75%       0.004100     3.294950     0.027600     0.020300     0.006400   \n",
       "max       0.104500    99.303200     0.102800     0.079900     0.028600   \n",
       "\n",
       "               589  \n",
       "count  1567.000000  \n",
       "mean     99.670066  \n",
       "std      93.861936  \n",
       "min       0.000000  \n",
       "25%      44.368600  \n",
       "50%      72.023000  \n",
       "75%     114.749700  \n",
       "max     737.304800  \n",
       "\n",
       "[8 rows x 590 columns]"
      ]
     },
     "execution_count": 13,
     "metadata": {},
     "output_type": "execute_result"
    }
   ],
   "source": [
    "df.fillna(dict(df.mean()),inplace=True)\n",
    "df.describe()"
   ]
  },
  {
   "cell_type": "code",
   "execution_count": 14,
   "metadata": {
    "collapsed": true
   },
   "outputs": [],
   "source": [
    "dataMat = df.values"
   ]
  },
  {
   "cell_type": "code",
   "execution_count": 15,
   "metadata": {
    "collapsed": true
   },
   "outputs": [],
   "source": [
    "meanVals = np.mean(dataMat,axis=0)"
   ]
  },
  {
   "cell_type": "code",
   "execution_count": 16,
   "metadata": {
    "collapsed": true
   },
   "outputs": [],
   "source": [
    "meanRemoved = dataMat - meanVals"
   ]
  },
  {
   "cell_type": "code",
   "execution_count": 17,
   "metadata": {
    "collapsed": true
   },
   "outputs": [],
   "source": [
    "covMat = np.cov(meanRemoved, rowvar=0)"
   ]
  },
  {
   "cell_type": "code",
   "execution_count": 18,
   "metadata": {},
   "outputs": [
    {
     "data": {
      "text/plain": [
       "array([[ 5.39940056e+03, -8.47962623e+02,  1.02671010e+01, ...,\n",
       "        -1.67440688e-02, -5.93197815e-03,  2.87879850e+01],\n",
       "       [-8.47962623e+02,  6.43649877e+03,  1.35942679e+01, ...,\n",
       "         1.21967287e-02,  2.32652705e-03,  3.37335304e+02],\n",
       "       [ 1.02671010e+01,  1.35942679e+01,  8.63239193e+02, ...,\n",
       "        -7.59126039e-03, -2.59521865e-03, -9.07023669e+01],\n",
       "       ...,\n",
       "       [-1.67440688e-02,  1.21967287e-02, -7.59126039e-03, ...,\n",
       "         7.75231441e-05,  2.45865358e-05,  3.22979001e-01],\n",
       "       [-5.93197815e-03,  2.32652705e-03, -2.59521865e-03, ...,\n",
       "         2.45865358e-05,  8.21484994e-06,  1.04706789e-01],\n",
       "       [ 2.87879850e+01,  3.37335304e+02, -9.07023669e+01, ...,\n",
       "         3.22979001e-01,  1.04706789e-01,  8.81006310e+03]])"
      ]
     },
     "execution_count": 18,
     "metadata": {},
     "output_type": "execute_result"
    }
   ],
   "source": [
    "covMat"
   ]
  },
  {
   "cell_type": "code",
   "execution_count": 19,
   "metadata": {
    "collapsed": true
   },
   "outputs": [],
   "source": [
    "# 特征向量和特征值\n",
    "eigVals, eigVects = np.linalg.eig(np.mat(covMat))"
   ]
  },
  {
   "cell_type": "code",
   "execution_count": 20,
   "metadata": {},
   "outputs": [
    {
     "name": "stdout",
     "output_type": "stream",
     "text": [
      "(590,) (590, 590)\n"
     ]
    }
   ],
   "source": [
    "print(np.shape(eigVals),np.shape(eigVects))"
   ]
  },
  {
   "cell_type": "code",
   "execution_count": 21,
   "metadata": {},
   "outputs": [
    {
     "data": {
      "text/plain": [
       "array([ 5.34151979e+07,  2.17466719e+07,  8.24837662e+06,  2.07388086e+06,\n",
       "        1.31540439e+06,  4.67693557e+05,  2.90863555e+05,  2.83668601e+05,\n",
       "        2.37155830e+05,  2.08513836e+05,  1.96098849e+05,  1.86856549e+05,\n",
       "        1.52422354e+05,  1.13215032e+05,  1.08493848e+05,  1.02849533e+05,\n",
       "        1.00166164e+05,  8.33473762e+04,  8.15850591e+04,  7.76560524e+04,\n",
       "        6.66060410e+04,  6.52620058e+04,  5.96776503e+04,  5.16269933e+04,\n",
       "        5.03324580e+04,  4.54661746e+04,  4.41914029e+04,  4.15532551e+04,\n",
       "        3.55294040e+04,  3.31436743e+04,  2.67385181e+04,  1.47123429e+04,\n",
       "        1.44089194e+04,  1.09321187e+04,  1.04841308e+04,  9.48876548e+03,\n",
       "        8.34665462e+03,  7.22765535e+03,  5.34196392e+03,  4.95614671e+03,\n",
       "        4.23060022e+03,  4.10673182e+03,  3.41199406e+03,  3.24193522e+03,\n",
       "        2.74523635e+03,  2.35027999e+03,  2.16835314e+03,  1.86414157e+03,\n",
       "        1.76741826e+03,  1.70492093e+03,  1.66199683e+03,  1.53948465e+03,\n",
       "        1.33096008e+03,  1.25591691e+03,  1.15509389e+03,  1.12410108e+03,\n",
       "        1.03213798e+03,  1.00972093e+03,  9.50542179e+02,  9.09791361e+02,\n",
       "        8.32001551e+02,  8.08898242e+02,  7.37343627e+02,  6.87596830e+02,\n",
       "        5.64452104e+02,  5.51812250e+02,  5.37209115e+02,  4.93029995e+02,\n",
       "        4.13720573e+02,  3.90222119e+02,  3.37288784e+02,  3.27558605e+02,\n",
       "        3.08869553e+02,  2.46285839e+02,  2.28893093e+02,  1.96447852e+02,\n",
       "        1.75559820e+02,  1.65795169e+02,  1.56428052e+02,  1.39671194e+02,\n",
       "        1.28662864e+02,  1.15624070e+02,  1.10318239e+02,  1.08663541e+02,\n",
       "        1.00695416e+02,  9.80687852e+01,  8.34968275e+01,  7.53025397e+01,\n",
       "        6.89260158e+01,  6.67786503e+01,  6.09412873e+01,  5.30974002e+01,\n",
       "        4.71797825e+01,  4.50701108e+01,  4.41349593e+01,  4.03313416e+01,\n",
       "        3.95741636e+01,  3.74000035e+01,  3.44211326e+01,  3.30031584e+01,\n",
       "        3.03317756e+01,  2.88994580e+01,  2.76478754e+01,  2.57708695e+01,\n",
       "        2.44506430e+01,  2.31640106e+01,  2.26956957e+01,  2.16925102e+01,\n",
       "        2.10114869e+01,  2.00984697e+01,  1.86489543e+01,  1.83733216e+01,\n",
       "        1.72517802e+01,  1.60481189e+01,  1.54406997e+01,  1.48356499e+01,\n",
       "        1.44273357e+01,  1.42318192e+01,  1.35592064e+01,  1.30696836e+01,\n",
       "        1.28193512e+01,  1.22093626e+01,  1.15228376e+01,  1.12141738e+01,\n",
       "        1.02585936e+01,  9.86906139e+00,  9.58794460e+00,  9.41686288e+00,\n",
       "        9.20276340e+00,  8.63791398e+00,  8.20622561e+00,  8.01020114e+00,\n",
       "        7.53391290e+00,  7.33168361e+00,  7.09960245e+00,  7.02149364e+00,\n",
       "        6.76557324e+00,  6.34504733e+00,  6.01919292e+00,  5.81680918e+00,\n",
       "        5.44653788e+00,  5.12338463e+00,  4.79593185e+00,  4.47851795e+00,\n",
       "        4.50369987e+00,  4.27479386e+00,  3.89124198e+00,  3.56466892e+00,\n",
       "        3.32248982e+00,  2.97665360e+00,  2.61425544e+00,  2.31802829e+00,\n",
       "        2.17171124e+00,  1.99239284e+00,  1.96616566e+00,  1.88149281e+00,\n",
       "        1.79228288e+00,  1.71378363e+00,  1.68028783e+00,  1.60686268e+00,\n",
       "        1.47158244e+00,  1.40656712e+00,  1.37808906e+00,  1.27967672e+00,\n",
       "        1.22803716e+00,  1.18531109e+00,  9.38857180e-01,  9.18222054e-01,\n",
       "        8.26265393e-01,  7.96585842e-01,  7.74597255e-01,  7.14002770e-01,\n",
       "        6.79457797e-01,  6.37928310e-01,  6.24646758e-01,  5.34605353e-01,\n",
       "        4.60658687e-01,  4.24265893e-01,  4.08634622e-01,  3.70321764e-01,\n",
       "        3.67016386e-01,  3.35858033e-01,  3.29780397e-01,  2.94348753e-01,\n",
       "        2.84154176e-01,  2.72703994e-01,  2.63265991e-01,  2.45227786e-01,\n",
       "        2.25805135e-01,  2.22331919e-01,  2.13514673e-01,  1.93961935e-01,\n",
       "        1.91647269e-01,  1.83668491e-01,  1.82518017e-01,  1.65310922e-01,\n",
       "        1.57447909e-01,  1.51263974e-01,  1.39427297e-01,  1.32638882e-01,\n",
       "        1.28000027e-01,  1.13559952e-01,  1.12576237e-01,  1.08809771e-01,\n",
       "        1.07136355e-01,  8.60839655e-02,  8.50467792e-02,  8.29254355e-02,\n",
       "        7.03701660e-02,  6.44475619e-02,  6.09866327e-02,  6.05709478e-02,\n",
       "        5.93963958e-02,  5.22163549e-02,  4.92729703e-02,  4.80022983e-02,\n",
       "        4.51487439e-02,  4.30180504e-02,  4.13368324e-02,  4.03281604e-02,\n",
       "        3.91576587e-02,  3.54198873e-02,  3.31199510e-02,  3.13547234e-02,\n",
       "        3.07226509e-02,  2.98354196e-02,  2.81949091e-02,  2.49158051e-02,\n",
       "        2.36374781e-02,  2.28360210e-02,  2.19602047e-02,  2.00166957e-02,\n",
       "        1.86597535e-02,  1.80415918e-02,  1.72261012e-02,  1.60703860e-02,\n",
       "        1.49566735e-02,  1.40165444e-02,  1.31296856e-02,  1.21358005e-02,\n",
       "        1.07166503e-02,  1.01045695e-02,  9.76055340e-03,  9.16740926e-03,\n",
       "        8.78108857e-03,  8.67465278e-03,  8.30918514e-03,  8.05104488e-03,\n",
       "        7.56152126e-03,  7.31508852e-03,  7.26347037e-03,  6.65728354e-03,\n",
       "        6.50769617e-03,  6.28009879e-03,  6.19160730e-03,  5.64130272e-03,\n",
       "        5.30195373e-03,  5.07453702e-03,  4.47372286e-03,  4.32543895e-03,\n",
       "        4.22006582e-03,  3.97065729e-03,  3.75292740e-03,  3.64861290e-03,\n",
       "        3.38915810e-03,  3.27965962e-03,  3.06633825e-03,  2.99206786e-03,\n",
       "        2.83586784e-03,  2.74987243e-03,  2.31066313e-03,  2.26782347e-03,\n",
       "        1.82206662e-03,  1.74955624e-03,  1.69305161e-03,  1.66624597e-03,\n",
       "        1.55346749e-03,  1.51278404e-03,  1.47296801e-03,  1.33617458e-03,\n",
       "        1.30517592e-03,  1.24056353e-03,  1.19823961e-03,  1.14381059e-03,\n",
       "        1.13027458e-03,  1.11081803e-03,  1.08359152e-03,  1.03517496e-03,\n",
       "        1.00164593e-03,  9.50024604e-04,  8.94981182e-04,  8.74363843e-04,\n",
       "        7.98497545e-04,  7.51612220e-04,  6.63964302e-04,  6.21097646e-04,\n",
       "        6.18098605e-04,  5.72611405e-04,  5.57509231e-04,  5.47002382e-04,\n",
       "        5.27195077e-04,  5.11487997e-04,  4.87787872e-04,  4.74249071e-04,\n",
       "        4.52367688e-04,  4.24431101e-04,  4.19119025e-04,  3.72489906e-04,\n",
       "        3.38125455e-04,  3.34002143e-04,  2.97951371e-04,  2.84845901e-04,\n",
       "        2.79038288e-04,  2.77054476e-04,  2.67962796e-04,  2.54815125e-04,\n",
       "        2.29230595e-04,  1.99245436e-04,  1.90381389e-04,  1.84497913e-04,\n",
       "        1.77415682e-04,  1.68160613e-04,  1.63992030e-04,  1.58025552e-04,\n",
       "        1.54226003e-04,  1.46890640e-04,  1.46097433e-04,  1.40079891e-04,\n",
       "        1.35736724e-04,  1.22704034e-04,  1.16752515e-04,  1.14080846e-04,\n",
       "        1.04252870e-04,  9.90265093e-05,  9.66039063e-05,  9.60766570e-05,\n",
       "        9.16166347e-05,  9.07003477e-05,  8.60212633e-05,  8.32654024e-05,\n",
       "        7.70526078e-05,  7.36470021e-05,  7.24998305e-05,  3.57776534e-05,\n",
       "        6.80209909e-05,  6.68682702e-05,  3.94822851e-05,  6.14500422e-05,\n",
       "        5.99843177e-05,  4.18869717e-05,  4.29823768e-05,  4.51104475e-05,\n",
       "        5.49918003e-05,  4.89288503e-05,  5.02336254e-05,  5.24646951e-05,\n",
       "        5.13403843e-05,  4.14341562e-05,  3.80307292e-05,  3.43901592e-05,\n",
       "        2.98089203e-05,  2.72388358e-05,  2.42608885e-05,  2.30962279e-05,\n",
       "        2.27807559e-05,  2.14440814e-05,  1.96208174e-05,  1.91217363e-05,\n",
       "        1.88276186e-05,  1.66549051e-05,  1.46846458e-05,  1.43753346e-05,\n",
       "        1.39779892e-05,  1.09258905e-05,  1.13426750e-05,  1.21760519e-05,\n",
       "        1.20295834e-05,  6.69282814e-06,  7.20354827e-06,  7.36188584e-06,\n",
       "        8.34247935e-06,  8.93991856e-06,  9.23630201e-06,  1.02782989e-05,\n",
       "        1.01021805e-05,  9.64538287e-06,  9.72678789e-06,  6.49477814e-06,\n",
       "        5.91044555e-06,  6.00244889e-06,  5.67034892e-06,  5.31392220e-06,\n",
       "        5.09342483e-06,  4.65422046e-06,  4.45482133e-06,  4.11265576e-06,\n",
       "        3.48065951e-06,  3.65202838e-06,  3.77558984e-06,  2.78847698e-06,\n",
       "        2.57492503e-06,  2.66299626e-06,  2.39210233e-06,  2.06298821e-06,\n",
       "        2.00824521e-06,  1.76373602e-06,  1.58273269e-06,  1.44003524e-06,\n",
       "        1.49813696e-06,  1.32211395e-06,  1.42489429e-06,  1.10002716e-06,\n",
       "        9.01008863e-07,  8.49881106e-07,  7.62521870e-07,  6.57641103e-07,\n",
       "        5.85636640e-07,  5.33937361e-07,  4.16077215e-07,  3.33765858e-07,\n",
       "        2.95575264e-07,  2.54744632e-07,  2.20144573e-07,  1.86314519e-07,\n",
       "        1.77370964e-07,  1.54794343e-07,  1.47331685e-07,  1.39738552e-07,\n",
       "        1.04110969e-07,  1.00786520e-07,  9.38635100e-08,  9.10853323e-08,\n",
       "        8.71546343e-08,  7.48338890e-08,  6.06817434e-08,  5.66479200e-08,\n",
       "        5.24576912e-08,  4.57020626e-08,  2.89942623e-08,  2.60449414e-08,\n",
       "        2.10987990e-08,  2.17618741e-08,  1.75542293e-08,  1.34637030e-08,\n",
       "        1.27167436e-08,  1.23258200e-08,  1.04987511e-08,  9.86367947e-09,\n",
       "        8.49421451e-09,  9.33428122e-09,  7.42189206e-09,  6.46870483e-09,\n",
       "        6.84633748e-09,  5.76456449e-09,  5.01137579e-09,  3.48686419e-09,\n",
       "        2.91267187e-09,  2.77880634e-09,  1.73093435e-09,  1.42391215e-09,\n",
       "        9.24978358e-10,  1.16455089e-09,  1.11816049e-09,  6.95072685e-10,\n",
       "        6.13335208e-10,  5.27614218e-10,  1.80003511e-10,  1.97062067e-10,\n",
       "        2.61922306e-10, -6.56775478e-15,  2.48845576e-15,  5.87630829e-16,\n",
       "       -3.65723596e-17, -1.24977797e-18,  0.00000000e+00,  0.00000000e+00,\n",
       "        0.00000000e+00,  0.00000000e+00,  0.00000000e+00,  0.00000000e+00,\n",
       "        0.00000000e+00,  0.00000000e+00,  0.00000000e+00,  0.00000000e+00,\n",
       "        0.00000000e+00,  0.00000000e+00,  0.00000000e+00,  0.00000000e+00,\n",
       "        0.00000000e+00,  0.00000000e+00,  0.00000000e+00,  0.00000000e+00,\n",
       "        0.00000000e+00,  0.00000000e+00,  0.00000000e+00,  0.00000000e+00,\n",
       "        0.00000000e+00,  0.00000000e+00,  0.00000000e+00,  0.00000000e+00,\n",
       "        0.00000000e+00,  0.00000000e+00,  0.00000000e+00,  0.00000000e+00,\n",
       "        0.00000000e+00,  0.00000000e+00,  0.00000000e+00,  0.00000000e+00,\n",
       "        0.00000000e+00,  0.00000000e+00,  0.00000000e+00,  0.00000000e+00,\n",
       "        0.00000000e+00,  0.00000000e+00,  0.00000000e+00,  0.00000000e+00,\n",
       "        0.00000000e+00,  0.00000000e+00,  0.00000000e+00,  0.00000000e+00,\n",
       "        0.00000000e+00,  0.00000000e+00,  0.00000000e+00,  0.00000000e+00,\n",
       "        0.00000000e+00,  0.00000000e+00,  0.00000000e+00,  0.00000000e+00,\n",
       "        0.00000000e+00,  0.00000000e+00,  0.00000000e+00,  0.00000000e+00,\n",
       "        0.00000000e+00,  0.00000000e+00,  0.00000000e+00,  0.00000000e+00,\n",
       "        0.00000000e+00,  0.00000000e+00,  0.00000000e+00,  0.00000000e+00,\n",
       "        0.00000000e+00,  0.00000000e+00,  0.00000000e+00,  0.00000000e+00,\n",
       "        0.00000000e+00,  0.00000000e+00,  0.00000000e+00,  0.00000000e+00,\n",
       "        0.00000000e+00,  0.00000000e+00,  0.00000000e+00,  0.00000000e+00,\n",
       "        0.00000000e+00,  0.00000000e+00,  0.00000000e+00,  0.00000000e+00,\n",
       "        0.00000000e+00,  0.00000000e+00,  0.00000000e+00,  0.00000000e+00,\n",
       "        0.00000000e+00,  0.00000000e+00,  0.00000000e+00,  0.00000000e+00,\n",
       "        0.00000000e+00,  0.00000000e+00,  0.00000000e+00,  0.00000000e+00,\n",
       "        0.00000000e+00,  0.00000000e+00,  0.00000000e+00,  0.00000000e+00,\n",
       "        0.00000000e+00,  0.00000000e+00,  0.00000000e+00,  0.00000000e+00,\n",
       "        0.00000000e+00,  0.00000000e+00,  0.00000000e+00,  0.00000000e+00,\n",
       "        0.00000000e+00,  0.00000000e+00,  0.00000000e+00,  0.00000000e+00,\n",
       "        0.00000000e+00,  0.00000000e+00,  0.00000000e+00,  0.00000000e+00,\n",
       "        0.00000000e+00,  0.00000000e+00])"
      ]
     },
     "execution_count": 21,
     "metadata": {},
     "output_type": "execute_result"
    }
   ],
   "source": [
    "eigVals # 特征值"
   ]
  },
  {
   "cell_type": "code",
   "execution_count": 22,
   "metadata": {},
   "outputs": [
    {
     "data": {
      "text/plain": [
       "matrix([[-6.39070760e-04, -1.20314234e-04,  1.22460363e-04, ...,\n",
       "          0.00000000e+00,  0.00000000e+00,  0.00000000e+00],\n",
       "        [ 2.35722934e-05, -6.60163227e-04,  1.71369126e-03, ...,\n",
       "          0.00000000e+00,  0.00000000e+00,  0.00000000e+00],\n",
       "        [ 2.36801459e-04,  1.58026311e-04,  3.28185512e-04, ...,\n",
       "          0.00000000e+00,  0.00000000e+00,  0.00000000e+00],\n",
       "        ...,\n",
       "        [ 2.61329351e-08, -6.06233975e-09,  1.09328336e-09, ...,\n",
       "          0.00000000e+00,  0.00000000e+00,  0.00000000e+00],\n",
       "        [ 5.62597732e-09,  5.96647587e-09,  8.83024927e-09, ...,\n",
       "          0.00000000e+00,  0.00000000e+00,  0.00000000e+00],\n",
       "        [ 3.89298443e-04, -2.32070657e-04,  7.13534990e-04, ...,\n",
       "          0.00000000e+00,  0.00000000e+00,  0.00000000e+00]])"
      ]
     },
     "execution_count": 22,
     "metadata": {},
     "output_type": "execute_result"
    }
   ],
   "source": [
    "eigVects # 特征向量"
   ]
  },
  {
   "cell_type": "code",
   "execution_count": 23,
   "metadata": {},
   "outputs": [
    {
     "data": {
      "text/plain": [
       "(590, 590)"
      ]
     },
     "execution_count": 23,
     "metadata": {},
     "output_type": "execute_result"
    }
   ],
   "source": [
    "np.shape(eigVects)"
   ]
  },
  {
   "cell_type": "code",
   "execution_count": 24,
   "metadata": {},
   "outputs": [
    {
     "data": {
      "text/plain": [
       "0.0016947823435559456"
      ]
     },
     "execution_count": 24,
     "metadata": {},
     "output_type": "execute_result"
    }
   ],
   "source": [
    "np.var(eigVects)"
   ]
  },
  {
   "cell_type": "markdown",
   "metadata": {},
   "source": [
    "方差占比\n"
   ]
  },
  {
   "cell_type": "markdown",
   "metadata": {
    "collapsed": true
   },
   "source": [
    "## Sklearn"
   ]
  },
  {
   "cell_type": "code",
   "execution_count": 25,
   "metadata": {
    "collapsed": true
   },
   "outputs": [],
   "source": [
    "import pandas as pd"
   ]
  },
  {
   "cell_type": "code",
   "execution_count": 26,
   "metadata": {},
   "outputs": [
    {
     "data": {
      "text/html": [
       "<div>\n",
       "<style>\n",
       "    .dataframe thead tr:only-child th {\n",
       "        text-align: right;\n",
       "    }\n",
       "\n",
       "    .dataframe thead th {\n",
       "        text-align: left;\n",
       "    }\n",
       "\n",
       "    .dataframe tbody tr th {\n",
       "        vertical-align: top;\n",
       "    }\n",
       "</style>\n",
       "<table border=\"1\" class=\"dataframe\">\n",
       "  <thead>\n",
       "    <tr style=\"text-align: right;\">\n",
       "      <th></th>\n",
       "      <th>0</th>\n",
       "      <th>1</th>\n",
       "    </tr>\n",
       "  </thead>\n",
       "  <tbody>\n",
       "    <tr>\n",
       "      <th>0</th>\n",
       "      <td>10.235186</td>\n",
       "      <td>11.321997</td>\n",
       "    </tr>\n",
       "    <tr>\n",
       "      <th>1</th>\n",
       "      <td>10.122339</td>\n",
       "      <td>11.810993</td>\n",
       "    </tr>\n",
       "    <tr>\n",
       "      <th>2</th>\n",
       "      <td>9.190236</td>\n",
       "      <td>8.904943</td>\n",
       "    </tr>\n",
       "    <tr>\n",
       "      <th>3</th>\n",
       "      <td>9.306371</td>\n",
       "      <td>9.847394</td>\n",
       "    </tr>\n",
       "    <tr>\n",
       "      <th>4</th>\n",
       "      <td>8.330131</td>\n",
       "      <td>8.340352</td>\n",
       "    </tr>\n",
       "  </tbody>\n",
       "</table>\n",
       "</div>"
      ],
      "text/plain": [
       "           0          1\n",
       "0  10.235186  11.321997\n",
       "1  10.122339  11.810993\n",
       "2   9.190236   8.904943\n",
       "3   9.306371   9.847394\n",
       "4   8.330131   8.340352"
      ]
     },
     "execution_count": 26,
     "metadata": {},
     "output_type": "execute_result"
    }
   ],
   "source": [
    "df = pd.read_table(\"./Data/CH13/testSet.txt\",header=None)\n",
    "df.head()"
   ]
  },
  {
   "cell_type": "code",
   "execution_count": 27,
   "metadata": {
    "collapsed": true
   },
   "outputs": [],
   "source": [
    "from sklearn.decomposition import PCA"
   ]
  },
  {
   "cell_type": "code",
   "execution_count": 28,
   "metadata": {},
   "outputs": [
    {
     "data": {
      "text/plain": [
       "PCA(copy=True, iterated_power='auto', n_components=1, random_state=None,\n",
       "  svd_solver='auto', tol=0.0, whiten=False)"
      ]
     },
     "execution_count": 28,
     "metadata": {},
     "output_type": "execute_result"
    }
   ],
   "source": [
    "pca = PCA(n_components=1)\n",
    "pca.fit(df.values)"
   ]
  },
  {
   "cell_type": "code",
   "execution_count": 29,
   "metadata": {
    "collapsed": true
   },
   "outputs": [],
   "source": [
    "lowDData  = pca.transform(df.values)"
   ]
  },
  {
   "cell_type": "code",
   "execution_count": 30,
   "metadata": {},
   "outputs": [
    {
     "data": {
      "text/plain": [
       "array([[1.05198368, 1.1246314 ],\n",
       "       [1.1246314 , 2.21166499]])"
      ]
     },
     "execution_count": 30,
     "metadata": {},
     "output_type": "execute_result"
    }
   ],
   "source": [
    "pca.get_covariance()"
   ]
  },
  {
   "cell_type": "code",
   "execution_count": null,
   "metadata": {
    "collapsed": true
   },
   "outputs": [],
   "source": []
  },
  {
   "cell_type": "code",
   "execution_count": 31,
   "metadata": {},
   "outputs": [
    {
     "data": {
      "text/plain": [
       "array([9.06393644, 9.09600218])"
      ]
     },
     "execution_count": 31,
     "metadata": {},
     "output_type": "execute_result"
    }
   ],
   "source": [
    "pca.mean_"
   ]
  },
  {
   "cell_type": "code",
   "execution_count": null,
   "metadata": {
    "collapsed": true
   },
   "outputs": [],
   "source": []
  },
  {
   "cell_type": "code",
   "execution_count": 32,
   "metadata": {},
   "outputs": [
    {
     "data": {
      "text/plain": [
       "1"
      ]
     },
     "execution_count": 32,
     "metadata": {},
     "output_type": "execute_result"
    }
   ],
   "source": [
    "pca.n_components_"
   ]
  },
  {
   "cell_type": "code",
   "execution_count": 33,
   "metadata": {},
   "outputs": [
    {
     "data": {
      "text/plain": [
       "array([53.79812098])"
      ]
     },
     "execution_count": 33,
     "metadata": {},
     "output_type": "execute_result"
    }
   ],
   "source": [
    "pca.singular_values_"
   ]
  },
  {
   "cell_type": "code",
   "execution_count": 34,
   "metadata": {},
   "outputs": [
    {
     "data": {
      "text/plain": [
       "array([0.88769817])"
      ]
     },
     "execution_count": 34,
     "metadata": {},
     "output_type": "execute_result"
    }
   ],
   "source": [
    "pca.explained_variance_ratio_"
   ]
  },
  {
   "cell_type": "code",
   "execution_count": 35,
   "metadata": {},
   "outputs": [
    {
     "data": {
      "text/plain": [
       "array([2.89713496])"
      ]
     },
     "execution_count": 35,
     "metadata": {},
     "output_type": "execute_result"
    }
   ],
   "source": [
    "pca.explained_variance_"
   ]
  },
  {
   "cell_type": "code",
   "execution_count": 36,
   "metadata": {},
   "outputs": [
    {
     "data": {
      "image/png": "[encoded data removed]",
      "text/plain": [
       "<matplotlib.figure.Figure at 0x1b4a2f1b7b8>"
      ]
     },
     "metadata": {},
     "output_type": "display_data"
    }
   ],
   "source": [
    "plt.scatter(df.values[:,0],df.values[:,1])\n",
    "plt.show()"
   ]
  },
  {
   "cell_type": "code",
   "execution_count": 37,
   "metadata": {
    "collapsed": true
   },
   "outputs": [],
   "source": [
    "eigVals,eigVects = np.linalg.eig(pca.get_covariance())"
   ]
  },
  {
   "cell_type": "code",
   "execution_count": 38,
   "metadata": {},
   "outputs": [
    {
     "data": {
      "text/plain": [
       "array([0.36651371, 2.89713496])"
      ]
     },
     "execution_count": 38,
     "metadata": {},
     "output_type": "execute_result"
    }
   ],
   "source": [
    "eigVals"
   ]
  },
  {
   "cell_type": "code",
   "execution_count": 39,
   "metadata": {},
   "outputs": [
    {
     "data": {
      "text/plain": [
       "array([[-0.85389096, -0.52045195],\n",
       "       [ 0.52045195, -0.85389096]])"
      ]
     },
     "execution_count": 39,
     "metadata": {},
     "output_type": "execute_result"
    }
   ],
   "source": [
    "eigVects"
   ]
  },
  {
   "cell_type": "code",
   "execution_count": 40,
   "metadata": {
    "collapsed": true
   },
   "outputs": [],
   "source": [
    "df = pd.read_csv(\"./Data/CH13/secom.data\",sep=\" \",header = None)"
   ]
  },
  {
   "cell_type": "code",
   "execution_count": 41,
   "metadata": {
    "collapsed": true
   },
   "outputs": [],
   "source": [
    "df.fillna(0,inplace=True)"
   ]
  },
  {
   "cell_type": "code",
   "execution_count": 42,
   "metadata": {},
   "outputs": [
    {
     "data": {
      "text/plain": [
       "PCA(copy=True, iterated_power='auto', n_components=20, random_state=None,\n",
       "  svd_solver='auto', tol=0.0, whiten=False)"
      ]
     },
     "execution_count": 42,
     "metadata": {},
     "output_type": "execute_result"
    }
   ],
   "source": [
    "pca = PCA(n_components=20)\n",
    "pca.fit(df.values)"
   ]
  },
  {
   "cell_type": "code",
   "execution_count": 43,
   "metadata": {},
   "outputs": [
    {
     "data": {
      "text/plain": [
       "array([0.5739377 , 0.23371987, 0.08860884, 0.0284086 , 0.0225041 ,\n",
       "       0.01415206, 0.0050246 , 0.00339362, 0.00312535, 0.00267127,\n",
       "       0.00237311, 0.00221713, 0.0020341 , 0.00122493, 0.00118809,\n",
       "       0.00116822, 0.001105  , 0.00107853, 0.0009015 , 0.00087692])"
      ]
     },
     "execution_count": 43,
     "metadata": {},
     "output_type": "execute_result"
    }
   ],
   "source": [
    "pca.explained_variance_ratio_"
   ]
  },
  {
   "cell_type": "code",
   "execution_count": 44,
   "metadata": {},
   "outputs": [
    {
     "data": {
      "text/plain": [
       "array([[ 3.57776426e-04,  6.71768265e-04, -8.18091376e-04, ...,\n",
       "        -2.45648517e-08, -5.12047004e-09, -3.74874303e-04],\n",
       "       [ 9.46130623e-04,  2.16933526e-04,  1.04700673e-03, ...,\n",
       "         8.71623794e-09, -5.09177368e-09,  2.49819927e-04],\n",
       "       [-9.68943614e-04, -4.58426520e-03, -1.18983547e-03, ...,\n",
       "        -1.83885876e-09, -9.03358873e-09, -7.47935285e-04],\n",
       "       ...,\n",
       "       [ 2.92539427e-02,  3.60350127e-02, -1.25417264e-02, ...,\n",
       "        -8.09856086e-07, -3.03029311e-07, -1.47424764e-02],\n",
       "       [ 1.57437148e-02,  2.18636298e-02, -3.09023491e-02, ...,\n",
       "         4.27015893e-07,  1.66015813e-07,  1.17356973e-03],\n",
       "       [-3.44591353e-04,  9.25199049e-04,  4.31525403e-02, ...,\n",
       "         9.77015671e-07,  3.01720397e-07, -2.40081651e-03]])"
      ]
     },
     "execution_count": 44,
     "metadata": {},
     "output_type": "execute_result"
    }
   ],
   "source": [
    "pca.components_"
   ]
  },
  {
   "cell_type": "code",
   "execution_count": 45,
   "metadata": {
    "scrolled": true
   },
   "outputs": [
    {
     "data": {
      "text/plain": [
       "array([[ 2.49650164e+03, -1.15545742e+01,  2.27160379e+02, ...,\n",
       "        -1.40719029e-03, -4.78359655e-04, -1.62573020e+02],\n",
       "       [-1.15545742e+01,  2.42414416e+03, -8.34155043e+01, ...,\n",
       "        -3.33685037e-03, -7.19634606e-04, -1.42855012e+01],\n",
       "       [ 2.27160379e+02, -8.34155043e+01,  9.23628279e+03, ...,\n",
       "        -2.10953837e-02, -6.79973696e-03, -6.18741956e+02],\n",
       "       ...,\n",
       "       [-1.40719029e-03, -3.33685037e-03, -2.10953837e-02, ...,\n",
       "         1.68090986e+03,  2.83609696e-07,  4.19659622e-03],\n",
       "       [-4.78359655e-04, -7.19634606e-04, -6.79973696e-03, ...,\n",
       "         2.83609696e-07,  1.68090986e+03,  1.42618657e-03],\n",
       "       [-1.62573020e+02, -1.42855012e+01, -6.18741956e+02, ...,\n",
       "         4.19659622e-03,  1.42618657e-03,  1.99448694e+03]])"
      ]
     },
     "execution_count": 45,
     "metadata": {},
     "output_type": "execute_result"
    }
   ],
   "source": [
    "pca.get_covariance()"
   ]
  },
  {
   "cell_type": "markdown",
   "metadata": {},
   "source": [
    "### OneClass"
   ]
  },
  {
   "cell_type": "code",
   "execution_count": 46,
   "metadata": {
    "collapsed": true
   },
   "outputs": [],
   "source": [
    "from sklearn import svm\n",
    "from sklearn import metrics"
   ]
  },
  {
   "cell_type": "code",
   "execution_count": 47,
   "metadata": {},
   "outputs": [
    {
     "name": "stdout",
     "output_type": "stream",
     "text": [
      "F1 Score:  0.8695652173913044 ACC: 0.98468410976388\n"
     ]
    }
   ],
   "source": [
    "clf = svm.OneClassSVM(nu=0.2, kernel=\"rbf\", gamma=3.8)\n",
    "X = pd.read_csv(\"./Data/CH13/secom.data\",sep=\" \",header = None)\n",
    "y = pd.read_csv(\"./Data/CH13/secom_labels.data\",sep=\" \",header = None)\n",
    "X.fillna(0,inplace=True)\n",
    "clf.fit(X[y[0]==1].values)\n",
    "y_pred = clf.predict(X.values)\n",
    "y[\"y_pred\"] = y_pred\n",
    "print(\"F1 Score: \", metrics.f1_score(y[0],y[\"y_pred\"]), \"ACC:\", metrics.accuracy_score(y[0],y[\"y_pred\"]))"
   ]
  },
  {
   "cell_type": "code",
   "execution_count": 49,
   "metadata": {},
   "outputs": [
    {
     "data": {
      "text/plain": [
       "2.0"
      ]
     },
     "execution_count": 49,
     "metadata": {},
     "output_type": "execute_result"
    }
   ],
   "source": [
    "metrics.auc(y[\"y_pred\"],y[0],reorder=True)"
   ]
  },
  {
   "cell_type": "code",
   "execution_count": 50,
   "metadata": {},
   "outputs": [
    {
     "data": {
      "text/plain": [
       "(array([0., 1.]),\n",
       " array([0.76923077, 1.        ]),\n",
       " array([ 1, -1], dtype=int64))"
      ]
     },
     "execution_count": 50,
     "metadata": {},
     "output_type": "execute_result"
    }
   ],
   "source": [
    "metrics.roc_curve(y_true=y[0],y_score=y[\"y_pred\"])"
   ]
  },
  {
   "cell_type": "markdown",
   "metadata": {},
   "source": [
    "### IForest"
   ]
  },
  {
   "cell_type": "code",
   "execution_count": 51,
   "metadata": {
    "collapsed": true
   },
   "outputs": [],
   "source": [
    "from sklearn.ensemble import IsolationForest"
   ]
  },
  {
   "cell_type": "code",
   "execution_count": 52,
   "metadata": {},
   "outputs": [
    {
     "data": {
      "text/plain": [
       "0.14932992980216975"
      ]
     },
     "execution_count": 52,
     "metadata": {},
     "output_type": "execute_result"
    }
   ],
   "source": [
    "iF = IsolationForest(max_samples=20, random_state=0)\n",
    "iF.fit(X[y[0]==1].values)\n",
    "y_pred = iF.predict(X.values)\n",
    "y[\"y_pred\"] = y_pred\n",
    "metrics.accuracy_score(y[0],y[\"y_pred\"])"
   ]
  },
  {
   "cell_type": "code",
   "execution_count": null,
   "metadata": {
    "collapsed": true
   },
   "outputs": [],
   "source": []
  },
  {
   "cell_type": "code",
   "execution_count": 53,
   "metadata": {},
   "outputs": [
    {
     "data": {
      "text/plain": [
       "0.8942307692307693"
      ]
     },
     "execution_count": 53,
     "metadata": {},
     "output_type": "execute_result"
    }
   ],
   "source": [
    "metrics.accuracy_score(y[y[0]==1][0],y[y[0]==1][\"y_pred\"] )"
   ]
  },
  {
   "cell_type": "code",
   "execution_count": null,
   "metadata": {},
   "outputs": [],
   "source": []
  },
  {
   "cell_type": "markdown",
   "metadata": {},
   "source": [
    "### SVC"
   ]
  },
  {
   "cell_type": "code",
   "execution_count": 54,
   "metadata": {},
   "outputs": [
    {
     "name": "stderr",
     "output_type": "stream",
     "text": [
      "D:\\Anaconda3\\lib\\site-packages\\sklearn\\cross_validation.py:41: DeprecationWarning: This module was deprecated in version 0.18 in favor of the model_selection module into which all the refactored classes and functions are moved. Also note that the interface of the new CV iterators are different from that of this module. This module will be removed in 0.20.\n",
      "  \"This module will be removed in 0.20.\", DeprecationWarning)\n"
     ]
    }
   ],
   "source": [
    "from sklearn.cross_validation import train_test_split"
   ]
  },
  {
   "cell_type": "code",
   "execution_count": 55,
   "metadata": {},
   "outputs": [
    {
     "name": "stdout",
     "output_type": "stream",
     "text": [
      "F1 Score:  0.0 ACC: 0.9384288747346072\n"
     ]
    },
    {
     "name": "stderr",
     "output_type": "stream",
     "text": [
      "D:\\Anaconda3\\lib\\site-packages\\sklearn\\metrics\\classification.py:1135: UndefinedMetricWarning: F-score is ill-defined and being set to 0.0 due to no predicted samples.\n",
      "  'precision', 'predicted', average, warn_for)\n"
     ]
    }
   ],
   "source": [
    "clf = svm.SVC(kernel=\"rbf\", gamma=0.2)\n",
    "X = pd.read_csv(\"./Data/CH13/secom.data\",sep=\" \",header = None)\n",
    "y = pd.read_csv(\"./Data/CH13/secom_labels.data\",sep=\" \",header = None)\n",
    "X.fillna(0,inplace=True)\n",
    "\n",
    "X_train, X_test, y_train, y_test = train_test_split(X.values,y[0].values,test_size=0.3)\n",
    "clf.fit(X_train,y_train)\n",
    "y_pred = clf.predict(X_test)\n",
    "print(\"F1 Score: \", metrics.f1_score(y_test,y_pred), \"ACC:\", metrics.accuracy_score(y_test,y_pred))"
   ]
  },
  {
   "cell_type": "markdown",
   "metadata": {
    "collapsed": true
   },
   "source": [
    "## Other"
   ]
  },
  {
   "cell_type": "markdown",
   "metadata": {},
   "source": [
    "### iris"
   ]
  },
  {
   "cell_type": "code",
   "execution_count": 57,
   "metadata": {
    "collapsed": true
   },
   "outputs": [],
   "source": [
    "from sklearn import datasets\n",
    "from sklearn.decomposition import PCA\n",
    "iris = datasets.load_iris()\n",
    "X = iris.data\n",
    "y = iris.target"
   ]
  },
  {
   "cell_type": "code",
   "execution_count": 148,
   "metadata": {},
   "outputs": [
    {
     "data": {
      "text/plain": [
       "((150, 4), (150,))"
      ]
     },
     "execution_count": 148,
     "metadata": {},
     "output_type": "execute_result"
    }
   ],
   "source": [
    "# 了解一下数据集\n",
    "X.shape, y.shape"
   ]
  },
  {
   "cell_type": "code",
   "execution_count": 149,
   "metadata": {},
   "outputs": [
    {
     "name": "stdout",
     "output_type": "stream",
     "text": [
      "[0, 1, 2]\n",
      "[0, 1, 3]\n",
      "[0, 2, 3]\n",
      "[1, 2, 3]\n"
     ]
    }
   ],
   "source": [
    "# 生成数据集选择list\n",
    "from itertools import combinations\n",
    "combins = [c for c in  combinations(range(4), 3)]\n",
    "for c in combins:\n",
    "    print(list(c))"
   ]
  },
  {
   "cell_type": "code",
   "execution_count": 150,
   "metadata": {},
   "outputs": [
    {
     "data": {
      "text/html": [
       "<script>\n",
       "    require.config({\n",
       "        paths: {\n",
       "            'echarts': '/nbextensions/echarts/echarts.min', 'echartsgl': '/nbextensions/echarts/echarts-gl.min'\n",
       "        }\n",
       "    });\n",
       "</script>\n",
       "    <div id=\"c559a0a923344ce4afaccb77ab556273\" style=\"width:300px;height:300px;\"></div>\n",
       "\n",
       "\n",
       "<script>\n",
       "    require(['echarts', 'echartsgl'], function(echarts) {\n",
       "        \n",
       "var myChart_c559a0a923344ce4afaccb77ab556273 = echarts.init(document.getElementById('c559a0a923344ce4afaccb77ab556273'), 'dark', {renderer: 'canvas'});\n",
       "\n",
       "var option_c559a0a923344ce4afaccb77ab556273 = {\n",
       "    \"title\": [\n",
       "        {\n",
       "            \"left\": \"auto\",\n",
       "            \"top\": \"auto\",\n",
       "            \"textStyle\": {\n",
       "                \"fontSize\": 18\n",
       "            },\n",
       "            \"subtextStyle\": {\n",
       "                \"fontSize\": 12\n",
       "            }\n",
       "        }\n",
       "    ],\n",
       "    \"toolbox\": {\n",
       "        \"show\": true,\n",
       "        \"orient\": \"vertical\",\n",
       "        \"left\": \"95%\",\n",
       "        \"top\": \"center\",\n",
       "        \"feature\": {\n",
       "            \"saveAsImage\": {\n",
       "                \"show\": true,\n",
       "                \"title\": \"\\u4e0b\\u8f7d\\u56fe\\u7247\"\n",
       "            },\n",
       "            \"restore\": {\n",
       "                \"show\": true\n",
       "            },\n",
       "            \"dataView\": {\n",
       "                \"show\": true\n",
       "            }\n",
       "        }\n",
       "    },\n",
       "    \"series_id\": 8605880,\n",
       "    \"tooltip\": {\n",
       "        \"trigger\": \"item\",\n",
       "        \"triggerOn\": \"mousemove|click\",\n",
       "        \"axisPointer\": {\n",
       "            \"type\": \"line\"\n",
       "        },\n",
       "        \"textStyle\": {\n",
       "            \"fontSize\": 14\n",
       "        },\n",
       "        \"backgroundColor\": \"rgba(50,50,50,0.7)\",\n",
       "        \"borderColor\": \"#333\",\n",
       "        \"borderWidth\": 0\n",
       "    },\n",
       "    \"series\": [\n",
       "        {\n",
       "            \"type\": \"scatter3D\",\n",
       "            \"name\": \"setosa\",\n",
       "            \"data\": [\n",
       "                [\n",
       "                    5.1,\n",
       "                    3.5,\n",
       "                    1.4\n",
       "                ],\n",
       "                [\n",
       "                    4.9,\n",
       "                    3.0,\n",
       "                    1.4\n",
       "                ],\n",
       "                [\n",
       "                    4.7,\n",
       "                    3.2,\n",
       "                    1.3\n",
       "                ],\n",
       "                [\n",
       "                    4.6,\n",
       "                    3.1,\n",
       "                    1.5\n",
       "                ],\n",
       "                [\n",
       "                    5.0,\n",
       "                    3.6,\n",
       "                    1.4\n",
       "                ],\n",
       "                [\n",
       "                    5.4,\n",
       "                    3.9,\n",
       "                    1.7\n",
       "                ],\n",
       "                [\n",
       "                    4.6,\n",
       "                    3.4,\n",
       "                    1.4\n",
       "                ],\n",
       "                [\n",
       "                    5.0,\n",
       "                    3.4,\n",
       "                    1.5\n",
       "                ],\n",
       "                [\n",
       "                    4.4,\n",
       "                    2.9,\n",
       "                    1.4\n",
       "                ],\n",
       "                [\n",
       "                    4.9,\n",
       "                    3.1,\n",
       "                    1.5\n",
       "                ],\n",
       "                [\n",
       "                    5.4,\n",
       "                    3.7,\n",
       "                    1.5\n",
       "                ],\n",
       "                [\n",
       "                    4.8,\n",
       "                    3.4,\n",
       "                    1.6\n",
       "                ],\n",
       "                [\n",
       "                    4.8,\n",
       "                    3.0,\n",
       "                    1.4\n",
       "                ],\n",
       "                [\n",
       "                    4.3,\n",
       "                    3.0,\n",
       "                    1.1\n",
       "                ],\n",
       "                [\n",
       "                    5.8,\n",
       "                    4.0,\n",
       "                    1.2\n",
       "                ],\n",
       "                [\n",
       "                    5.7,\n",
       "                    4.4,\n",
       "                    1.5\n",
       "                ],\n",
       "                [\n",
       "                    5.4,\n",
       "                    3.9,\n",
       "                    1.3\n",
       "                ],\n",
       "                [\n",
       "                    5.1,\n",
       "                    3.5,\n",
       "                    1.4\n",
       "                ],\n",
       "                [\n",
       "                    5.7,\n",
       "                    3.8,\n",
       "                    1.7\n",
       "                ],\n",
       "                [\n",
       "                    5.1,\n",
       "                    3.8,\n",
       "                    1.5\n",
       "                ],\n",
       "                [\n",
       "                    5.4,\n",
       "                    3.4,\n",
       "                    1.7\n",
       "                ],\n",
       "                [\n",
       "                    5.1,\n",
       "                    3.7,\n",
       "                    1.5\n",
       "                ],\n",
       "                [\n",
       "                    4.6,\n",
       "                    3.6,\n",
       "                    1.0\n",
       "                ],\n",
       "                [\n",
       "                    5.1,\n",
       "                    3.3,\n",
       "                    1.7\n",
       "                ],\n",
       "                [\n",
       "                    4.8,\n",
       "                    3.4,\n",
       "                    1.9\n",
       "                ],\n",
       "                [\n",
       "                    5.0,\n",
       "                    3.0,\n",
       "                    1.6\n",
       "                ],\n",
       "                [\n",
       "                    5.0,\n",
       "                    3.4,\n",
       "                    1.6\n",
       "                ],\n",
       "                [\n",
       "                    5.2,\n",
       "                    3.5,\n",
       "                    1.5\n",
       "                ],\n",
       "                [\n",
       "                    5.2,\n",
       "                    3.4,\n",
       "                    1.4\n",
       "                ],\n",
       "                [\n",
       "                    4.7,\n",
       "                    3.2,\n",
       "                    1.6\n",
       "                ],\n",
       "                [\n",
       "                    4.8,\n",
       "                    3.1,\n",
       "                    1.6\n",
       "                ],\n",
       "                [\n",
       "                    5.4,\n",
       "                    3.4,\n",
       "                    1.5\n",
       "                ],\n",
       "                [\n",
       "                    5.2,\n",
       "                    4.1,\n",
       "                    1.5\n",
       "                ],\n",
       "                [\n",
       "                    5.5,\n",
       "                    4.2,\n",
       "                    1.4\n",
       "                ],\n",
       "                [\n",
       "                    4.9,\n",
       "                    3.1,\n",
       "                    1.5\n",
       "                ],\n",
       "                [\n",
       "                    5.0,\n",
       "                    3.2,\n",
       "                    1.2\n",
       "                ],\n",
       "                [\n",
       "                    5.5,\n",
       "                    3.5,\n",
       "                    1.3\n",
       "                ],\n",
       "                [\n",
       "                    4.9,\n",
       "                    3.1,\n",
       "                    1.5\n",
       "                ],\n",
       "                [\n",
       "                    4.4,\n",
       "                    3.0,\n",
       "                    1.3\n",
       "                ],\n",
       "                [\n",
       "                    5.1,\n",
       "                    3.4,\n",
       "                    1.5\n",
       "                ],\n",
       "                [\n",
       "                    5.0,\n",
       "                    3.5,\n",
       "                    1.3\n",
       "                ],\n",
       "                [\n",
       "                    4.5,\n",
       "                    2.3,\n",
       "                    1.3\n",
       "                ],\n",
       "                [\n",
       "                    4.4,\n",
       "                    3.2,\n",
       "                    1.3\n",
       "                ],\n",
       "                [\n",
       "                    5.0,\n",
       "                    3.5,\n",
       "                    1.6\n",
       "                ],\n",
       "                [\n",
       "                    5.1,\n",
       "                    3.8,\n",
       "                    1.9\n",
       "                ],\n",
       "                [\n",
       "                    4.8,\n",
       "                    3.0,\n",
       "                    1.4\n",
       "                ],\n",
       "                [\n",
       "                    5.1,\n",
       "                    3.8,\n",
       "                    1.6\n",
       "                ],\n",
       "                [\n",
       "                    4.6,\n",
       "                    3.2,\n",
       "                    1.4\n",
       "                ],\n",
       "                [\n",
       "                    5.3,\n",
       "                    3.7,\n",
       "                    1.5\n",
       "                ],\n",
       "                [\n",
       "                    5.0,\n",
       "                    3.3,\n",
       "                    1.4\n",
       "                ]\n",
       "            ],\n",
       "            \"label\": {\n",
       "                \"normal\": {\n",
       "                    \"show\": false,\n",
       "                    \"position\": \"top\",\n",
       "                    \"textStyle\": {\n",
       "                        \"fontSize\": 12\n",
       "                    }\n",
       "                },\n",
       "                \"emphasis\": {\n",
       "                    \"show\": true,\n",
       "                    \"textStyle\": {\n",
       "                        \"fontSize\": 12\n",
       "                    }\n",
       "                }\n",
       "            },\n",
       "            \"itemStyle\": {\n",
       "                \"opacity\": 1\n",
       "            }\n",
       "        },\n",
       "        {\n",
       "            \"type\": \"scatter3D\",\n",
       "            \"name\": \"versicolor\",\n",
       "            \"data\": [\n",
       "                [\n",
       "                    7.0,\n",
       "                    3.2,\n",
       "                    4.7\n",
       "                ],\n",
       "                [\n",
       "                    6.4,\n",
       "                    3.2,\n",
       "                    4.5\n",
       "                ],\n",
       "                [\n",
       "                    6.9,\n",
       "                    3.1,\n",
       "                    4.9\n",
       "                ],\n",
       "                [\n",
       "                    5.5,\n",
       "                    2.3,\n",
       "                    4.0\n",
       "                ],\n",
       "                [\n",
       "                    6.5,\n",
       "                    2.8,\n",
       "                    4.6\n",
       "                ],\n",
       "                [\n",
       "                    5.7,\n",
       "                    2.8,\n",
       "                    4.5\n",
       "                ],\n",
       "                [\n",
       "                    6.3,\n",
       "                    3.3,\n",
       "                    4.7\n",
       "                ],\n",
       "                [\n",
       "                    4.9,\n",
       "                    2.4,\n",
       "                    3.3\n",
       "                ],\n",
       "                [\n",
       "                    6.6,\n",
       "                    2.9,\n",
       "                    4.6\n",
       "                ],\n",
       "                [\n",
       "                    5.2,\n",
       "                    2.7,\n",
       "                    3.9\n",
       "                ],\n",
       "                [\n",
       "                    5.0,\n",
       "                    2.0,\n",
       "                    3.5\n",
       "                ],\n",
       "                [\n",
       "                    5.9,\n",
       "                    3.0,\n",
       "                    4.2\n",
       "                ],\n",
       "                [\n",
       "                    6.0,\n",
       "                    2.2,\n",
       "                    4.0\n",
       "                ],\n",
       "                [\n",
       "                    6.1,\n",
       "                    2.9,\n",
       "                    4.7\n",
       "                ],\n",
       "                [\n",
       "                    5.6,\n",
       "                    2.9,\n",
       "                    3.6\n",
       "                ],\n",
       "                [\n",
       "                    6.7,\n",
       "                    3.1,\n",
       "                    4.4\n",
       "                ],\n",
       "                [\n",
       "                    5.6,\n",
       "                    3.0,\n",
       "                    4.5\n",
       "                ],\n",
       "                [\n",
       "                    5.8,\n",
       "                    2.7,\n",
       "                    4.1\n",
       "                ],\n",
       "                [\n",
       "                    6.2,\n",
       "                    2.2,\n",
       "                    4.5\n",
       "                ],\n",
       "                [\n",
       "                    5.6,\n",
       "                    2.5,\n",
       "                    3.9\n",
       "                ],\n",
       "                [\n",
       "                    5.9,\n",
       "                    3.2,\n",
       "                    4.8\n",
       "                ],\n",
       "                [\n",
       "                    6.1,\n",
       "                    2.8,\n",
       "                    4.0\n",
       "                ],\n",
       "                [\n",
       "                    6.3,\n",
       "                    2.5,\n",
       "                    4.9\n",
       "                ],\n",
       "                [\n",
       "                    6.1,\n",
       "                    2.8,\n",
       "                    4.7\n",
       "                ],\n",
       "                [\n",
       "                    6.4,\n",
       "                    2.9,\n",
       "                    4.3\n",
       "                ],\n",
       "                [\n",
       "                    6.6,\n",
       "                    3.0,\n",
       "                    4.4\n",
       "                ],\n",
       "                [\n",
       "                    6.8,\n",
       "                    2.8,\n",
       "                    4.8\n",
       "                ],\n",
       "                [\n",
       "                    6.7,\n",
       "                    3.0,\n",
       "                    5.0\n",
       "                ],\n",
       "                [\n",
       "                    6.0,\n",
       "                    2.9,\n",
       "                    4.5\n",
       "                ],\n",
       "                [\n",
       "                    5.7,\n",
       "                    2.6,\n",
       "                    3.5\n",
       "                ],\n",
       "                [\n",
       "                    5.5,\n",
       "                    2.4,\n",
       "                    3.8\n",
       "                ],\n",
       "                [\n",
       "                    5.5,\n",
       "                    2.4,\n",
       "                    3.7\n",
       "                ],\n",
       "                [\n",
       "                    5.8,\n",
       "                    2.7,\n",
       "                    3.9\n",
       "                ],\n",
       "                [\n",
       "                    6.0,\n",
       "                    2.7,\n",
       "                    5.1\n",
       "                ],\n",
       "                [\n",
       "                    5.4,\n",
       "                    3.0,\n",
       "                    4.5\n",
       "                ],\n",
       "                [\n",
       "                    6.0,\n",
       "                    3.4,\n",
       "                    4.5\n",
       "                ],\n",
       "                [\n",
       "                    6.7,\n",
       "                    3.1,\n",
       "                    4.7\n",
       "                ],\n",
       "                [\n",
       "                    6.3,\n",
       "                    2.3,\n",
       "                    4.4\n",
       "                ],\n",
       "                [\n",
       "                    5.6,\n",
       "                    3.0,\n",
       "                    4.1\n",
       "                ],\n",
       "                [\n",
       "                    5.5,\n",
       "                    2.5,\n",
       "                    4.0\n",
       "                ],\n",
       "                [\n",
       "                    5.5,\n",
       "                    2.6,\n",
       "                    4.4\n",
       "                ],\n",
       "                [\n",
       "                    6.1,\n",
       "                    3.0,\n",
       "                    4.6\n",
       "                ],\n",
       "                [\n",
       "                    5.8,\n",
       "                    2.6,\n",
       "                    4.0\n",
       "                ],\n",
       "                [\n",
       "                    5.0,\n",
       "                    2.3,\n",
       "                    3.3\n",
       "                ],\n",
       "                [\n",
       "                    5.6,\n",
       "                    2.7,\n",
       "                    4.2\n",
       "                ],\n",
       "                [\n",
       "                    5.7,\n",
       "                    3.0,\n",
       "                    4.2\n",
       "                ],\n",
       "                [\n",
       "                    5.7,\n",
       "                    2.9,\n",
       "                    4.2\n",
       "                ],\n",
       "                [\n",
       "                    6.2,\n",
       "                    2.9,\n",
       "                    4.3\n",
       "                ],\n",
       "                [\n",
       "                    5.1,\n",
       "                    2.5,\n",
       "                    3.0\n",
       "                ],\n",
       "                [\n",
       "                    5.7,\n",
       "                    2.8,\n",
       "                    4.1\n",
       "                ]\n",
       "            ],\n",
       "            \"label\": {\n",
       "                \"normal\": {\n",
       "                    \"show\": false,\n",
       "                    \"position\": \"top\",\n",
       "                    \"textStyle\": {\n",
       "                        \"fontSize\": 12\n",
       "                    }\n",
       "                },\n",
       "                \"emphasis\": {\n",
       "                    \"show\": true,\n",
       "                    \"textStyle\": {\n",
       "                        \"fontSize\": 12\n",
       "                    }\n",
       "                }\n",
       "            },\n",
       "            \"itemStyle\": {\n",
       "                \"opacity\": 1\n",
       "            }\n",
       "        },\n",
       "        {\n",
       "            \"type\": \"scatter3D\",\n",
       "            \"name\": \"virginica\",\n",
       "            \"data\": [\n",
       "                [\n",
       "                    6.3,\n",
       "                    3.3,\n",
       "                    6.0\n",
       "                ],\n",
       "                [\n",
       "                    5.8,\n",
       "                    2.7,\n",
       "                    5.1\n",
       "                ],\n",
       "                [\n",
       "                    7.1,\n",
       "                    3.0,\n",
       "                    5.9\n",
       "                ],\n",
       "                [\n",
       "                    6.3,\n",
       "                    2.9,\n",
       "                    5.6\n",
       "                ],\n",
       "                [\n",
       "                    6.5,\n",
       "                    3.0,\n",
       "                    5.8\n",
       "                ],\n",
       "                [\n",
       "                    7.6,\n",
       "                    3.0,\n",
       "                    6.6\n",
       "                ],\n",
       "                [\n",
       "                    4.9,\n",
       "                    2.5,\n",
       "                    4.5\n",
       "                ],\n",
       "                [\n",
       "                    7.3,\n",
       "                    2.9,\n",
       "                    6.3\n",
       "                ],\n",
       "                [\n",
       "                    6.7,\n",
       "                    2.5,\n",
       "                    5.8\n",
       "                ],\n",
       "                [\n",
       "                    7.2,\n",
       "                    3.6,\n",
       "                    6.1\n",
       "                ],\n",
       "                [\n",
       "                    6.5,\n",
       "                    3.2,\n",
       "                    5.1\n",
       "                ],\n",
       "                [\n",
       "                    6.4,\n",
       "                    2.7,\n",
       "                    5.3\n",
       "                ],\n",
       "                [\n",
       "                    6.8,\n",
       "                    3.0,\n",
       "                    5.5\n",
       "                ],\n",
       "                [\n",
       "                    5.7,\n",
       "                    2.5,\n",
       "                    5.0\n",
       "                ],\n",
       "                [\n",
       "                    5.8,\n",
       "                    2.8,\n",
       "                    5.1\n",
       "                ],\n",
       "                [\n",
       "                    6.4,\n",
       "                    3.2,\n",
       "                    5.3\n",
       "                ],\n",
       "                [\n",
       "                    6.5,\n",
       "                    3.0,\n",
       "                    5.5\n",
       "                ],\n",
       "                [\n",
       "                    7.7,\n",
       "                    3.8,\n",
       "                    6.7\n",
       "                ],\n",
       "                [\n",
       "                    7.7,\n",
       "                    2.6,\n",
       "                    6.9\n",
       "                ],\n",
       "                [\n",
       "                    6.0,\n",
       "                    2.2,\n",
       "                    5.0\n",
       "                ],\n",
       "                [\n",
       "                    6.9,\n",
       "                    3.2,\n",
       "                    5.7\n",
       "                ],\n",
       "                [\n",
       "                    5.6,\n",
       "                    2.8,\n",
       "                    4.9\n",
       "                ],\n",
       "                [\n",
       "                    7.7,\n",
       "                    2.8,\n",
       "                    6.7\n",
       "                ],\n",
       "                [\n",
       "                    6.3,\n",
       "                    2.7,\n",
       "                    4.9\n",
       "                ],\n",
       "                [\n",
       "                    6.7,\n",
       "                    3.3,\n",
       "                    5.7\n",
       "                ],\n",
       "                [\n",
       "                    7.2,\n",
       "                    3.2,\n",
       "                    6.0\n",
       "                ],\n",
       "                [\n",
       "                    6.2,\n",
       "                    2.8,\n",
       "                    4.8\n",
       "                ],\n",
       "                [\n",
       "                    6.1,\n",
       "                    3.0,\n",
       "                    4.9\n",
       "                ],\n",
       "                [\n",
       "                    6.4,\n",
       "                    2.8,\n",
       "                    5.6\n",
       "                ],\n",
       "                [\n",
       "                    7.2,\n",
       "                    3.0,\n",
       "                    5.8\n",
       "                ],\n",
       "                [\n",
       "                    7.4,\n",
       "                    2.8,\n",
       "                    6.1\n",
       "                ],\n",
       "                [\n",
       "                    7.9,\n",
       "                    3.8,\n",
       "                    6.4\n",
       "                ],\n",
       "                [\n",
       "                    6.4,\n",
       "                    2.8,\n",
       "                    5.6\n",
       "                ],\n",
       "                [\n",
       "                    6.3,\n",
       "                    2.8,\n",
       "                    5.1\n",
       "                ],\n",
       "                [\n",
       "                    6.1,\n",
       "                    2.6,\n",
       "                    5.6\n",
       "                ],\n",
       "                [\n",
       "                    7.7,\n",
       "                    3.0,\n",
       "                    6.1\n",
       "                ],\n",
       "                [\n",
       "                    6.3,\n",
       "                    3.4,\n",
       "                    5.6\n",
       "                ],\n",
       "                [\n",
       "                    6.4,\n",
       "                    3.1,\n",
       "                    5.5\n",
       "                ],\n",
       "                [\n",
       "                    6.0,\n",
       "                    3.0,\n",
       "                    4.8\n",
       "                ],\n",
       "                [\n",
       "                    6.9,\n",
       "                    3.1,\n",
       "                    5.4\n",
       "                ],\n",
       "                [\n",
       "                    6.7,\n",
       "                    3.1,\n",
       "                    5.6\n",
       "                ],\n",
       "                [\n",
       "                    6.9,\n",
       "                    3.1,\n",
       "                    5.1\n",
       "                ],\n",
       "                [\n",
       "                    5.8,\n",
       "                    2.7,\n",
       "                    5.1\n",
       "                ],\n",
       "                [\n",
       "                    6.8,\n",
       "                    3.2,\n",
       "                    5.9\n",
       "                ],\n",
       "                [\n",
       "                    6.7,\n",
       "                    3.3,\n",
       "                    5.7\n",
       "                ],\n",
       "                [\n",
       "                    6.7,\n",
       "                    3.0,\n",
       "                    5.2\n",
       "                ],\n",
       "                [\n",
       "                    6.3,\n",
       "                    2.5,\n",
       "                    5.0\n",
       "                ],\n",
       "                [\n",
       "                    6.5,\n",
       "                    3.0,\n",
       "                    5.2\n",
       "                ],\n",
       "                [\n",
       "                    6.2,\n",
       "                    3.4,\n",
       "                    5.4\n",
       "                ],\n",
       "                [\n",
       "                    5.9,\n",
       "                    3.0,\n",
       "                    5.1\n",
       "                ]\n",
       "            ],\n",
       "            \"label\": {\n",
       "                \"normal\": {\n",
       "                    \"show\": false,\n",
       "                    \"position\": \"top\",\n",
       "                    \"textStyle\": {\n",
       "                        \"fontSize\": 12\n",
       "                    }\n",
       "                },\n",
       "                \"emphasis\": {\n",
       "                    \"show\": true,\n",
       "                    \"textStyle\": {\n",
       "                        \"fontSize\": 12\n",
       "                    }\n",
       "                }\n",
       "            },\n",
       "            \"itemStyle\": {\n",
       "                \"opacity\": 1\n",
       "            }\n",
       "        }\n",
       "    ],\n",
       "    \"legend\": [\n",
       "        {\n",
       "            \"data\": [\n",
       "                \"setosa\",\n",
       "                \"versicolor\",\n",
       "                \"virginica\"\n",
       "            ],\n",
       "            \"selectedMode\": \"multiple\",\n",
       "            \"show\": true,\n",
       "            \"left\": \"center\",\n",
       "            \"top\": \"top\",\n",
       "            \"orient\": \"horizontal\",\n",
       "            \"textStyle\": {\n",
       "                \"fontSize\": 12\n",
       "            }\n",
       "        }\n",
       "    ],\n",
       "    \"xAxis3D\": {\n",
       "        \"nameGap\": 20,\n",
       "        \"nameTextStyle\": {\n",
       "            \"fontSize\": 16\n",
       "        },\n",
       "        \"type\": \"value\",\n",
       "        \"axisLabel\": {\n",
       "            \"margin\": 8,\n",
       "            \"interval\": \"auto\"\n",
       "        }\n",
       "    },\n",
       "    \"yAxis3D\": {\n",
       "        \"nameGap\": 20,\n",
       "        \"nameTextStyle\": {\n",
       "            \"fontSize\": 16\n",
       "        },\n",
       "        \"type\": \"value\",\n",
       "        \"axisLabel\": {\n",
       "            \"margin\": 8,\n",
       "            \"interval\": \"auto\"\n",
       "        }\n",
       "    },\n",
       "    \"zAxis3D\": {\n",
       "        \"nameGap\": 20,\n",
       "        \"nameTextStyle\": {\n",
       "            \"fontSize\": 16\n",
       "        },\n",
       "        \"type\": \"value\",\n",
       "        \"axisLabel\": {\n",
       "            \"margin\": 8\n",
       "        }\n",
       "    },\n",
       "    \"grid3D\": {\n",
       "        \"boxWidth\": 100,\n",
       "        \"boxHeight\": 100,\n",
       "        \"boxDepth\": 100,\n",
       "        \"viewControl\": {\n",
       "            \"autoRotate\": false,\n",
       "            \"autoRotateSpeed\": 10,\n",
       "            \"rotateSensitivity\": 1\n",
       "        }\n",
       "    },\n",
       "    \"color\": []\n",
       "};\n",
       "myChart_c559a0a923344ce4afaccb77ab556273.setOption(option_c559a0a923344ce4afaccb77ab556273);\n",
       "\n",
       "    });\n",
       "</script>\n"
      ],
      "text/plain": [
       "<pyecharts.charts.scatter3D.Scatter3D at 0x1b4a4f76c88>"
      ]
     },
     "execution_count": 150,
     "metadata": {},
     "output_type": "execute_result"
    }
   ],
   "source": [
    "# 可视化\n",
    "from pyecharts import Scatter3D, Grid\n",
    "names = iris.target_names\n",
    "# 更改索引看不同的特征选择\n",
    "feas = combins[0]\n",
    "target = y\n",
    "scatter3D_ = Scatter3D(\"\", width=300, height=300)\n",
    "scatter3D_.use_theme(\"dark\")\n",
    "data = []\n",
    "for idx in range(3):\n",
    "    data = X[target == idx][:, feas]\n",
    "    scatter3D_.add(names[idx], data)\n",
    "scatter3D_"
   ]
  },
  {
   "cell_type": "markdown",
   "metadata": {},
   "source": [
    "1. 可以尝试注释部分的不同的组合, 旋转坐标轴看在不同组合的空间里，大概这些类别是可以分开的\n",
    "1. 思考两个问题：\n",
    "    1. 是不是可以把数据的维度降低到3或者更少\n",
    "    1. 有没有量化的指标可以代替我们可视化的这个过程。\n"
   ]
  },
  {
   "cell_type": "code",
   "execution_count": null,
   "metadata": {
    "collapsed": true
   },
   "outputs": [],
   "source": []
  }
 ],
 "metadata": {
  "kernelspec": {
   "display_name": "Python 3",
   "language": "python",
   "name": "python3"
  },
  "language_info": {
   "codemirror_mode": {
    "name": "ipython",
    "version": 3
   },
   "file_extension": ".py",
   "mimetype": "text/x-python",
   "name": "python",
   "nbconvert_exporter": "python",
   "pygments_lexer": "ipython3",
   "version": "3.6.3"
  },
  "toc": {
   "base_numbering": 1,
   "nav_menu": {},
   "number_sections": true,
   "sideBar": true,
   "skip_h1_title": true,
   "title_cell": "Table of Contents",
   "title_sidebar": "Contents",
   "toc_cell": false,
   "toc_position": {},
   "toc_section_display": true,
   "toc_window_display": true
  }
 },
 "nbformat": 4,
 "nbformat_minor": 2
}
